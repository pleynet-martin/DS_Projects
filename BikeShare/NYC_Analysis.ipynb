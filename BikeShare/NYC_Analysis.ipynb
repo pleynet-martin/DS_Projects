{
 "cells": [
  {
   "cell_type": "code",
   "execution_count": 1,
   "metadata": {},
   "outputs": [],
   "source": [
    "import pandas as pd\n",
    "import os\n",
    "import matplotlib.pyplot as plt\n",
    "import numpy as np\n",
    "import seaborn as sns\n",
    "from scipy import stats\n",
    "from math import *"
   ]
  },
  {
   "cell_type": "code",
   "execution_count": 15,
   "metadata": {},
   "outputs": [],
   "source": [
    "files = [file for file in os.listdir(\"./201719Data\")]\n",
    "all_years_data = pd.DataFrame()\n",
    "for file in files:\n",
    "    df = pd.read_csv(\"./201719Data/\"+file)\n",
    "    all_years_data = pd.concat([all_years_data, df])\n",
    "\n",
    "all_years_data.to_csv(\"201719NYC.csv\", index=False)"
   ]
  },
  {
   "cell_type": "code",
   "execution_count": 2,
   "metadata": {},
   "outputs": [],
   "source": [
    "all_data = pd.read_csv(\"201719NYC.csv\")"
   ]
  },
  {
   "cell_type": "code",
   "execution_count": 3,
   "metadata": {
    "scrolled": true
   },
   "outputs": [
    {
     "data": {
      "text/html": [
       "<div>\n",
       "<style scoped>\n",
       "    .dataframe tbody tr th:only-of-type {\n",
       "        vertical-align: middle;\n",
       "    }\n",
       "\n",
       "    .dataframe tbody tr th {\n",
       "        vertical-align: top;\n",
       "    }\n",
       "\n",
       "    .dataframe thead th {\n",
       "        text-align: right;\n",
       "    }\n",
       "</style>\n",
       "<table border=\"1\" class=\"dataframe\">\n",
       "  <thead>\n",
       "    <tr style=\"text-align: right;\">\n",
       "      <th></th>\n",
       "      <th>tripduration</th>\n",
       "      <th>starttime</th>\n",
       "      <th>stoptime</th>\n",
       "      <th>start station id</th>\n",
       "      <th>start station name</th>\n",
       "      <th>start station latitude</th>\n",
       "      <th>start station longitude</th>\n",
       "      <th>end station id</th>\n",
       "      <th>end station name</th>\n",
       "      <th>end station latitude</th>\n",
       "      <th>end station longitude</th>\n",
       "      <th>bikeid</th>\n",
       "      <th>usertype</th>\n",
       "      <th>birth year</th>\n",
       "      <th>gender</th>\n",
       "    </tr>\n",
       "  </thead>\n",
       "  <tbody>\n",
       "    <tr>\n",
       "      <th>0</th>\n",
       "      <td>362</td>\n",
       "      <td>2017-09-01 00:00:17</td>\n",
       "      <td>2017-09-01 00:06:19</td>\n",
       "      <td>3331.0</td>\n",
       "      <td>Riverside Dr &amp; W 104 St</td>\n",
       "      <td>40.801343</td>\n",
       "      <td>-73.971146</td>\n",
       "      <td>3328.0</td>\n",
       "      <td>W 100 St &amp; Manhattan Ave</td>\n",
       "      <td>40.795000</td>\n",
       "      <td>-73.964500</td>\n",
       "      <td>14530</td>\n",
       "      <td>Subscriber</td>\n",
       "      <td>1993.0</td>\n",
       "      <td>1</td>\n",
       "    </tr>\n",
       "    <tr>\n",
       "      <th>1</th>\n",
       "      <td>188</td>\n",
       "      <td>2017-09-01 00:00:21</td>\n",
       "      <td>2017-09-01 00:03:30</td>\n",
       "      <td>3101.0</td>\n",
       "      <td>N 12 St &amp; Bedford Ave</td>\n",
       "      <td>40.720798</td>\n",
       "      <td>-73.954847</td>\n",
       "      <td>3100.0</td>\n",
       "      <td>Nassau Ave &amp; Newell St</td>\n",
       "      <td>40.724813</td>\n",
       "      <td>-73.947526</td>\n",
       "      <td>15475</td>\n",
       "      <td>Subscriber</td>\n",
       "      <td>1988.0</td>\n",
       "      <td>1</td>\n",
       "    </tr>\n",
       "    <tr>\n",
       "      <th>2</th>\n",
       "      <td>305</td>\n",
       "      <td>2017-09-01 00:00:25</td>\n",
       "      <td>2017-09-01 00:05:30</td>\n",
       "      <td>3140.0</td>\n",
       "      <td>1 Ave &amp; E 78 St</td>\n",
       "      <td>40.771404</td>\n",
       "      <td>-73.953517</td>\n",
       "      <td>3141.0</td>\n",
       "      <td>1 Ave &amp; E 68 St</td>\n",
       "      <td>40.765005</td>\n",
       "      <td>-73.958185</td>\n",
       "      <td>30346</td>\n",
       "      <td>Subscriber</td>\n",
       "      <td>1969.0</td>\n",
       "      <td>1</td>\n",
       "    </tr>\n",
       "    <tr>\n",
       "      <th>3</th>\n",
       "      <td>223</td>\n",
       "      <td>2017-09-01 00:00:52</td>\n",
       "      <td>2017-09-01 00:04:36</td>\n",
       "      <td>236.0</td>\n",
       "      <td>St Marks Pl &amp; 2 Ave</td>\n",
       "      <td>40.728419</td>\n",
       "      <td>-73.987140</td>\n",
       "      <td>473.0</td>\n",
       "      <td>Rivington St &amp; Chrystie St</td>\n",
       "      <td>40.721101</td>\n",
       "      <td>-73.991925</td>\n",
       "      <td>28056</td>\n",
       "      <td>Subscriber</td>\n",
       "      <td>1993.0</td>\n",
       "      <td>1</td>\n",
       "    </tr>\n",
       "    <tr>\n",
       "      <th>4</th>\n",
       "      <td>758</td>\n",
       "      <td>2017-09-01 00:01:01</td>\n",
       "      <td>2017-09-01 00:13:40</td>\n",
       "      <td>3427.0</td>\n",
       "      <td>Lafayette St &amp; Jersey St</td>\n",
       "      <td>40.724305</td>\n",
       "      <td>-73.996010</td>\n",
       "      <td>3431.0</td>\n",
       "      <td>E 35 St &amp; 3 Ave</td>\n",
       "      <td>40.746524</td>\n",
       "      <td>-73.977885</td>\n",
       "      <td>25413</td>\n",
       "      <td>Subscriber</td>\n",
       "      <td>1987.0</td>\n",
       "      <td>1</td>\n",
       "    </tr>\n",
       "  </tbody>\n",
       "</table>\n",
       "</div>"
      ],
      "text/plain": [
       "   tripduration            starttime             stoptime  start station id  \\\n",
       "0           362  2017-09-01 00:00:17  2017-09-01 00:06:19            3331.0   \n",
       "1           188  2017-09-01 00:00:21  2017-09-01 00:03:30            3101.0   \n",
       "2           305  2017-09-01 00:00:25  2017-09-01 00:05:30            3140.0   \n",
       "3           223  2017-09-01 00:00:52  2017-09-01 00:04:36             236.0   \n",
       "4           758  2017-09-01 00:01:01  2017-09-01 00:13:40            3427.0   \n",
       "\n",
       "         start station name  start station latitude  start station longitude  \\\n",
       "0   Riverside Dr & W 104 St               40.801343               -73.971146   \n",
       "1     N 12 St & Bedford Ave               40.720798               -73.954847   \n",
       "2           1 Ave & E 78 St               40.771404               -73.953517   \n",
       "3       St Marks Pl & 2 Ave               40.728419               -73.987140   \n",
       "4  Lafayette St & Jersey St               40.724305               -73.996010   \n",
       "\n",
       "   end station id            end station name  end station latitude  \\\n",
       "0          3328.0    W 100 St & Manhattan Ave             40.795000   \n",
       "1          3100.0      Nassau Ave & Newell St             40.724813   \n",
       "2          3141.0             1 Ave & E 68 St             40.765005   \n",
       "3           473.0  Rivington St & Chrystie St             40.721101   \n",
       "4          3431.0             E 35 St & 3 Ave             40.746524   \n",
       "\n",
       "   end station longitude  bikeid    usertype  birth year  gender  \n",
       "0             -73.964500   14530  Subscriber      1993.0       1  \n",
       "1             -73.947526   15475  Subscriber      1988.0       1  \n",
       "2             -73.958185   30346  Subscriber      1969.0       1  \n",
       "3             -73.991925   28056  Subscriber      1993.0       1  \n",
       "4             -73.977885   25413  Subscriber      1987.0       1  "
      ]
     },
     "execution_count": 3,
     "metadata": {},
     "output_type": "execute_result"
    }
   ],
   "source": [
    "all_data.head()"
   ]
  },
  {
   "cell_type": "code",
   "execution_count": 4,
   "metadata": {},
   "outputs": [],
   "source": [
    "del all_data['start station id']\n",
    "del all_data['start station latitude']\n",
    "del all_data['start station longitude']\n",
    "del all_data['end station id']\n",
    "del all_data['end station latitude']\n",
    "del all_data['end station longitude']"
   ]
  },
  {
   "cell_type": "code",
   "execution_count": 5,
   "metadata": {},
   "outputs": [
    {
     "data": {
      "text/html": [
       "<div>\n",
       "<style scoped>\n",
       "    .dataframe tbody tr th:only-of-type {\n",
       "        vertical-align: middle;\n",
       "    }\n",
       "\n",
       "    .dataframe tbody tr th {\n",
       "        vertical-align: top;\n",
       "    }\n",
       "\n",
       "    .dataframe thead th {\n",
       "        text-align: right;\n",
       "    }\n",
       "</style>\n",
       "<table border=\"1\" class=\"dataframe\">\n",
       "  <thead>\n",
       "    <tr style=\"text-align: right;\">\n",
       "      <th></th>\n",
       "      <th>tripduration</th>\n",
       "      <th>starttime</th>\n",
       "      <th>stoptime</th>\n",
       "      <th>start station name</th>\n",
       "      <th>end station name</th>\n",
       "      <th>bikeid</th>\n",
       "      <th>usertype</th>\n",
       "      <th>birth year</th>\n",
       "      <th>gender</th>\n",
       "    </tr>\n",
       "  </thead>\n",
       "  <tbody>\n",
       "    <tr>\n",
       "      <th>0</th>\n",
       "      <td>362</td>\n",
       "      <td>2017-09-01 00:00:17</td>\n",
       "      <td>2017-09-01 00:06:19</td>\n",
       "      <td>Riverside Dr &amp; W 104 St</td>\n",
       "      <td>W 100 St &amp; Manhattan Ave</td>\n",
       "      <td>14530</td>\n",
       "      <td>Subscriber</td>\n",
       "      <td>1993.0</td>\n",
       "      <td>1</td>\n",
       "    </tr>\n",
       "    <tr>\n",
       "      <th>1</th>\n",
       "      <td>188</td>\n",
       "      <td>2017-09-01 00:00:21</td>\n",
       "      <td>2017-09-01 00:03:30</td>\n",
       "      <td>N 12 St &amp; Bedford Ave</td>\n",
       "      <td>Nassau Ave &amp; Newell St</td>\n",
       "      <td>15475</td>\n",
       "      <td>Subscriber</td>\n",
       "      <td>1988.0</td>\n",
       "      <td>1</td>\n",
       "    </tr>\n",
       "    <tr>\n",
       "      <th>2</th>\n",
       "      <td>305</td>\n",
       "      <td>2017-09-01 00:00:25</td>\n",
       "      <td>2017-09-01 00:05:30</td>\n",
       "      <td>1 Ave &amp; E 78 St</td>\n",
       "      <td>1 Ave &amp; E 68 St</td>\n",
       "      <td>30346</td>\n",
       "      <td>Subscriber</td>\n",
       "      <td>1969.0</td>\n",
       "      <td>1</td>\n",
       "    </tr>\n",
       "    <tr>\n",
       "      <th>3</th>\n",
       "      <td>223</td>\n",
       "      <td>2017-09-01 00:00:52</td>\n",
       "      <td>2017-09-01 00:04:36</td>\n",
       "      <td>St Marks Pl &amp; 2 Ave</td>\n",
       "      <td>Rivington St &amp; Chrystie St</td>\n",
       "      <td>28056</td>\n",
       "      <td>Subscriber</td>\n",
       "      <td>1993.0</td>\n",
       "      <td>1</td>\n",
       "    </tr>\n",
       "    <tr>\n",
       "      <th>4</th>\n",
       "      <td>758</td>\n",
       "      <td>2017-09-01 00:01:01</td>\n",
       "      <td>2017-09-01 00:13:40</td>\n",
       "      <td>Lafayette St &amp; Jersey St</td>\n",
       "      <td>E 35 St &amp; 3 Ave</td>\n",
       "      <td>25413</td>\n",
       "      <td>Subscriber</td>\n",
       "      <td>1987.0</td>\n",
       "      <td>1</td>\n",
       "    </tr>\n",
       "  </tbody>\n",
       "</table>\n",
       "</div>"
      ],
      "text/plain": [
       "   tripduration            starttime             stoptime  \\\n",
       "0           362  2017-09-01 00:00:17  2017-09-01 00:06:19   \n",
       "1           188  2017-09-01 00:00:21  2017-09-01 00:03:30   \n",
       "2           305  2017-09-01 00:00:25  2017-09-01 00:05:30   \n",
       "3           223  2017-09-01 00:00:52  2017-09-01 00:04:36   \n",
       "4           758  2017-09-01 00:01:01  2017-09-01 00:13:40   \n",
       "\n",
       "         start station name            end station name  bikeid    usertype  \\\n",
       "0   Riverside Dr & W 104 St    W 100 St & Manhattan Ave   14530  Subscriber   \n",
       "1     N 12 St & Bedford Ave      Nassau Ave & Newell St   15475  Subscriber   \n",
       "2           1 Ave & E 78 St             1 Ave & E 68 St   30346  Subscriber   \n",
       "3       St Marks Pl & 2 Ave  Rivington St & Chrystie St   28056  Subscriber   \n",
       "4  Lafayette St & Jersey St             E 35 St & 3 Ave   25413  Subscriber   \n",
       "\n",
       "   birth year  gender  \n",
       "0      1993.0       1  \n",
       "1      1988.0       1  \n",
       "2      1969.0       1  \n",
       "3      1993.0       1  \n",
       "4      1987.0       1  "
      ]
     },
     "execution_count": 5,
     "metadata": {},
     "output_type": "execute_result"
    }
   ],
   "source": [
    "all_data.head()"
   ]
  },
  {
   "cell_type": "code",
   "execution_count": 6,
   "metadata": {},
   "outputs": [],
   "source": [
    "all_data['starttime'] = pd.to_datetime(all_data[\"starttime\"])\n",
    "all_data['stoptime'] = pd.to_datetime(all_data[\"stoptime\"])\n",
    "all_data['year'] = all_data[\"starttime\"].dt.year\n",
    "all_data['month'] = all_data[\"starttime\"].dt.month"
   ]
  },
  {
   "cell_type": "code",
   "execution_count": 7,
   "metadata": {},
   "outputs": [
    {
     "data": {
      "text/html": [
       "<div>\n",
       "<style scoped>\n",
       "    .dataframe tbody tr th:only-of-type {\n",
       "        vertical-align: middle;\n",
       "    }\n",
       "\n",
       "    .dataframe tbody tr th {\n",
       "        vertical-align: top;\n",
       "    }\n",
       "\n",
       "    .dataframe thead th {\n",
       "        text-align: right;\n",
       "    }\n",
       "</style>\n",
       "<table border=\"1\" class=\"dataframe\">\n",
       "  <thead>\n",
       "    <tr style=\"text-align: right;\">\n",
       "      <th></th>\n",
       "      <th>tripduration</th>\n",
       "      <th>starttime</th>\n",
       "      <th>stoptime</th>\n",
       "      <th>start station name</th>\n",
       "      <th>end station name</th>\n",
       "      <th>bikeid</th>\n",
       "      <th>usertype</th>\n",
       "      <th>birth year</th>\n",
       "      <th>gender</th>\n",
       "      <th>year</th>\n",
       "      <th>month</th>\n",
       "    </tr>\n",
       "  </thead>\n",
       "  <tbody>\n",
       "    <tr>\n",
       "      <th>0</th>\n",
       "      <td>362</td>\n",
       "      <td>2017-09-01 00:00:17</td>\n",
       "      <td>2017-09-01 00:06:19</td>\n",
       "      <td>Riverside Dr &amp; W 104 St</td>\n",
       "      <td>W 100 St &amp; Manhattan Ave</td>\n",
       "      <td>14530</td>\n",
       "      <td>Subscriber</td>\n",
       "      <td>1993.0</td>\n",
       "      <td>1</td>\n",
       "      <td>2017</td>\n",
       "      <td>9</td>\n",
       "    </tr>\n",
       "    <tr>\n",
       "      <th>1</th>\n",
       "      <td>188</td>\n",
       "      <td>2017-09-01 00:00:21</td>\n",
       "      <td>2017-09-01 00:03:30</td>\n",
       "      <td>N 12 St &amp; Bedford Ave</td>\n",
       "      <td>Nassau Ave &amp; Newell St</td>\n",
       "      <td>15475</td>\n",
       "      <td>Subscriber</td>\n",
       "      <td>1988.0</td>\n",
       "      <td>1</td>\n",
       "      <td>2017</td>\n",
       "      <td>9</td>\n",
       "    </tr>\n",
       "    <tr>\n",
       "      <th>2</th>\n",
       "      <td>305</td>\n",
       "      <td>2017-09-01 00:00:25</td>\n",
       "      <td>2017-09-01 00:05:30</td>\n",
       "      <td>1 Ave &amp; E 78 St</td>\n",
       "      <td>1 Ave &amp; E 68 St</td>\n",
       "      <td>30346</td>\n",
       "      <td>Subscriber</td>\n",
       "      <td>1969.0</td>\n",
       "      <td>1</td>\n",
       "      <td>2017</td>\n",
       "      <td>9</td>\n",
       "    </tr>\n",
       "    <tr>\n",
       "      <th>3</th>\n",
       "      <td>223</td>\n",
       "      <td>2017-09-01 00:00:52</td>\n",
       "      <td>2017-09-01 00:04:36</td>\n",
       "      <td>St Marks Pl &amp; 2 Ave</td>\n",
       "      <td>Rivington St &amp; Chrystie St</td>\n",
       "      <td>28056</td>\n",
       "      <td>Subscriber</td>\n",
       "      <td>1993.0</td>\n",
       "      <td>1</td>\n",
       "      <td>2017</td>\n",
       "      <td>9</td>\n",
       "    </tr>\n",
       "    <tr>\n",
       "      <th>4</th>\n",
       "      <td>758</td>\n",
       "      <td>2017-09-01 00:01:01</td>\n",
       "      <td>2017-09-01 00:13:40</td>\n",
       "      <td>Lafayette St &amp; Jersey St</td>\n",
       "      <td>E 35 St &amp; 3 Ave</td>\n",
       "      <td>25413</td>\n",
       "      <td>Subscriber</td>\n",
       "      <td>1987.0</td>\n",
       "      <td>1</td>\n",
       "      <td>2017</td>\n",
       "      <td>9</td>\n",
       "    </tr>\n",
       "  </tbody>\n",
       "</table>\n",
       "</div>"
      ],
      "text/plain": [
       "   tripduration           starttime            stoptime  \\\n",
       "0           362 2017-09-01 00:00:17 2017-09-01 00:06:19   \n",
       "1           188 2017-09-01 00:00:21 2017-09-01 00:03:30   \n",
       "2           305 2017-09-01 00:00:25 2017-09-01 00:05:30   \n",
       "3           223 2017-09-01 00:00:52 2017-09-01 00:04:36   \n",
       "4           758 2017-09-01 00:01:01 2017-09-01 00:13:40   \n",
       "\n",
       "         start station name            end station name  bikeid    usertype  \\\n",
       "0   Riverside Dr & W 104 St    W 100 St & Manhattan Ave   14530  Subscriber   \n",
       "1     N 12 St & Bedford Ave      Nassau Ave & Newell St   15475  Subscriber   \n",
       "2           1 Ave & E 78 St             1 Ave & E 68 St   30346  Subscriber   \n",
       "3       St Marks Pl & 2 Ave  Rivington St & Chrystie St   28056  Subscriber   \n",
       "4  Lafayette St & Jersey St             E 35 St & 3 Ave   25413  Subscriber   \n",
       "\n",
       "   birth year  gender  year  month  \n",
       "0      1993.0       1  2017      9  \n",
       "1      1988.0       1  2017      9  \n",
       "2      1969.0       1  2017      9  \n",
       "3      1993.0       1  2017      9  \n",
       "4      1987.0       1  2017      9  "
      ]
     },
     "execution_count": 7,
     "metadata": {},
     "output_type": "execute_result"
    }
   ],
   "source": [
    "all_data.head()"
   ]
  },
  {
   "cell_type": "code",
   "execution_count": 8,
   "metadata": {},
   "outputs": [],
   "source": [
    "all_data['start_hour'] = all_data['starttime'].dt.hour\n",
    "all_data['day_of_week'] = all_data['starttime'].dt.day_name()"
   ]
  },
  {
   "cell_type": "code",
   "execution_count": 9,
   "metadata": {},
   "outputs": [
    {
     "data": {
      "text/html": [
       "<div>\n",
       "<style scoped>\n",
       "    .dataframe tbody tr th:only-of-type {\n",
       "        vertical-align: middle;\n",
       "    }\n",
       "\n",
       "    .dataframe tbody tr th {\n",
       "        vertical-align: top;\n",
       "    }\n",
       "\n",
       "    .dataframe thead th {\n",
       "        text-align: right;\n",
       "    }\n",
       "</style>\n",
       "<table border=\"1\" class=\"dataframe\">\n",
       "  <thead>\n",
       "    <tr style=\"text-align: right;\">\n",
       "      <th></th>\n",
       "      <th>tripduration</th>\n",
       "      <th>starttime</th>\n",
       "      <th>stoptime</th>\n",
       "      <th>start station name</th>\n",
       "      <th>end station name</th>\n",
       "      <th>bikeid</th>\n",
       "      <th>usertype</th>\n",
       "      <th>birth year</th>\n",
       "      <th>gender</th>\n",
       "      <th>year</th>\n",
       "      <th>month</th>\n",
       "      <th>start_hour</th>\n",
       "      <th>day_of_week</th>\n",
       "    </tr>\n",
       "  </thead>\n",
       "  <tbody>\n",
       "    <tr>\n",
       "      <th>0</th>\n",
       "      <td>362</td>\n",
       "      <td>2017-09-01 00:00:17</td>\n",
       "      <td>2017-09-01 00:06:19</td>\n",
       "      <td>Riverside Dr &amp; W 104 St</td>\n",
       "      <td>W 100 St &amp; Manhattan Ave</td>\n",
       "      <td>14530</td>\n",
       "      <td>Subscriber</td>\n",
       "      <td>1993.0</td>\n",
       "      <td>1</td>\n",
       "      <td>2017</td>\n",
       "      <td>9</td>\n",
       "      <td>0</td>\n",
       "      <td>Friday</td>\n",
       "    </tr>\n",
       "    <tr>\n",
       "      <th>1</th>\n",
       "      <td>188</td>\n",
       "      <td>2017-09-01 00:00:21</td>\n",
       "      <td>2017-09-01 00:03:30</td>\n",
       "      <td>N 12 St &amp; Bedford Ave</td>\n",
       "      <td>Nassau Ave &amp; Newell St</td>\n",
       "      <td>15475</td>\n",
       "      <td>Subscriber</td>\n",
       "      <td>1988.0</td>\n",
       "      <td>1</td>\n",
       "      <td>2017</td>\n",
       "      <td>9</td>\n",
       "      <td>0</td>\n",
       "      <td>Friday</td>\n",
       "    </tr>\n",
       "    <tr>\n",
       "      <th>2</th>\n",
       "      <td>305</td>\n",
       "      <td>2017-09-01 00:00:25</td>\n",
       "      <td>2017-09-01 00:05:30</td>\n",
       "      <td>1 Ave &amp; E 78 St</td>\n",
       "      <td>1 Ave &amp; E 68 St</td>\n",
       "      <td>30346</td>\n",
       "      <td>Subscriber</td>\n",
       "      <td>1969.0</td>\n",
       "      <td>1</td>\n",
       "      <td>2017</td>\n",
       "      <td>9</td>\n",
       "      <td>0</td>\n",
       "      <td>Friday</td>\n",
       "    </tr>\n",
       "    <tr>\n",
       "      <th>3</th>\n",
       "      <td>223</td>\n",
       "      <td>2017-09-01 00:00:52</td>\n",
       "      <td>2017-09-01 00:04:36</td>\n",
       "      <td>St Marks Pl &amp; 2 Ave</td>\n",
       "      <td>Rivington St &amp; Chrystie St</td>\n",
       "      <td>28056</td>\n",
       "      <td>Subscriber</td>\n",
       "      <td>1993.0</td>\n",
       "      <td>1</td>\n",
       "      <td>2017</td>\n",
       "      <td>9</td>\n",
       "      <td>0</td>\n",
       "      <td>Friday</td>\n",
       "    </tr>\n",
       "    <tr>\n",
       "      <th>4</th>\n",
       "      <td>758</td>\n",
       "      <td>2017-09-01 00:01:01</td>\n",
       "      <td>2017-09-01 00:13:40</td>\n",
       "      <td>Lafayette St &amp; Jersey St</td>\n",
       "      <td>E 35 St &amp; 3 Ave</td>\n",
       "      <td>25413</td>\n",
       "      <td>Subscriber</td>\n",
       "      <td>1987.0</td>\n",
       "      <td>1</td>\n",
       "      <td>2017</td>\n",
       "      <td>9</td>\n",
       "      <td>0</td>\n",
       "      <td>Friday</td>\n",
       "    </tr>\n",
       "  </tbody>\n",
       "</table>\n",
       "</div>"
      ],
      "text/plain": [
       "   tripduration           starttime            stoptime  \\\n",
       "0           362 2017-09-01 00:00:17 2017-09-01 00:06:19   \n",
       "1           188 2017-09-01 00:00:21 2017-09-01 00:03:30   \n",
       "2           305 2017-09-01 00:00:25 2017-09-01 00:05:30   \n",
       "3           223 2017-09-01 00:00:52 2017-09-01 00:04:36   \n",
       "4           758 2017-09-01 00:01:01 2017-09-01 00:13:40   \n",
       "\n",
       "         start station name            end station name  bikeid    usertype  \\\n",
       "0   Riverside Dr & W 104 St    W 100 St & Manhattan Ave   14530  Subscriber   \n",
       "1     N 12 St & Bedford Ave      Nassau Ave & Newell St   15475  Subscriber   \n",
       "2           1 Ave & E 78 St             1 Ave & E 68 St   30346  Subscriber   \n",
       "3       St Marks Pl & 2 Ave  Rivington St & Chrystie St   28056  Subscriber   \n",
       "4  Lafayette St & Jersey St             E 35 St & 3 Ave   25413  Subscriber   \n",
       "\n",
       "   birth year  gender  year  month  start_hour day_of_week  \n",
       "0      1993.0       1  2017      9           0      Friday  \n",
       "1      1988.0       1  2017      9           0      Friday  \n",
       "2      1969.0       1  2017      9           0      Friday  \n",
       "3      1993.0       1  2017      9           0      Friday  \n",
       "4      1987.0       1  2017      9           0      Friday  "
      ]
     },
     "execution_count": 9,
     "metadata": {},
     "output_type": "execute_result"
    }
   ],
   "source": [
    "all_data.head()"
   ]
  },
  {
   "cell_type": "code",
   "execution_count": 10,
   "metadata": {},
   "outputs": [
    {
     "data": {
      "text/html": [
       "<div>\n",
       "<style scoped>\n",
       "    .dataframe tbody tr th:only-of-type {\n",
       "        vertical-align: middle;\n",
       "    }\n",
       "\n",
       "    .dataframe tbody tr th {\n",
       "        vertical-align: top;\n",
       "    }\n",
       "\n",
       "    .dataframe thead th {\n",
       "        text-align: right;\n",
       "    }\n",
       "</style>\n",
       "<table border=\"1\" class=\"dataframe\">\n",
       "  <thead>\n",
       "    <tr style=\"text-align: right;\">\n",
       "      <th></th>\n",
       "      <th>tripduration</th>\n",
       "      <th>starttime</th>\n",
       "      <th>stoptime</th>\n",
       "      <th>start station name</th>\n",
       "      <th>end station name</th>\n",
       "      <th>bikeid</th>\n",
       "      <th>usertype</th>\n",
       "      <th>birth year</th>\n",
       "      <th>gender</th>\n",
       "      <th>year</th>\n",
       "      <th>month</th>\n",
       "      <th>start_hour</th>\n",
       "      <th>day_of_week</th>\n",
       "    </tr>\n",
       "  </thead>\n",
       "  <tbody>\n",
       "    <tr>\n",
       "      <th>0</th>\n",
       "      <td>6.033333</td>\n",
       "      <td>2017-09-01 00:00:17</td>\n",
       "      <td>2017-09-01 00:06:19</td>\n",
       "      <td>Riverside Dr &amp; W 104 St</td>\n",
       "      <td>W 100 St &amp; Manhattan Ave</td>\n",
       "      <td>14530</td>\n",
       "      <td>Subscriber</td>\n",
       "      <td>1993.0</td>\n",
       "      <td>1</td>\n",
       "      <td>2017</td>\n",
       "      <td>9</td>\n",
       "      <td>0</td>\n",
       "      <td>Friday</td>\n",
       "    </tr>\n",
       "    <tr>\n",
       "      <th>1</th>\n",
       "      <td>3.133333</td>\n",
       "      <td>2017-09-01 00:00:21</td>\n",
       "      <td>2017-09-01 00:03:30</td>\n",
       "      <td>N 12 St &amp; Bedford Ave</td>\n",
       "      <td>Nassau Ave &amp; Newell St</td>\n",
       "      <td>15475</td>\n",
       "      <td>Subscriber</td>\n",
       "      <td>1988.0</td>\n",
       "      <td>1</td>\n",
       "      <td>2017</td>\n",
       "      <td>9</td>\n",
       "      <td>0</td>\n",
       "      <td>Friday</td>\n",
       "    </tr>\n",
       "    <tr>\n",
       "      <th>2</th>\n",
       "      <td>5.083333</td>\n",
       "      <td>2017-09-01 00:00:25</td>\n",
       "      <td>2017-09-01 00:05:30</td>\n",
       "      <td>1 Ave &amp; E 78 St</td>\n",
       "      <td>1 Ave &amp; E 68 St</td>\n",
       "      <td>30346</td>\n",
       "      <td>Subscriber</td>\n",
       "      <td>1969.0</td>\n",
       "      <td>1</td>\n",
       "      <td>2017</td>\n",
       "      <td>9</td>\n",
       "      <td>0</td>\n",
       "      <td>Friday</td>\n",
       "    </tr>\n",
       "    <tr>\n",
       "      <th>3</th>\n",
       "      <td>3.716667</td>\n",
       "      <td>2017-09-01 00:00:52</td>\n",
       "      <td>2017-09-01 00:04:36</td>\n",
       "      <td>St Marks Pl &amp; 2 Ave</td>\n",
       "      <td>Rivington St &amp; Chrystie St</td>\n",
       "      <td>28056</td>\n",
       "      <td>Subscriber</td>\n",
       "      <td>1993.0</td>\n",
       "      <td>1</td>\n",
       "      <td>2017</td>\n",
       "      <td>9</td>\n",
       "      <td>0</td>\n",
       "      <td>Friday</td>\n",
       "    </tr>\n",
       "    <tr>\n",
       "      <th>4</th>\n",
       "      <td>12.633333</td>\n",
       "      <td>2017-09-01 00:01:01</td>\n",
       "      <td>2017-09-01 00:13:40</td>\n",
       "      <td>Lafayette St &amp; Jersey St</td>\n",
       "      <td>E 35 St &amp; 3 Ave</td>\n",
       "      <td>25413</td>\n",
       "      <td>Subscriber</td>\n",
       "      <td>1987.0</td>\n",
       "      <td>1</td>\n",
       "      <td>2017</td>\n",
       "      <td>9</td>\n",
       "      <td>0</td>\n",
       "      <td>Friday</td>\n",
       "    </tr>\n",
       "  </tbody>\n",
       "</table>\n",
       "</div>"
      ],
      "text/plain": [
       "   tripduration           starttime            stoptime  \\\n",
       "0      6.033333 2017-09-01 00:00:17 2017-09-01 00:06:19   \n",
       "1      3.133333 2017-09-01 00:00:21 2017-09-01 00:03:30   \n",
       "2      5.083333 2017-09-01 00:00:25 2017-09-01 00:05:30   \n",
       "3      3.716667 2017-09-01 00:00:52 2017-09-01 00:04:36   \n",
       "4     12.633333 2017-09-01 00:01:01 2017-09-01 00:13:40   \n",
       "\n",
       "         start station name            end station name  bikeid    usertype  \\\n",
       "0   Riverside Dr & W 104 St    W 100 St & Manhattan Ave   14530  Subscriber   \n",
       "1     N 12 St & Bedford Ave      Nassau Ave & Newell St   15475  Subscriber   \n",
       "2           1 Ave & E 78 St             1 Ave & E 68 St   30346  Subscriber   \n",
       "3       St Marks Pl & 2 Ave  Rivington St & Chrystie St   28056  Subscriber   \n",
       "4  Lafayette St & Jersey St             E 35 St & 3 Ave   25413  Subscriber   \n",
       "\n",
       "   birth year  gender  year  month  start_hour day_of_week  \n",
       "0      1993.0       1  2017      9           0      Friday  \n",
       "1      1988.0       1  2017      9           0      Friday  \n",
       "2      1969.0       1  2017      9           0      Friday  \n",
       "3      1993.0       1  2017      9           0      Friday  \n",
       "4      1987.0       1  2017      9           0      Friday  "
      ]
     },
     "execution_count": 10,
     "metadata": {},
     "output_type": "execute_result"
    }
   ],
   "source": [
    "all_data['tripduration'] = all_data['tripduration'].astype('float')\n",
    "all_data['tripduration'] = all_data['tripduration']/60\n",
    "all_data.head()"
   ]
  },
  {
   "cell_type": "code",
   "execution_count": 11,
   "metadata": {},
   "outputs": [],
   "source": [
    "# Save cleaned data to a csv file to begin analysis\n",
    "cleaned_data = all_data\n",
    "cleaned_data.to_csv(\"201719NYCCleaned.csv\", index=False)"
   ]
  },
  {
   "cell_type": "code",
   "execution_count": 3,
   "metadata": {
    "scrolled": true
   },
   "outputs": [
    {
     "data": {
      "text/html": [
       "<div>\n",
       "<style scoped>\n",
       "    .dataframe tbody tr th:only-of-type {\n",
       "        vertical-align: middle;\n",
       "    }\n",
       "\n",
       "    .dataframe tbody tr th {\n",
       "        vertical-align: top;\n",
       "    }\n",
       "\n",
       "    .dataframe thead th {\n",
       "        text-align: right;\n",
       "    }\n",
       "</style>\n",
       "<table border=\"1\" class=\"dataframe\">\n",
       "  <thead>\n",
       "    <tr style=\"text-align: right;\">\n",
       "      <th></th>\n",
       "      <th>tripduration</th>\n",
       "      <th>starttime</th>\n",
       "      <th>stoptime</th>\n",
       "      <th>start station name</th>\n",
       "      <th>end station name</th>\n",
       "      <th>bikeid</th>\n",
       "      <th>usertype</th>\n",
       "      <th>birth year</th>\n",
       "      <th>gender</th>\n",
       "      <th>year</th>\n",
       "      <th>month</th>\n",
       "      <th>start_hour</th>\n",
       "      <th>day_of_week</th>\n",
       "    </tr>\n",
       "  </thead>\n",
       "  <tbody>\n",
       "    <tr>\n",
       "      <th>0</th>\n",
       "      <td>6.033333</td>\n",
       "      <td>2017-09-01 00:00:17</td>\n",
       "      <td>2017-09-01 00:06:19</td>\n",
       "      <td>Riverside Dr &amp; W 104 St</td>\n",
       "      <td>W 100 St &amp; Manhattan Ave</td>\n",
       "      <td>14530</td>\n",
       "      <td>Subscriber</td>\n",
       "      <td>1993.0</td>\n",
       "      <td>1</td>\n",
       "      <td>2017</td>\n",
       "      <td>9</td>\n",
       "      <td>0</td>\n",
       "      <td>Friday</td>\n",
       "    </tr>\n",
       "    <tr>\n",
       "      <th>1</th>\n",
       "      <td>3.133333</td>\n",
       "      <td>2017-09-01 00:00:21</td>\n",
       "      <td>2017-09-01 00:03:30</td>\n",
       "      <td>N 12 St &amp; Bedford Ave</td>\n",
       "      <td>Nassau Ave &amp; Newell St</td>\n",
       "      <td>15475</td>\n",
       "      <td>Subscriber</td>\n",
       "      <td>1988.0</td>\n",
       "      <td>1</td>\n",
       "      <td>2017</td>\n",
       "      <td>9</td>\n",
       "      <td>0</td>\n",
       "      <td>Friday</td>\n",
       "    </tr>\n",
       "    <tr>\n",
       "      <th>2</th>\n",
       "      <td>5.083333</td>\n",
       "      <td>2017-09-01 00:00:25</td>\n",
       "      <td>2017-09-01 00:05:30</td>\n",
       "      <td>1 Ave &amp; E 78 St</td>\n",
       "      <td>1 Ave &amp; E 68 St</td>\n",
       "      <td>30346</td>\n",
       "      <td>Subscriber</td>\n",
       "      <td>1969.0</td>\n",
       "      <td>1</td>\n",
       "      <td>2017</td>\n",
       "      <td>9</td>\n",
       "      <td>0</td>\n",
       "      <td>Friday</td>\n",
       "    </tr>\n",
       "    <tr>\n",
       "      <th>3</th>\n",
       "      <td>3.716667</td>\n",
       "      <td>2017-09-01 00:00:52</td>\n",
       "      <td>2017-09-01 00:04:36</td>\n",
       "      <td>St Marks Pl &amp; 2 Ave</td>\n",
       "      <td>Rivington St &amp; Chrystie St</td>\n",
       "      <td>28056</td>\n",
       "      <td>Subscriber</td>\n",
       "      <td>1993.0</td>\n",
       "      <td>1</td>\n",
       "      <td>2017</td>\n",
       "      <td>9</td>\n",
       "      <td>0</td>\n",
       "      <td>Friday</td>\n",
       "    </tr>\n",
       "    <tr>\n",
       "      <th>4</th>\n",
       "      <td>12.633333</td>\n",
       "      <td>2017-09-01 00:01:01</td>\n",
       "      <td>2017-09-01 00:13:40</td>\n",
       "      <td>Lafayette St &amp; Jersey St</td>\n",
       "      <td>E 35 St &amp; 3 Ave</td>\n",
       "      <td>25413</td>\n",
       "      <td>Subscriber</td>\n",
       "      <td>1987.0</td>\n",
       "      <td>1</td>\n",
       "      <td>2017</td>\n",
       "      <td>9</td>\n",
       "      <td>0</td>\n",
       "      <td>Friday</td>\n",
       "    </tr>\n",
       "  </tbody>\n",
       "</table>\n",
       "</div>"
      ],
      "text/plain": [
       "   tripduration            starttime             stoptime  \\\n",
       "0      6.033333  2017-09-01 00:00:17  2017-09-01 00:06:19   \n",
       "1      3.133333  2017-09-01 00:00:21  2017-09-01 00:03:30   \n",
       "2      5.083333  2017-09-01 00:00:25  2017-09-01 00:05:30   \n",
       "3      3.716667  2017-09-01 00:00:52  2017-09-01 00:04:36   \n",
       "4     12.633333  2017-09-01 00:01:01  2017-09-01 00:13:40   \n",
       "\n",
       "         start station name            end station name  bikeid    usertype  \\\n",
       "0   Riverside Dr & W 104 St    W 100 St & Manhattan Ave   14530  Subscriber   \n",
       "1     N 12 St & Bedford Ave      Nassau Ave & Newell St   15475  Subscriber   \n",
       "2           1 Ave & E 78 St             1 Ave & E 68 St   30346  Subscriber   \n",
       "3       St Marks Pl & 2 Ave  Rivington St & Chrystie St   28056  Subscriber   \n",
       "4  Lafayette St & Jersey St             E 35 St & 3 Ave   25413  Subscriber   \n",
       "\n",
       "   birth year  gender  year  month  start_hour day_of_week  \n",
       "0      1993.0       1  2017      9           0      Friday  \n",
       "1      1988.0       1  2017      9           0      Friday  \n",
       "2      1969.0       1  2017      9           0      Friday  \n",
       "3      1993.0       1  2017      9           0      Friday  \n",
       "4      1987.0       1  2017      9           0      Friday  "
      ]
     },
     "execution_count": 3,
     "metadata": {},
     "output_type": "execute_result"
    }
   ],
   "source": [
    "new_clean=pd.read_csv('201719NYCCleaned.csv')\n",
    "new_clean.head()"
   ]
  },
  {
   "cell_type": "code",
   "execution_count": 4,
   "metadata": {
    "scrolled": true
   },
   "outputs": [
    {
     "data": {
      "text/plain": [
       "count    5.446469e+07\n",
       "mean     1.644229e+01\n",
       "std      2.558824e+02\n",
       "min      1.016667e+00\n",
       "25%      6.066667e+00\n",
       "50%      1.023333e+01\n",
       "75%      1.786667e+01\n",
       "max      3.251675e+05\n",
       "Name: tripduration, dtype: float64"
      ]
     },
     "execution_count": 4,
     "metadata": {},
     "output_type": "execute_result"
    }
   ],
   "source": [
    "new_clean['tripduration'].describe()"
   ]
  },
  {
   "cell_type": "code",
   "execution_count": 5,
   "metadata": {},
   "outputs": [
    {
     "data": {
      "text/html": [
       "<div>\n",
       "<style scoped>\n",
       "    .dataframe tbody tr th:only-of-type {\n",
       "        vertical-align: middle;\n",
       "    }\n",
       "\n",
       "    .dataframe tbody tr th {\n",
       "        vertical-align: top;\n",
       "    }\n",
       "\n",
       "    .dataframe thead th {\n",
       "        text-align: right;\n",
       "    }\n",
       "</style>\n",
       "<table border=\"1\" class=\"dataframe\">\n",
       "  <thead>\n",
       "    <tr style=\"text-align: right;\">\n",
       "      <th></th>\n",
       "      <th>tripduration</th>\n",
       "      <th>starttime</th>\n",
       "      <th>stoptime</th>\n",
       "      <th>start station name</th>\n",
       "      <th>end station name</th>\n",
       "      <th>bikeid</th>\n",
       "      <th>usertype</th>\n",
       "      <th>birth year</th>\n",
       "      <th>gender</th>\n",
       "      <th>year</th>\n",
       "      <th>month</th>\n",
       "      <th>start_hour</th>\n",
       "      <th>day_of_week</th>\n",
       "    </tr>\n",
       "  </thead>\n",
       "  <tbody>\n",
       "    <tr>\n",
       "      <th>0</th>\n",
       "      <td>6.033333</td>\n",
       "      <td>2017-09-01 00:00:17</td>\n",
       "      <td>2017-09-01 00:06:19</td>\n",
       "      <td>Riverside Dr &amp; W 104 St</td>\n",
       "      <td>W 100 St &amp; Manhattan Ave</td>\n",
       "      <td>14530</td>\n",
       "      <td>Subscriber</td>\n",
       "      <td>1993.0</td>\n",
       "      <td>1</td>\n",
       "      <td>2017</td>\n",
       "      <td>9</td>\n",
       "      <td>0</td>\n",
       "      <td>Friday</td>\n",
       "    </tr>\n",
       "    <tr>\n",
       "      <th>1</th>\n",
       "      <td>3.133333</td>\n",
       "      <td>2017-09-01 00:00:21</td>\n",
       "      <td>2017-09-01 00:03:30</td>\n",
       "      <td>N 12 St &amp; Bedford Ave</td>\n",
       "      <td>Nassau Ave &amp; Newell St</td>\n",
       "      <td>15475</td>\n",
       "      <td>Subscriber</td>\n",
       "      <td>1988.0</td>\n",
       "      <td>1</td>\n",
       "      <td>2017</td>\n",
       "      <td>9</td>\n",
       "      <td>0</td>\n",
       "      <td>Friday</td>\n",
       "    </tr>\n",
       "    <tr>\n",
       "      <th>2</th>\n",
       "      <td>5.083333</td>\n",
       "      <td>2017-09-01 00:00:25</td>\n",
       "      <td>2017-09-01 00:05:30</td>\n",
       "      <td>1 Ave &amp; E 78 St</td>\n",
       "      <td>1 Ave &amp; E 68 St</td>\n",
       "      <td>30346</td>\n",
       "      <td>Subscriber</td>\n",
       "      <td>1969.0</td>\n",
       "      <td>1</td>\n",
       "      <td>2017</td>\n",
       "      <td>9</td>\n",
       "      <td>0</td>\n",
       "      <td>Friday</td>\n",
       "    </tr>\n",
       "    <tr>\n",
       "      <th>3</th>\n",
       "      <td>3.716667</td>\n",
       "      <td>2017-09-01 00:00:52</td>\n",
       "      <td>2017-09-01 00:04:36</td>\n",
       "      <td>St Marks Pl &amp; 2 Ave</td>\n",
       "      <td>Rivington St &amp; Chrystie St</td>\n",
       "      <td>28056</td>\n",
       "      <td>Subscriber</td>\n",
       "      <td>1993.0</td>\n",
       "      <td>1</td>\n",
       "      <td>2017</td>\n",
       "      <td>9</td>\n",
       "      <td>0</td>\n",
       "      <td>Friday</td>\n",
       "    </tr>\n",
       "    <tr>\n",
       "      <th>4</th>\n",
       "      <td>12.633333</td>\n",
       "      <td>2017-09-01 00:01:01</td>\n",
       "      <td>2017-09-01 00:13:40</td>\n",
       "      <td>Lafayette St &amp; Jersey St</td>\n",
       "      <td>E 35 St &amp; 3 Ave</td>\n",
       "      <td>25413</td>\n",
       "      <td>Subscriber</td>\n",
       "      <td>1987.0</td>\n",
       "      <td>1</td>\n",
       "      <td>2017</td>\n",
       "      <td>9</td>\n",
       "      <td>0</td>\n",
       "      <td>Friday</td>\n",
       "    </tr>\n",
       "  </tbody>\n",
       "</table>\n",
       "</div>"
      ],
      "text/plain": [
       "   tripduration            starttime             stoptime  \\\n",
       "0      6.033333  2017-09-01 00:00:17  2017-09-01 00:06:19   \n",
       "1      3.133333  2017-09-01 00:00:21  2017-09-01 00:03:30   \n",
       "2      5.083333  2017-09-01 00:00:25  2017-09-01 00:05:30   \n",
       "3      3.716667  2017-09-01 00:00:52  2017-09-01 00:04:36   \n",
       "4     12.633333  2017-09-01 00:01:01  2017-09-01 00:13:40   \n",
       "\n",
       "         start station name            end station name  bikeid    usertype  \\\n",
       "0   Riverside Dr & W 104 St    W 100 St & Manhattan Ave   14530  Subscriber   \n",
       "1     N 12 St & Bedford Ave      Nassau Ave & Newell St   15475  Subscriber   \n",
       "2           1 Ave & E 78 St             1 Ave & E 68 St   30346  Subscriber   \n",
       "3       St Marks Pl & 2 Ave  Rivington St & Chrystie St   28056  Subscriber   \n",
       "4  Lafayette St & Jersey St             E 35 St & 3 Ave   25413  Subscriber   \n",
       "\n",
       "   birth year  gender  year  month  start_hour day_of_week  \n",
       "0      1993.0       1  2017      9           0      Friday  \n",
       "1      1988.0       1  2017      9           0      Friday  \n",
       "2      1969.0       1  2017      9           0      Friday  \n",
       "3      1993.0       1  2017      9           0      Friday  \n",
       "4      1987.0       1  2017      9           0      Friday  "
      ]
     },
     "execution_count": 5,
     "metadata": {},
     "output_type": "execute_result"
    }
   ],
   "source": [
    "#Based on the pricing system I'd expect the majority of rides to be under 2 hours\n",
    "#and no longer than 4 hours\n",
    "no_outliers_data = new_clean[new_clean['tripduration'] < 240]\n",
    "no_outliers_data.head()"
   ]
  },
  {
   "cell_type": "code",
   "execution_count": 6,
   "metadata": {
    "scrolled": true
   },
   "outputs": [
    {
     "data": {
      "text/plain": [
       "count    5.440129e+07\n",
       "mean     1.379260e+01\n",
       "std      1.286110e+01\n",
       "min      1.016667e+00\n",
       "25%      6.066667e+00\n",
       "50%      1.021667e+01\n",
       "75%      1.781667e+01\n",
       "max      2.399833e+02\n",
       "Name: tripduration, dtype: float64"
      ]
     },
     "execution_count": 6,
     "metadata": {},
     "output_type": "execute_result"
    }
   ],
   "source": [
    "no_outliers_data['tripduration'].describe()"
   ]
  },
  {
   "cell_type": "code",
   "execution_count": 9,
   "metadata": {},
   "outputs": [],
   "source": [
    "# Save cleaned data to a csv file to begin analysis\n",
    "cleaned_data = no_outliers_data\n",
    "cleaned_data.to_csv(\"201719NYCCleaned.csv\", index=False)"
   ]
  },
  {
   "cell_type": "markdown",
   "metadata": {},
   "source": [
    "#### Start of Data Analysis"
   ]
  },
  {
   "cell_type": "code",
   "execution_count": 2,
   "metadata": {
    "scrolled": true
   },
   "outputs": [
    {
     "data": {
      "text/html": [
       "<div>\n",
       "<style scoped>\n",
       "    .dataframe tbody tr th:only-of-type {\n",
       "        vertical-align: middle;\n",
       "    }\n",
       "\n",
       "    .dataframe tbody tr th {\n",
       "        vertical-align: top;\n",
       "    }\n",
       "\n",
       "    .dataframe thead th {\n",
       "        text-align: right;\n",
       "    }\n",
       "</style>\n",
       "<table border=\"1\" class=\"dataframe\">\n",
       "  <thead>\n",
       "    <tr style=\"text-align: right;\">\n",
       "      <th></th>\n",
       "      <th>tripduration</th>\n",
       "      <th>starttime</th>\n",
       "      <th>stoptime</th>\n",
       "      <th>start station name</th>\n",
       "      <th>end station name</th>\n",
       "      <th>bikeid</th>\n",
       "      <th>usertype</th>\n",
       "      <th>birth year</th>\n",
       "      <th>gender</th>\n",
       "      <th>year</th>\n",
       "      <th>month</th>\n",
       "      <th>start_hour</th>\n",
       "      <th>day_of_week</th>\n",
       "    </tr>\n",
       "  </thead>\n",
       "  <tbody>\n",
       "    <tr>\n",
       "      <th>0</th>\n",
       "      <td>6.033333</td>\n",
       "      <td>2017-09-01 00:00:17</td>\n",
       "      <td>2017-09-01 00:06:19</td>\n",
       "      <td>Riverside Dr &amp; W 104 St</td>\n",
       "      <td>W 100 St &amp; Manhattan Ave</td>\n",
       "      <td>14530</td>\n",
       "      <td>Subscriber</td>\n",
       "      <td>1993.0</td>\n",
       "      <td>1</td>\n",
       "      <td>2017</td>\n",
       "      <td>9</td>\n",
       "      <td>0</td>\n",
       "      <td>Friday</td>\n",
       "    </tr>\n",
       "    <tr>\n",
       "      <th>1</th>\n",
       "      <td>3.133333</td>\n",
       "      <td>2017-09-01 00:00:21</td>\n",
       "      <td>2017-09-01 00:03:30</td>\n",
       "      <td>N 12 St &amp; Bedford Ave</td>\n",
       "      <td>Nassau Ave &amp; Newell St</td>\n",
       "      <td>15475</td>\n",
       "      <td>Subscriber</td>\n",
       "      <td>1988.0</td>\n",
       "      <td>1</td>\n",
       "      <td>2017</td>\n",
       "      <td>9</td>\n",
       "      <td>0</td>\n",
       "      <td>Friday</td>\n",
       "    </tr>\n",
       "    <tr>\n",
       "      <th>2</th>\n",
       "      <td>5.083333</td>\n",
       "      <td>2017-09-01 00:00:25</td>\n",
       "      <td>2017-09-01 00:05:30</td>\n",
       "      <td>1 Ave &amp; E 78 St</td>\n",
       "      <td>1 Ave &amp; E 68 St</td>\n",
       "      <td>30346</td>\n",
       "      <td>Subscriber</td>\n",
       "      <td>1969.0</td>\n",
       "      <td>1</td>\n",
       "      <td>2017</td>\n",
       "      <td>9</td>\n",
       "      <td>0</td>\n",
       "      <td>Friday</td>\n",
       "    </tr>\n",
       "    <tr>\n",
       "      <th>3</th>\n",
       "      <td>3.716667</td>\n",
       "      <td>2017-09-01 00:00:52</td>\n",
       "      <td>2017-09-01 00:04:36</td>\n",
       "      <td>St Marks Pl &amp; 2 Ave</td>\n",
       "      <td>Rivington St &amp; Chrystie St</td>\n",
       "      <td>28056</td>\n",
       "      <td>Subscriber</td>\n",
       "      <td>1993.0</td>\n",
       "      <td>1</td>\n",
       "      <td>2017</td>\n",
       "      <td>9</td>\n",
       "      <td>0</td>\n",
       "      <td>Friday</td>\n",
       "    </tr>\n",
       "    <tr>\n",
       "      <th>4</th>\n",
       "      <td>12.633333</td>\n",
       "      <td>2017-09-01 00:01:01</td>\n",
       "      <td>2017-09-01 00:13:40</td>\n",
       "      <td>Lafayette St &amp; Jersey St</td>\n",
       "      <td>E 35 St &amp; 3 Ave</td>\n",
       "      <td>25413</td>\n",
       "      <td>Subscriber</td>\n",
       "      <td>1987.0</td>\n",
       "      <td>1</td>\n",
       "      <td>2017</td>\n",
       "      <td>9</td>\n",
       "      <td>0</td>\n",
       "      <td>Friday</td>\n",
       "    </tr>\n",
       "  </tbody>\n",
       "</table>\n",
       "</div>"
      ],
      "text/plain": [
       "   tripduration            starttime             stoptime  \\\n",
       "0      6.033333  2017-09-01 00:00:17  2017-09-01 00:06:19   \n",
       "1      3.133333  2017-09-01 00:00:21  2017-09-01 00:03:30   \n",
       "2      5.083333  2017-09-01 00:00:25  2017-09-01 00:05:30   \n",
       "3      3.716667  2017-09-01 00:00:52  2017-09-01 00:04:36   \n",
       "4     12.633333  2017-09-01 00:01:01  2017-09-01 00:13:40   \n",
       "\n",
       "         start station name            end station name  bikeid    usertype  \\\n",
       "0   Riverside Dr & W 104 St    W 100 St & Manhattan Ave   14530  Subscriber   \n",
       "1     N 12 St & Bedford Ave      Nassau Ave & Newell St   15475  Subscriber   \n",
       "2           1 Ave & E 78 St             1 Ave & E 68 St   30346  Subscriber   \n",
       "3       St Marks Pl & 2 Ave  Rivington St & Chrystie St   28056  Subscriber   \n",
       "4  Lafayette St & Jersey St             E 35 St & 3 Ave   25413  Subscriber   \n",
       "\n",
       "   birth year  gender  year  month  start_hour day_of_week  \n",
       "0      1993.0       1  2017      9           0      Friday  \n",
       "1      1988.0       1  2017      9           0      Friday  \n",
       "2      1969.0       1  2017      9           0      Friday  \n",
       "3      1993.0       1  2017      9           0      Friday  \n",
       "4      1987.0       1  2017      9           0      Friday  "
      ]
     },
     "execution_count": 2,
     "metadata": {},
     "output_type": "execute_result"
    }
   ],
   "source": [
    "### For gender: 0=Unknown, 1=Male, 2=Female\n",
    "data=pd.read_csv('201719NYCCleaned.csv')\n",
    "data.head()"
   ]
  },
  {
   "cell_type": "code",
   "execution_count": 3,
   "metadata": {},
   "outputs": [],
   "source": [
    "# Create dataframes for each year\n",
    "grouped = data.groupby(data['year'])\n",
    "df1 = grouped.get_group(2017)\n",
    "df2 = grouped.get_group(2018)\n",
    "df3 = grouped.get_group(2019)"
   ]
  },
  {
   "cell_type": "code",
   "execution_count": 4,
   "metadata": {},
   "outputs": [],
   "source": [
    "genders = data['gender'].value_counts().keys().to_list()\n",
    "counts = data['gender'].value_counts().tolist()"
   ]
  },
  {
   "cell_type": "code",
   "execution_count": 5,
   "metadata": {},
   "outputs": [
    {
     "data": {
      "image/png": "[encoded data removed]",
      "text/plain": [
       "<Figure size 432x288 with 1 Axes>"
      ]
     },
     "metadata": {},
     "output_type": "display_data"
    }
   ],
   "source": [
    "#Gender: 0=Unknown, 1=Male, 2=Female\n",
    "plt.pie(counts[0:2], labels=['Male', 'Female'], colors = ['gold', 'lightskyblue'], autopct='%1.1f%%')\n",
    "plt.title('Gender Ratio of Riders: NYC 2017-2019')\n",
    "plt.show()\n",
    "# based on users that provided their gender"
   ]
  },
  {
   "cell_type": "code",
   "execution_count": 6,
   "metadata": {},
   "outputs": [],
   "source": [
    "users = data['usertype'].value_counts().keys().to_list()\n",
    "count = data['usertype'].value_counts().to_list()"
   ]
  },
  {
   "cell_type": "code",
   "execution_count": 7,
   "metadata": {},
   "outputs": [
    {
     "data": {
      "image/png": "[encoded data removed]",
      "text/plain": [
       "<Figure size 432x288 with 1 Axes>"
      ]
     },
     "metadata": {},
     "output_type": "display_data"
    }
   ],
   "source": [
    "plt.pie(count, labels=users, colors = ['lightcoral', 'yellowgreen'], autopct='%1.1f%%')\n",
    "plt.title(\"Subscribership Ratio of Riders: NYC 2017-19\")\n",
    "plt.show()"
   ]
  },
  {
   "cell_type": "code",
   "execution_count": 8,
   "metadata": {},
   "outputs": [
    {
     "data": {
      "image/png": "[encoded data removed]",
      "text/plain": [
       "<Figure size 432x288 with 1 Axes>"
      ]
     },
     "metadata": {},
     "output_type": "display_data"
    }
   ],
   "source": [
    "users_17 = df1['usertype'].value_counts().keys().to_list()\n",
    "count_17 = df1['usertype'].value_counts().to_list()\n",
    "\n",
    "plt.pie(count_17, labels=users_17, colors = ['lightcoral', 'yellowgreen'], autopct='%1.1f%%')\n",
    "plt.title(\"Subscribership Ratio of Riders: NYC 2017\")\n",
    "plt.show()\n"
   ]
  },
  {
   "cell_type": "code",
   "execution_count": 9,
   "metadata": {},
   "outputs": [
    {
     "data": {
      "image/png": "[encoded data removed]",
      "text/plain": [
       "<Figure size 432x288 with 1 Axes>"
      ]
     },
     "metadata": {},
     "output_type": "display_data"
    }
   ],
   "source": [
    "users_18 = df2['usertype'].value_counts().keys().to_list()\n",
    "count_18 = df2['usertype'].value_counts().to_list()\n",
    "\n",
    "plt.pie(count_18, labels=users_18, colors = ['lightcoral', 'yellowgreen'], autopct='%1.1f%%')\n",
    "plt.title(\"Subscribership Ratio of Riders: NYC 2018\")\n",
    "plt.show()"
   ]
  },
  {
   "cell_type": "code",
   "execution_count": 10,
   "metadata": {},
   "outputs": [
    {
     "data": {
      "image/png": "[encoded data removed]",
      "text/plain": [
       "<Figure size 432x288 with 1 Axes>"
      ]
     },
     "metadata": {},
     "output_type": "display_data"
    }
   ],
   "source": [
    "users_19 = df3['usertype'].value_counts().keys().to_list()\n",
    "count_19 = df3['usertype'].value_counts().to_list()\n",
    "\n",
    "plt.pie(count_19, labels=users_19, colors = ['lightcoral', 'yellowgreen'], autopct='%1.1f%%')\n",
    "plt.title(\"Subscribership Ratio of Riders: NYC 2019\")\n",
    "plt.show()"
   ]
  },
  {
   "cell_type": "code",
   "execution_count": 11,
   "metadata": {},
   "outputs": [],
   "source": [
    "birth_dict = dict(zip(data['birth year'].value_counts().keys().to_list(), data['birth year'].value_counts().to_list()))\n",
    "#Remove birth years that don't make sense (any age more than 80 is removed)\n",
    "cleaned_birth = {}\n",
    "for key in birth_dict:\n",
    "        if(int(key)>=1939):\n",
    "            cleaned_birth[int(key)]=birth_dict[key]"
   ]
  },
  {
   "cell_type": "code",
   "execution_count": 12,
   "metadata": {},
   "outputs": [
    {
     "data": {
      "image/png": "[encoded data removed]",
      "text/plain": [
       "<Figure size 432x288 with 1 Axes>"
      ]
     },
     "metadata": {
      "needs_background": "light"
     },
     "output_type": "display_data"
    }
   ],
   "source": [
    "plt.bar(list(cleaned_birth.keys()), list(cleaned_birth.values()))\n",
    "plt.xticks((1939,1969, 2003))\n",
    "plt.xlabel(\"Birth Year\")\n",
    "plt.ylabel(\"# of Rides (in millions)\")\n",
    "plt.title(\"Number of Rides by Birth Year: NYC 2017-19\")\n",
    "plt.show()"
   ]
  },
  {
   "cell_type": "code",
   "execution_count": 13,
   "metadata": {},
   "outputs": [],
   "source": [
    "#track ridership per year\n",
    "years = data['year'].value_counts().keys().to_list()\n",
    "rides = data['year'].value_counts().to_list()"
   ]
  },
  {
   "cell_type": "code",
   "execution_count": 14,
   "metadata": {},
   "outputs": [
    {
     "data": {
      "image/png": "[encoded data removed]",
      "text/plain": [
       "<Figure size 432x288 with 1 Axes>"
      ]
     },
     "metadata": {
      "needs_background": "light"
     },
     "output_type": "display_data"
    }
   ],
   "source": [
    "plt.bar(years, rides)\n",
    "plt.xticks(years)\n",
    "plt.xlabel(\"Year\")\n",
    "plt.ylabel(\"# of rides (in tens of millions)\")\n",
    "plt.title(\"Number of Bike Rides per Year: NYC 2017-19\")\n",
    "plt.show()"
   ]
  },
  {
   "cell_type": "code",
   "execution_count": 15,
   "metadata": {},
   "outputs": [],
   "source": [
    "num_bikes_year =[]\n",
    "num_bikes1 = len(df1['bikeid'].unique())\n",
    "num_bikes_year.append(num_bikes1)"
   ]
  },
  {
   "cell_type": "code",
   "execution_count": 16,
   "metadata": {},
   "outputs": [],
   "source": [
    "num_bikes2 = len(df2['bikeid'].unique())\n",
    "num_bikes_year.append(num_bikes2)"
   ]
  },
  {
   "cell_type": "code",
   "execution_count": 17,
   "metadata": {},
   "outputs": [],
   "source": [
    "num_bikes3 = len(df3['bikeid'].unique())\n",
    "num_bikes_year.append(num_bikes3)"
   ]
  },
  {
   "cell_type": "code",
   "execution_count": 18,
   "metadata": {
    "scrolled": true
   },
   "outputs": [
    {
     "data": {
      "image/png": "[encoded data removed]",
      "text/plain": [
       "<Figure size 432x288 with 1 Axes>"
      ]
     },
     "metadata": {
      "needs_background": "light"
     },
     "output_type": "display_data"
    }
   ],
   "source": [
    "plt.bar([2017, 2018, 2019], num_bikes_year)\n",
    "plt.xticks([2017, 2018, 2019])\n",
    "plt.xlabel(\"Year\")\n",
    "plt.ylabel(\"# of Bikes\")\n",
    "plt.title(\"Number of Bikes in NYC System 2017-19\")\n",
    "plt.show()"
   ]
  },
  {
   "cell_type": "code",
   "execution_count": 19,
   "metadata": {},
   "outputs": [],
   "source": [
    "#track rides by day of week over 3 year period\n",
    "days = data['day_of_week'].value_counts().keys().to_list()\n",
    "rides = data['day_of_week'].value_counts().to_list()\n",
    "#Hardcoded the sorting into order of the week\n",
    "days_sorted = ['Monday', 'Tuesday', 'Wednesday', 'Thursday', 'Friday', 'Saturday', 'Sunday']\n",
    "rides_sorted = [7764607,8293852,8558266,8305116,7764607,7044409,6332237]"
   ]
  },
  {
   "cell_type": "code",
   "execution_count": 20,
   "metadata": {},
   "outputs": [
    {
     "data": {
      "image/png": "[encoded data removed]",
      "text/plain": [
       "<Figure size 432x288 with 1 Axes>"
      ]
     },
     "metadata": {
      "needs_background": "light"
     },
     "output_type": "display_data"
    }
   ],
   "source": [
    "plt.bar(days_sorted, rides_sorted)\n",
    "plt.xticks(days_sorted)\n",
    "plt.xlabel(\"Day of Week\")\n",
    "plt.ylabel(\"# of rides (in millions)\")\n",
    "plt.title(\"Number of Bike Rides by Day of Week: NYC 2017-19\")\n",
    "plt.show()"
   ]
  },
  {
   "cell_type": "code",
   "execution_count": 21,
   "metadata": {},
   "outputs": [],
   "source": [
    "#Make a data frame for weekdays and weekend\n",
    "mask = data['day_of_week'].isin(['Saturday','Sunday'])\n",
    "weekend_df=data[mask]\n",
    "weekday_df=data[~mask]"
   ]
  },
  {
   "cell_type": "code",
   "execution_count": 22,
   "metadata": {},
   "outputs": [],
   "source": [
    "weekend_hours = weekend_df['start_hour'].value_counts().keys().to_list()\n",
    "weekend_count = weekend_df['start_hour'].value_counts().to_list()"
   ]
  },
  {
   "cell_type": "code",
   "execution_count": 23,
   "metadata": {},
   "outputs": [
    {
     "data": {
      "image/png": "[encoded data removed]",
      "text/plain": [
       "<Figure size 432x288 with 1 Axes>"
      ]
     },
     "metadata": {
      "needs_background": "light"
     },
     "output_type": "display_data"
    }
   ],
   "source": [
    "plt.bar(weekend_hours, weekend_count)\n",
    "plt.xticks(weekend_hours)\n",
    "plt.xlabel(\"Hour of Day\")\n",
    "plt.ylabel(\"# of rides (in millions)\")\n",
    "plt.title(\"Number of Bike Rides by Hour of Day on Weekend: NYC 2017-19\")\n",
    "plt.show()"
   ]
  },
  {
   "cell_type": "code",
   "execution_count": 24,
   "metadata": {},
   "outputs": [],
   "source": [
    "weekday_hours = weekday_df['start_hour'].value_counts().keys().to_list()\n",
    "weekday_count = weekday_df['start_hour'].value_counts().to_list()"
   ]
  },
  {
   "cell_type": "code",
   "execution_count": 25,
   "metadata": {},
   "outputs": [
    {
     "data": {
      "image/png": "[encoded data removed]",
      "text/plain": [
       "<Figure size 432x288 with 1 Axes>"
      ]
     },
     "metadata": {
      "needs_background": "light"
     },
     "output_type": "display_data"
    }
   ],
   "source": [
    "plt.bar(weekday_hours, weekday_count)\n",
    "plt.xticks(weekday_hours)\n",
    "plt.xlabel(\"Hour of Day\")\n",
    "plt.ylabel(\"# of rides (in millions)\")\n",
    "plt.title(\"Number of Bike Rides by Hour of Day During Week: NYC 2017-19\")\n",
    "plt.show()"
   ]
  },
  {
   "cell_type": "code",
   "execution_count": 26,
   "metadata": {},
   "outputs": [],
   "source": [
    "weekend_dict = dict(zip(weekend_hours, weekend_count))\n",
    "weekend_keys = (list(weekend_dict.keys()))\n",
    "weekend_keys.sort()\n",
    "\n",
    "weekend_sorted={}\n",
    "for e in weekend_keys:\n",
    "    weekend_sorted[e]=weekend_dict[e]\n",
    "\n",
    "weekend_keys = list(weekend_sorted.keys())\n",
    "weekend_values = list(weekend_sorted.values())"
   ]
  },
  {
   "cell_type": "code",
   "execution_count": 27,
   "metadata": {},
   "outputs": [],
   "source": [
    "weekday_dict = dict(zip(weekday_hours, weekday_count))\n",
    "weekday_keys = (list(weekday_dict.keys()))\n",
    "weekday_keys.sort()\n",
    "\n",
    "weekday_sorted={}\n",
    "for e in weekday_keys:\n",
    "    weekday_sorted[e]=weekday_dict[e]\n",
    "\n",
    "weekday_keys = list(weekday_sorted.keys())\n",
    "weekday_values = list(weekday_sorted.values())"
   ]
  },
  {
   "cell_type": "code",
   "execution_count": 29,
   "metadata": {},
   "outputs": [
    {
     "data": {
      "image/png": "[encoded data removed]",
      "text/plain": [
       "<Figure size 432x288 with 1 Axes>"
      ]
     },
     "metadata": {
      "needs_background": "light"
     },
     "output_type": "display_data"
    }
   ],
   "source": [
    "x = np.arange(len(weekend_keys))\n",
    "ax = plt.subplot(111)\n",
    "ax.bar(x-0.2, weekend_values, width=0.4, color='r', align='center', label='Weekend')\n",
    "ax.bar(x+0.2, weekday_values, width=0.4, align='center', label='Weekday')\n",
    "plt.xticks(weekend_keys)\n",
    "plt.xlabel('Hour of Day')\n",
    "plt.ylabel('# of Rides (in millions)')\n",
    "plt.title('Number of Rides by Hour: Weekend v. Day of Week: NYC 2017-19')\n",
    "plt.legend(loc = 'best')\n",
    "plt.show()"
   ]
  },
  {
   "cell_type": "code",
   "execution_count": 30,
   "metadata": {},
   "outputs": [],
   "source": [
    "#track rides by month over 3 year period\n",
    "months = data['month'].value_counts().keys().to_list()\n",
    "num_riders = data['month'].value_counts().to_list()"
   ]
  },
  {
   "cell_type": "code",
   "execution_count": 31,
   "metadata": {},
   "outputs": [
    {
     "data": {
      "image/png": "[encoded data removed]",
      "text/plain": [
       "<Figure size 432x288 with 1 Axes>"
      ]
     },
     "metadata": {
      "needs_background": "light"
     },
     "output_type": "display_data"
    }
   ],
   "source": [
    "plt.bar(months, num_riders)\n",
    "plt.xticks(months)\n",
    "plt.xlabel(\"Month of Year\")\n",
    "plt.ylabel(\"# of rides (in millions)\")\n",
    "plt.title(\"Number of Bike Rides by Month: NYC 2017-19\")\n",
    "plt.show()"
   ]
  },
  {
   "cell_type": "code",
   "execution_count": 32,
   "metadata": {},
   "outputs": [],
   "source": [
    "#track most common and least common start stations over 3 year period\n",
    "start_stations = data['start station name'].value_counts().keys().to_list()\n",
    "num_start = data['start station name'].value_counts().to_list()\n",
    "\n",
    "start_dict = dict(zip(start_stations, num_start))"
   ]
  },
  {
   "cell_type": "code",
   "execution_count": 33,
   "metadata": {},
   "outputs": [
    {
     "data": {
      "image/png": "[encoded data removed]",
      "text/plain": [
       "<Figure size 432x288 with 1 Axes>"
      ]
     },
     "metadata": {
      "needs_background": "light"
     },
     "output_type": "display_data"
    }
   ],
   "source": [
    "plt.bar(start_stations[0:10], num_start[0:10])\n",
    "plt.xticks(start_stations[0:10], rotation='vertical', size=8)\n",
    "plt.xlabel(\"Start Station\")\n",
    "plt.ylabel(\"# of Rides\")\n",
    "plt.title(\"Most Popular Start Stations: NYC 2017-19\")\n",
    "plt.show()"
   ]
  },
  {
   "cell_type": "code",
   "execution_count": 34,
   "metadata": {},
   "outputs": [
    {
     "data": {
      "image/png": "[encoded data removed]",
      "text/plain": [
       "<Figure size 432x288 with 1 Axes>"
      ]
     },
     "metadata": {
      "needs_background": "light"
     },
     "output_type": "display_data"
    }
   ],
   "source": [
    "plt.bar(start_stations[-10:], num_start[-10:])\n",
    "plt.xticks(start_stations[-10:], rotation='vertical', size=8)\n",
    "plt.xlabel(\"Start Station\")\n",
    "plt.ylabel(\"# of Rides\")\n",
    "plt.title(\"Least Popular Start Stations: NYC 2017-19\")\n",
    "plt.show()"
   ]
  },
  {
   "cell_type": "code",
   "execution_count": 35,
   "metadata": {},
   "outputs": [],
   "source": [
    "#track most common and leas common end stations over 3 year period\n",
    "end_stations = data['end station name'].value_counts().keys().to_list()\n",
    "num_end = data['end station name'].value_counts().to_list()\n",
    "\n",
    "end_dict = dict(zip(end_stations, num_end))"
   ]
  },
  {
   "cell_type": "code",
   "execution_count": 36,
   "metadata": {},
   "outputs": [
    {
     "data": {
      "image/png": "[encoded data removed]",
      "text/plain": [
       "<Figure size 432x288 with 1 Axes>"
      ]
     },
     "metadata": {
      "needs_background": "light"
     },
     "output_type": "display_data"
    }
   ],
   "source": [
    "plt.bar(end_stations[0:10], num_end[0:10])\n",
    "plt.xticks(end_stations[0:10], rotation='vertical', size=8)\n",
    "plt.xlabel(\"End Station\")\n",
    "plt.ylabel(\"# of Rides\")\n",
    "plt.title(\"Most Popular End Stations: NYC 2017-19\")\n",
    "plt.show()"
   ]
  },
  {
   "cell_type": "code",
   "execution_count": 37,
   "metadata": {},
   "outputs": [
    {
     "data": {
      "image/png": "[encoded data removed]",
      "text/plain": [
       "<Figure size 432x288 with 1 Axes>"
      ]
     },
     "metadata": {
      "needs_background": "light"
     },
     "output_type": "display_data"
    }
   ],
   "source": [
    "plt.bar(end_stations[-10:], num_end[-10:])\n",
    "plt.xticks(end_stations[-10:], rotation='vertical', size=8)\n",
    "plt.xlabel(\"End Station\")\n",
    "plt.ylabel(\"# of Rides\")\n",
    "plt.title(\"Least Popular End Stations: NYC 2017-19\")\n",
    "plt.show()"
   ]
  },
  {
   "cell_type": "code",
   "execution_count": 38,
   "metadata": {},
   "outputs": [],
   "source": [
    "#combine start and end dicts and sort by value\n",
    "def combine(d1, d2):\n",
    "    new_dict=d1\n",
    "    for key in d2:\n",
    "        if key in new_dict:\n",
    "            new_dict[key] += d2[key]\n",
    "        else:\n",
    "            new_dict[key]=d2[key]\n",
    "    return new_dict\n",
    "\n",
    "#Sort overall dict by value in increasing order to identify top and bottom stations\n",
    "overall_dict = combine(start_dict, end_dict)\n",
    "overall_dict={k: v for k, v in sorted(overall_dict.items(), key=lambda item: item[1])}"
   ]
  },
  {
   "cell_type": "code",
   "execution_count": 39,
   "metadata": {},
   "outputs": [
    {
     "data": {
      "image/png": "[encoded data removed]",
      "text/plain": [
       "<Figure size 432x288 with 1 Axes>"
      ]
     },
     "metadata": {
      "needs_background": "light"
     },
     "output_type": "display_data"
    }
   ],
   "source": [
    "plt.bar((list(overall_dict.keys()))[-10:], (list(overall_dict.values()))[-10:])\n",
    "plt.xticks((list(overall_dict.keys()))[-10:], rotation='vertical', size=8)\n",
    "plt.xlabel(\"Station\")\n",
    "plt.ylabel(\"# of Rides\")\n",
    "plt.title(\"Most Used Stations Overall: NYC 2017-19\")\n",
    "plt.show()\n"
   ]
  },
  {
   "cell_type": "code",
   "execution_count": 40,
   "metadata": {},
   "outputs": [
    {
     "data": {
      "image/png": "[encoded data removed]",
      "text/plain": [
       "<Figure size 432x288 with 1 Axes>"
      ]
     },
     "metadata": {
      "needs_background": "light"
     },
     "output_type": "display_data"
    }
   ],
   "source": [
    "plt.bar((list(overall_dict.keys()))[0:10], (list(overall_dict.values()))[0:10])\n",
    "plt.xticks((list(overall_dict.keys()))[0:10], rotation='vertical', size=8)\n",
    "plt.xlabel(\"Station\")\n",
    "plt.ylabel(\"# of Rides\")\n",
    "plt.title(\"Least Used Stations Overall: NYC 2017-19\")\n",
    "plt.show()"
   ]
  },
  {
   "cell_type": "code",
   "execution_count": 41,
   "metadata": {},
   "outputs": [],
   "source": [
    "#How does the number of stations change?\n",
    "num_stations=[]\n",
    "stations_2017 = len(list(pd.concat([df1['start station name'], df1['end station name']]).unique()))\n",
    "num_stations.append(stations_2017)"
   ]
  },
  {
   "cell_type": "code",
   "execution_count": 42,
   "metadata": {},
   "outputs": [],
   "source": [
    "stations_2018 = len(list(pd.concat([df2['start station name'], df2['end station name']]).unique()))\n",
    "num_stations.append(stations_2018)"
   ]
  },
  {
   "cell_type": "code",
   "execution_count": 43,
   "metadata": {},
   "outputs": [],
   "source": [
    "stations_2019 = len(list(pd.concat([df3['start station name'], df3['end station name']]).unique()))\n",
    "num_stations.append(stations_2019)"
   ]
  },
  {
   "cell_type": "code",
   "execution_count": 44,
   "metadata": {},
   "outputs": [
    {
     "data": {
      "image/png": "[encoded data removed]",
      "text/plain": [
       "<Figure size 432x288 with 1 Axes>"
      ]
     },
     "metadata": {
      "needs_background": "light"
     },
     "output_type": "display_data"
    }
   ],
   "source": [
    "plt.bar([2017,2018,2019], num_stations)\n",
    "plt.xticks([2017,2018,2019])\n",
    "plt.xlabel(\"Year\")\n",
    "plt.ylabel(\"# of Stations\")\n",
    "plt.title(\"Number of Stations per Year: NYC 2017-19\")\n",
    "plt.show()"
   ]
  },
  {
   "cell_type": "code",
   "execution_count": 45,
   "metadata": {},
   "outputs": [
    {
     "data": {
      "text/plain": [
       "count    5.440129e+07\n",
       "mean     1.379260e+01\n",
       "std      1.286110e+01\n",
       "min      1.016667e+00\n",
       "25%      6.066667e+00\n",
       "50%      1.021667e+01\n",
       "75%      1.781667e+01\n",
       "max      2.399833e+02\n",
       "Name: tripduration, dtype: float64"
      ]
     },
     "execution_count": 45,
     "metadata": {},
     "output_type": "execute_result"
    }
   ],
   "source": [
    "#determine tripduration statistics (min, max, average, std, etc.)\n",
    "data['tripduration'].describe()"
   ]
  },
  {
   "cell_type": "code",
   "execution_count": 46,
   "metadata": {},
   "outputs": [
    {
     "data": {
      "image/png": "[encoded data removed]",
      "text/plain": [
       "<Figure size 432x288 with 1 Axes>"
      ]
     },
     "metadata": {
      "needs_background": "light"
     },
     "output_type": "display_data"
    }
   ],
   "source": [
    "times = data['tripduration']\n",
    "times.plot.hist(grid=True, bins=240, rwidth=0.9)\n",
    "plt.title('Trip Duration of all Rides: NYC 2017-19')\n",
    "plt.xlabel('Duration (min)')\n",
    "plt.ylabel('# of Rides (in millions)')\n",
    "ticks=[]\n",
    "for i in range(250):\n",
    "    if i%10==0:\n",
    "        ticks.append(i)\n",
    "plt.xticks(ticks, rotation='vertical', size=8)\n",
    "\n",
    "plt.grid(axis='y', alpha=0.75)"
   ]
  },
  {
   "cell_type": "code",
   "execution_count": 65,
   "metadata": {},
   "outputs": [
    {
     "data": {
      "image/png": "[encoded data removed]",
      "text/plain": [
       "<Figure size 432x288 with 2 Axes>"
      ]
     },
     "metadata": {
      "needs_background": "light"
     },
     "output_type": "display_data"
    }
   ],
   "source": [
    "#Box plot and Dist plot with mean and median lines\n",
    "f, (ax_box, ax_hist) = plt.subplots(2, sharex=True, gridspec_kw= {\"height_ratios\": (0.2, 1)})\n",
    "mean=data['tripduration'].mean()\n",
    "median=data['tripduration'].median()\n",
    "\n",
    "sns.boxplot(data['tripduration'], ax=ax_box)\n",
    "ax_box.axvline(mean, color='r', linestyle='--')\n",
    "ax_box.axvline(median, color='g', linestyle='-')\n",
    "\n",
    "sns.distplot(data['tripduration'], ax=ax_hist)\n",
    "ax_hist.axvline(mean, color='r', linestyle='--')\n",
    "ax_hist.axvline(median, color='g', linestyle='-')\n",
    "\n",
    "plt.legend({'Mean':mean,'Median':median})\n",
    "\n",
    "ax_box.set(xlabel='')\n",
    "plt.show()"
   ]
  },
  {
   "cell_type": "code",
   "execution_count": 47,
   "metadata": {},
   "outputs": [],
   "source": [
    "#Subcriber v Customer Rides\n",
    "grouped_user = data.groupby(data['usertype'])\n",
    "df_sub = grouped_user.get_group('Subscriber')\n",
    "df_cust = grouped_user.get_group('Customer')"
   ]
  },
  {
   "cell_type": "code",
   "execution_count": 48,
   "metadata": {},
   "outputs": [
    {
     "data": {
      "text/plain": [
       "count    4.784858e+07\n",
       "mean     1.227137e+01\n",
       "std      1.008005e+01\n",
       "min      1.016667e+00\n",
       "25%      5.716667e+00\n",
       "50%      9.366667e+00\n",
       "75%      1.575000e+01\n",
       "max      2.399833e+02\n",
       "Name: tripduration, dtype: float64"
      ]
     },
     "execution_count": 48,
     "metadata": {},
     "output_type": "execute_result"
    }
   ],
   "source": [
    "df_sub['tripduration'].describe()"
   ]
  },
  {
   "cell_type": "code",
   "execution_count": 49,
   "metadata": {},
   "outputs": [
    {
     "data": {
      "image/png": "[encoded data removed]",
      "text/plain": [
       "<Figure size 432x288 with 1 Axes>"
      ]
     },
     "metadata": {
      "needs_background": "light"
     },
     "output_type": "display_data"
    }
   ],
   "source": [
    "sub_times = df_sub['tripduration']\n",
    "sub_times.plot.hist(grid=True, bins=240, rwidth=0.9)\n",
    "plt.title('Trip Duration of Subscriber Rides: NYC 2017-19')\n",
    "plt.xlabel('Duration (min)')\n",
    "plt.ylabel('# of Rides (in millions)')\n",
    "ticks=[]\n",
    "for i in range(250):\n",
    "    if i%10==0:\n",
    "        ticks.append(i)\n",
    "plt.xticks(ticks, rotation='vertical', size=8)\n",
    "\n",
    "plt.grid(axis='y', alpha=0.75)"
   ]
  },
  {
   "cell_type": "code",
   "execution_count": 50,
   "metadata": {},
   "outputs": [
    {
     "data": {
      "image/png": "[encoded data removed]",
      "text/plain": [
       "<Figure size 432x288 with 2 Axes>"
      ]
     },
     "metadata": {
      "needs_background": "light"
     },
     "output_type": "display_data"
    }
   ],
   "source": [
    "#Box plot and Dist plot with mean and median lines\n",
    "f, (ax_box, ax_hist) = plt.subplots(2, sharex=True, gridspec_kw= {\"height_ratios\": (0.2, 1)})\n",
    "mean=df_sub['tripduration'].mean()\n",
    "median=df_sub['tripduration'].median()\n",
    "\n",
    "sns.boxplot(df_sub['tripduration'], ax=ax_box)\n",
    "ax_box.axvline(mean, color='r', linestyle='--')\n",
    "ax_box.axvline(median, color='g', linestyle='-')\n",
    "\n",
    "sns.distplot(df_sub['tripduration'], ax=ax_hist)\n",
    "ax_hist.axvline(mean, color='r', linestyle='--')\n",
    "ax_hist.axvline(median, color='g', linestyle='-')\n",
    "\n",
    "plt.legend({'Mean':mean,'Median':median})\n",
    "\n",
    "ax_box.set(xlabel='')\n",
    "plt.show()"
   ]
  },
  {
   "cell_type": "code",
   "execution_count": 51,
   "metadata": {},
   "outputs": [
    {
     "data": {
      "text/plain": [
       "count    6.536886e+06\n",
       "mean     2.490885e+01\n",
       "std      2.216781e+01\n",
       "min      1.016667e+00\n",
       "25%      1.296667e+01\n",
       "50%      2.075000e+01\n",
       "75%      2.850000e+01\n",
       "max      2.399833e+02\n",
       "Name: tripduration, dtype: float64"
      ]
     },
     "execution_count": 51,
     "metadata": {},
     "output_type": "execute_result"
    }
   ],
   "source": [
    "df_cust['tripduration'].describe()"
   ]
  },
  {
   "cell_type": "code",
   "execution_count": 52,
   "metadata": {},
   "outputs": [
    {
     "data": {
      "image/png": "[encoded data removed]",
      "text/plain": [
       "<Figure size 432x288 with 1 Axes>"
      ]
     },
     "metadata": {
      "needs_background": "light"
     },
     "output_type": "display_data"
    }
   ],
   "source": [
    "cust_times = df_cust['tripduration']\n",
    "cust_times.plot.hist(grid=True, bins=240, rwidth=0.9)\n",
    "plt.title('Trip Duration of Customer Rides: NYC 2017-19')\n",
    "plt.xlabel('Duration (min)')\n",
    "plt.ylabel('# of Rides')\n",
    "ticks=[]\n",
    "for i in range(250):\n",
    "    if i%10==0:\n",
    "        ticks.append(i)\n",
    "plt.xticks(ticks, rotation='vertical', size=8)\n",
    "\n",
    "plt.grid(axis='y', alpha=0.75)"
   ]
  },
  {
   "cell_type": "code",
   "execution_count": 73,
   "metadata": {},
   "outputs": [
    {
     "data": {
      "image/png": "[encoded data removed]",
      "text/plain": [
       "<Figure size 432x288 with 2 Axes>"
      ]
     },
     "metadata": {
      "needs_background": "light"
     },
     "output_type": "display_data"
    }
   ],
   "source": [
    "#Box plot and Dist plot with mean and median lines\n",
    "f, (ax_box, ax_hist) = plt.subplots(2, sharex=True, gridspec_kw= {\"height_ratios\": (0.2, 1)})\n",
    "mean=df_cust['tripduration'].mean()\n",
    "median=df_cust['tripduration'].median()\n",
    "\n",
    "sns.boxplot(df_cust['tripduration'], ax=ax_box)\n",
    "ax_box.axvline(mean, color='r', linestyle='--')\n",
    "ax_box.axvline(median, color='g', linestyle='-')\n",
    "\n",
    "sns.distplot(df_cust['tripduration'], ax=ax_hist)\n",
    "ax_hist.axvline(mean, color='r', linestyle='--')\n",
    "ax_hist.axvline(median, color='g', linestyle='-')\n",
    "\n",
    "plt.legend({'Mean':mean,'Median':median})\n",
    "\n",
    "ax_box.set(xlabel='')\n",
    "plt.show()"
   ]
  },
  {
   "cell_type": "code",
   "execution_count": 53,
   "metadata": {},
   "outputs": [
    {
     "data": {
      "text/plain": [
       "count    1.337665e+07\n",
       "mean     1.583002e+01\n",
       "std      1.543140e+01\n",
       "min      1.016667e+00\n",
       "25%      6.500000e+00\n",
       "50%      1.156667e+01\n",
       "75%      2.096667e+01\n",
       "max      2.399833e+02\n",
       "Name: tripduration, dtype: float64"
      ]
     },
     "execution_count": 53,
     "metadata": {},
     "output_type": "execute_result"
    }
   ],
   "source": [
    "weekend_df['tripduration'].describe()"
   ]
  },
  {
   "cell_type": "code",
   "execution_count": 55,
   "metadata": {},
   "outputs": [
    {
     "data": {
      "image/png": "[encoded data removed]",
      "text/plain": [
       "<Figure size 432x288 with 1 Axes>"
      ]
     },
     "metadata": {
      "needs_background": "light"
     },
     "output_type": "display_data"
    }
   ],
   "source": [
    "weekend_times = weekend_df['tripduration']\n",
    "weekend_times.plot.hist(grid=True, bins=240, rwidth=0.9)\n",
    "plt.title('Trip Duration of Weekend Rides: NYC 2017-19')\n",
    "plt.xlabel('Duration (min)')\n",
    "plt.ylabel('# of Rides')\n",
    "ticks=[]\n",
    "for i in range(250):\n",
    "    if i%10==0:\n",
    "        ticks.append(i)\n",
    "plt.xticks(ticks, rotation='vertical', size=8)\n",
    "\n",
    "plt.grid(axis='y', alpha=0.75)"
   ]
  },
  {
   "cell_type": "code",
   "execution_count": 56,
   "metadata": {},
   "outputs": [
    {
     "data": {
      "text/plain": [
       "count    4.102465e+07\n",
       "mean     1.312827e+01\n",
       "std      1.182800e+01\n",
       "min      1.016667e+00\n",
       "25%      5.933333e+00\n",
       "50%      9.866667e+00\n",
       "75%      1.686667e+01\n",
       "max      2.399833e+02\n",
       "Name: tripduration, dtype: float64"
      ]
     },
     "execution_count": 56,
     "metadata": {},
     "output_type": "execute_result"
    }
   ],
   "source": [
    "weekday_df['tripduration'].describe()"
   ]
  },
  {
   "cell_type": "code",
   "execution_count": 58,
   "metadata": {},
   "outputs": [
    {
     "data": {
      "image/png": "[encoded data removed]",
      "text/plain": [
       "<Figure size 432x288 with 1 Axes>"
      ]
     },
     "metadata": {
      "needs_background": "light"
     },
     "output_type": "display_data"
    }
   ],
   "source": [
    "weekday_times = weekday_df['tripduration']\n",
    "weekday_times.plot.hist(grid=True, bins=240, rwidth=0.9)\n",
    "plt.title('Trip Duration of Weekday Rides: NYC 2017-19')\n",
    "plt.xlabel('Duration (min)')\n",
    "plt.ylabel('# of Rides')\n",
    "ticks=[]\n",
    "for i in range(250):\n",
    "    if i%10==0:\n",
    "        ticks.append(i)\n",
    "plt.xticks(ticks, rotation='vertical', size=8)\n",
    "\n",
    "plt.grid(axis='y', alpha=0.75)"
   ]
  },
  {
   "cell_type": "code",
   "execution_count": null,
   "metadata": {},
   "outputs": [],
   "source": []
  }
 ],
 "metadata": {
  "kernelspec": {
   "display_name": "Python 3",
   "language": "python",
   "name": "python3"
  },
  "language_info": {
   "codemirror_mode": {
    "name": "ipython",
    "version": 3
   },
   "file_extension": ".py",
   "mimetype": "text/x-python",
   "name": "python",
   "nbconvert_exporter": "python",
   "pygments_lexer": "ipython3",
   "version": "3.8.3rc1"
  }
 },
 "nbformat": 4,
 "nbformat_minor": 4
}
