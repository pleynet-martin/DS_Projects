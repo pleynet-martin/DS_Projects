{
 "cells": [
  {
   "cell_type": "code",
   "execution_count": 1,
   "metadata": {},
   "outputs": [],
   "source": [
    "import pandas as pd\n",
    "import os\n",
    "import matplotlib.pyplot as plt\n",
    "import numpy as np\n",
    "import seaborn as sns\n",
    "from scipy import stats\n",
    "from math import *"
   ]
  },
  {
   "cell_type": "code",
   "execution_count": 3,
   "metadata": {},
   "outputs": [
    {
     "name": "stderr",
     "output_type": "stream",
     "text": [
      "/Library/Frameworks/Python.framework/Versions/3.8/lib/python3.8/site-packages/IPython/core/interactiveshell.py:3062: DtypeWarning: Columns (12) have mixed types.Specify dtype option on import or set low_memory=False.\n",
      "  has_raised = await self.run_ast_nodes(code_ast.body, cell_name,\n",
      "/Library/Frameworks/Python.framework/Versions/3.8/lib/python3.8/site-packages/IPython/core/interactiveshell.py:3062: DtypeWarning: Columns (18) have mixed types.Specify dtype option on import or set low_memory=False.\n",
      "  has_raised = await self.run_ast_nodes(code_ast.body, cell_name,\n",
      "/Library/Frameworks/Python.framework/Versions/3.8/lib/python3.8/site-packages/IPython/core/interactiveshell.py:3062: DtypeWarning: Columns (12,18) have mixed types.Specify dtype option on import or set low_memory=False.\n",
      "  has_raised = await self.run_ast_nodes(code_ast.body, cell_name,\n"
     ]
    }
   ],
   "source": [
    "files = [file for file in os.listdir(\"./201719Data\")]\n",
    "all_years_data = pd.DataFrame()\n",
    "for file in files:\n",
    "    df = pd.read_csv(\"./201719Data/\"+file)\n",
    "    all_years_data = pd.concat([all_years_data, df])\n",
    "\n",
    "all_years_data.to_csv(\"201719Portland.csv\", index=False)"
   ]
  },
  {
   "cell_type": "code",
   "execution_count": 2,
   "metadata": {},
   "outputs": [
    {
     "name": "stderr",
     "output_type": "stream",
     "text": [
      "/Library/Frameworks/Python.framework/Versions/3.8/lib/python3.8/site-packages/IPython/core/interactiveshell.py:3062: DtypeWarning: Columns (18) have mixed types.Specify dtype option on import or set low_memory=False.\n",
      "  has_raised = await self.run_ast_nodes(code_ast.body, cell_name,\n"
     ]
    }
   ],
   "source": [
    "all_data = pd.read_csv(\"201719Portland.csv\")"
   ]
  },
  {
   "cell_type": "code",
   "execution_count": 3,
   "metadata": {},
   "outputs": [
    {
     "data": {
      "text/html": [
       "<div>\n",
       "<style scoped>\n",
       "    .dataframe tbody tr th:only-of-type {\n",
       "        vertical-align: middle;\n",
       "    }\n",
       "\n",
       "    .dataframe tbody tr th {\n",
       "        vertical-align: top;\n",
       "    }\n",
       "\n",
       "    .dataframe thead th {\n",
       "        text-align: right;\n",
       "    }\n",
       "</style>\n",
       "<table border=\"1\" class=\"dataframe\">\n",
       "  <thead>\n",
       "    <tr style=\"text-align: right;\">\n",
       "      <th></th>\n",
       "      <th>RouteID</th>\n",
       "      <th>PaymentPlan</th>\n",
       "      <th>StartHub</th>\n",
       "      <th>StartLatitude</th>\n",
       "      <th>StartLongitude</th>\n",
       "      <th>StartDate</th>\n",
       "      <th>StartTime</th>\n",
       "      <th>EndHub</th>\n",
       "      <th>EndLatitude</th>\n",
       "      <th>EndLongitude</th>\n",
       "      <th>...</th>\n",
       "      <th>BikeName</th>\n",
       "      <th>Distance_Miles</th>\n",
       "      <th>Duration</th>\n",
       "      <th>RentalAccessPath</th>\n",
       "      <th>MultipleRental</th>\n",
       "      <th>Start_Latitude</th>\n",
       "      <th>Start_Longitude</th>\n",
       "      <th>End_Latitude</th>\n",
       "      <th>End_Longitude</th>\n",
       "      <th>Distance_Miles_</th>\n",
       "    </tr>\n",
       "  </thead>\n",
       "  <tbody>\n",
       "    <tr>\n",
       "      <th>0</th>\n",
       "      <td>4686114.0</td>\n",
       "      <td>Subscriber</td>\n",
       "      <td>NW 22nd at LoveJoy</td>\n",
       "      <td>45.529760</td>\n",
       "      <td>-122.696643</td>\n",
       "      <td>10/1/2017</td>\n",
       "      <td>0:05</td>\n",
       "      <td>NW Broadway at Everett</td>\n",
       "      <td>45.525079</td>\n",
       "      <td>-122.677556</td>\n",
       "      <td>...</td>\n",
       "      <td>0642 BIKETOWN</td>\n",
       "      <td>1.51</td>\n",
       "      <td>0:13:04</td>\n",
       "      <td>keypad</td>\n",
       "      <td>False</td>\n",
       "      <td>NaN</td>\n",
       "      <td>NaN</td>\n",
       "      <td>NaN</td>\n",
       "      <td>NaN</td>\n",
       "      <td>NaN</td>\n",
       "    </tr>\n",
       "    <tr>\n",
       "      <th>1</th>\n",
       "      <td>4686153.0</td>\n",
       "      <td>Casual</td>\n",
       "      <td>NaN</td>\n",
       "      <td>45.522941</td>\n",
       "      <td>-122.688602</td>\n",
       "      <td>10/1/2017</td>\n",
       "      <td>0:17</td>\n",
       "      <td>SW 3rd at Ankeny</td>\n",
       "      <td>45.522479</td>\n",
       "      <td>-122.673297</td>\n",
       "      <td>...</td>\n",
       "      <td>0057 BIKETOWN</td>\n",
       "      <td>0.78</td>\n",
       "      <td>0:05:11</td>\n",
       "      <td>keypad</td>\n",
       "      <td>False</td>\n",
       "      <td>NaN</td>\n",
       "      <td>NaN</td>\n",
       "      <td>NaN</td>\n",
       "      <td>NaN</td>\n",
       "      <td>NaN</td>\n",
       "    </tr>\n",
       "    <tr>\n",
       "      <th>2</th>\n",
       "      <td>4686156.0</td>\n",
       "      <td>Subscriber</td>\n",
       "      <td>NaN</td>\n",
       "      <td>45.521622</td>\n",
       "      <td>-122.682415</td>\n",
       "      <td>10/1/2017</td>\n",
       "      <td>0:18</td>\n",
       "      <td>SW Morrison at 18th</td>\n",
       "      <td>45.521960</td>\n",
       "      <td>-122.689677</td>\n",
       "      <td>...</td>\n",
       "      <td>0026 BIKETOWN</td>\n",
       "      <td>0.43</td>\n",
       "      <td>0:03:58</td>\n",
       "      <td>keypad</td>\n",
       "      <td>False</td>\n",
       "      <td>NaN</td>\n",
       "      <td>NaN</td>\n",
       "      <td>NaN</td>\n",
       "      <td>NaN</td>\n",
       "      <td>NaN</td>\n",
       "    </tr>\n",
       "    <tr>\n",
       "      <th>3</th>\n",
       "      <td>4686164.0</td>\n",
       "      <td>Casual</td>\n",
       "      <td>SW Morrison at Pioneer Courthouse Sq.</td>\n",
       "      <td>45.519289</td>\n",
       "      <td>-122.679249</td>\n",
       "      <td>10/1/2017</td>\n",
       "      <td>0:21</td>\n",
       "      <td>NW 13th at Marshall</td>\n",
       "      <td>45.530804</td>\n",
       "      <td>-122.684423</td>\n",
       "      <td>...</td>\n",
       "      <td>0819 BIKETOWN</td>\n",
       "      <td>1.02</td>\n",
       "      <td>0:11:30</td>\n",
       "      <td>keypad</td>\n",
       "      <td>False</td>\n",
       "      <td>NaN</td>\n",
       "      <td>NaN</td>\n",
       "      <td>NaN</td>\n",
       "      <td>NaN</td>\n",
       "      <td>NaN</td>\n",
       "    </tr>\n",
       "    <tr>\n",
       "      <th>4</th>\n",
       "      <td>4686166.0</td>\n",
       "      <td>Subscriber</td>\n",
       "      <td>NaN</td>\n",
       "      <td>45.531477</td>\n",
       "      <td>-122.684482</td>\n",
       "      <td>10/1/2017</td>\n",
       "      <td>0:22</td>\n",
       "      <td>NaN</td>\n",
       "      <td>45.536071</td>\n",
       "      <td>-122.685271</td>\n",
       "      <td>...</td>\n",
       "      <td>0388 BIKETOWN</td>\n",
       "      <td>0.93</td>\n",
       "      <td>0:13:40</td>\n",
       "      <td>keypad_rfid_card</td>\n",
       "      <td>False</td>\n",
       "      <td>NaN</td>\n",
       "      <td>NaN</td>\n",
       "      <td>NaN</td>\n",
       "      <td>NaN</td>\n",
       "      <td>NaN</td>\n",
       "    </tr>\n",
       "  </tbody>\n",
       "</table>\n",
       "<p>5 rows × 24 columns</p>\n",
       "</div>"
      ],
      "text/plain": [
       "     RouteID PaymentPlan                               StartHub  \\\n",
       "0  4686114.0  Subscriber                     NW 22nd at LoveJoy   \n",
       "1  4686153.0      Casual                                    NaN   \n",
       "2  4686156.0  Subscriber                                    NaN   \n",
       "3  4686164.0      Casual  SW Morrison at Pioneer Courthouse Sq.   \n",
       "4  4686166.0  Subscriber                                    NaN   \n",
       "\n",
       "   StartLatitude  StartLongitude  StartDate StartTime                  EndHub  \\\n",
       "0      45.529760     -122.696643  10/1/2017      0:05  NW Broadway at Everett   \n",
       "1      45.522941     -122.688602  10/1/2017      0:17        SW 3rd at Ankeny   \n",
       "2      45.521622     -122.682415  10/1/2017      0:18     SW Morrison at 18th   \n",
       "3      45.519289     -122.679249  10/1/2017      0:21     NW 13th at Marshall   \n",
       "4      45.531477     -122.684482  10/1/2017      0:22                     NaN   \n",
       "\n",
       "   EndLatitude  EndLongitude  ...       BikeName Distance_Miles Duration  \\\n",
       "0    45.525079   -122.677556  ...  0642 BIKETOWN           1.51  0:13:04   \n",
       "1    45.522479   -122.673297  ...  0057 BIKETOWN           0.78  0:05:11   \n",
       "2    45.521960   -122.689677  ...  0026 BIKETOWN           0.43  0:03:58   \n",
       "3    45.530804   -122.684423  ...  0819 BIKETOWN           1.02  0:11:30   \n",
       "4    45.536071   -122.685271  ...  0388 BIKETOWN           0.93  0:13:40   \n",
       "\n",
       "   RentalAccessPath MultipleRental  Start_Latitude Start_Longitude  \\\n",
       "0            keypad          False             NaN             NaN   \n",
       "1            keypad          False             NaN             NaN   \n",
       "2            keypad          False             NaN             NaN   \n",
       "3            keypad          False             NaN             NaN   \n",
       "4  keypad_rfid_card          False             NaN             NaN   \n",
       "\n",
       "  End_Latitude End_Longitude  Distance_Miles_  \n",
       "0          NaN           NaN              NaN  \n",
       "1          NaN           NaN              NaN  \n",
       "2          NaN           NaN              NaN  \n",
       "3          NaN           NaN              NaN  \n",
       "4          NaN           NaN              NaN  \n",
       "\n",
       "[5 rows x 24 columns]"
      ]
     },
     "execution_count": 3,
     "metadata": {},
     "output_type": "execute_result"
    }
   ],
   "source": [
    "all_data.head()"
   ]
  },
  {
   "cell_type": "code",
   "execution_count": 4,
   "metadata": {},
   "outputs": [],
   "source": [
    "del all_data['RouteID']\n",
    "del all_data['StartLatitude']\n",
    "del all_data['StartLongitude']\n",
    "del all_data['EndLatitude']\n",
    "del all_data['EndLongitude']\n",
    "del all_data['RentalAccessPath']\n",
    "del all_data['MultipleRental']\n",
    "del all_data['Start_Latitude']\n",
    "del all_data['Start_Longitude']\n",
    "del all_data['End_Latitude']\n",
    "del all_data['End_Longitude']\n",
    "del all_data['Distance_Miles_']\n",
    "del all_data['TripType']\n",
    "del all_data['Distance_Miles']"
   ]
  },
  {
   "cell_type": "code",
   "execution_count": 5,
   "metadata": {},
   "outputs": [
    {
     "data": {
      "text/html": [
       "<div>\n",
       "<style scoped>\n",
       "    .dataframe tbody tr th:only-of-type {\n",
       "        vertical-align: middle;\n",
       "    }\n",
       "\n",
       "    .dataframe tbody tr th {\n",
       "        vertical-align: top;\n",
       "    }\n",
       "\n",
       "    .dataframe thead th {\n",
       "        text-align: right;\n",
       "    }\n",
       "</style>\n",
       "<table border=\"1\" class=\"dataframe\">\n",
       "  <thead>\n",
       "    <tr style=\"text-align: right;\">\n",
       "      <th></th>\n",
       "      <th>PaymentPlan</th>\n",
       "      <th>StartHub</th>\n",
       "      <th>StartDate</th>\n",
       "      <th>StartTime</th>\n",
       "      <th>EndHub</th>\n",
       "      <th>EndDate</th>\n",
       "      <th>EndTime</th>\n",
       "      <th>BikeID</th>\n",
       "      <th>BikeName</th>\n",
       "      <th>Duration</th>\n",
       "    </tr>\n",
       "  </thead>\n",
       "  <tbody>\n",
       "    <tr>\n",
       "      <th>0</th>\n",
       "      <td>Subscriber</td>\n",
       "      <td>NW 22nd at LoveJoy</td>\n",
       "      <td>10/1/2017</td>\n",
       "      <td>0:05</td>\n",
       "      <td>NW Broadway at Everett</td>\n",
       "      <td>10/1/2017</td>\n",
       "      <td>0:18</td>\n",
       "      <td>6563.0</td>\n",
       "      <td>0642 BIKETOWN</td>\n",
       "      <td>0:13:04</td>\n",
       "    </tr>\n",
       "    <tr>\n",
       "      <th>1</th>\n",
       "      <td>Casual</td>\n",
       "      <td>NaN</td>\n",
       "      <td>10/1/2017</td>\n",
       "      <td>0:17</td>\n",
       "      <td>SW 3rd at Ankeny</td>\n",
       "      <td>10/1/2017</td>\n",
       "      <td>0:22</td>\n",
       "      <td>6273.0</td>\n",
       "      <td>0057 BIKETOWN</td>\n",
       "      <td>0:05:11</td>\n",
       "    </tr>\n",
       "    <tr>\n",
       "      <th>2</th>\n",
       "      <td>Subscriber</td>\n",
       "      <td>NaN</td>\n",
       "      <td>10/1/2017</td>\n",
       "      <td>0:18</td>\n",
       "      <td>SW Morrison at 18th</td>\n",
       "      <td>10/1/2017</td>\n",
       "      <td>0:22</td>\n",
       "      <td>7280.0</td>\n",
       "      <td>0026 BIKETOWN</td>\n",
       "      <td>0:03:58</td>\n",
       "    </tr>\n",
       "    <tr>\n",
       "      <th>3</th>\n",
       "      <td>Casual</td>\n",
       "      <td>SW Morrison at Pioneer Courthouse Sq.</td>\n",
       "      <td>10/1/2017</td>\n",
       "      <td>0:21</td>\n",
       "      <td>NW 13th at Marshall</td>\n",
       "      <td>10/1/2017</td>\n",
       "      <td>0:33</td>\n",
       "      <td>6274.0</td>\n",
       "      <td>0819 BIKETOWN</td>\n",
       "      <td>0:11:30</td>\n",
       "    </tr>\n",
       "    <tr>\n",
       "      <th>4</th>\n",
       "      <td>Subscriber</td>\n",
       "      <td>NaN</td>\n",
       "      <td>10/1/2017</td>\n",
       "      <td>0:22</td>\n",
       "      <td>NaN</td>\n",
       "      <td>10/1/2017</td>\n",
       "      <td>0:36</td>\n",
       "      <td>7112.0</td>\n",
       "      <td>0388 BIKETOWN</td>\n",
       "      <td>0:13:40</td>\n",
       "    </tr>\n",
       "  </tbody>\n",
       "</table>\n",
       "</div>"
      ],
      "text/plain": [
       "  PaymentPlan                               StartHub  StartDate StartTime  \\\n",
       "0  Subscriber                     NW 22nd at LoveJoy  10/1/2017      0:05   \n",
       "1      Casual                                    NaN  10/1/2017      0:17   \n",
       "2  Subscriber                                    NaN  10/1/2017      0:18   \n",
       "3      Casual  SW Morrison at Pioneer Courthouse Sq.  10/1/2017      0:21   \n",
       "4  Subscriber                                    NaN  10/1/2017      0:22   \n",
       "\n",
       "                   EndHub    EndDate EndTime  BikeID       BikeName Duration  \n",
       "0  NW Broadway at Everett  10/1/2017    0:18  6563.0  0642 BIKETOWN  0:13:04  \n",
       "1        SW 3rd at Ankeny  10/1/2017    0:22  6273.0  0057 BIKETOWN  0:05:11  \n",
       "2     SW Morrison at 18th  10/1/2017    0:22  7280.0  0026 BIKETOWN  0:03:58  \n",
       "3     NW 13th at Marshall  10/1/2017    0:33  6274.0  0819 BIKETOWN  0:11:30  \n",
       "4                     NaN  10/1/2017    0:36  7112.0  0388 BIKETOWN  0:13:40  "
      ]
     },
     "execution_count": 5,
     "metadata": {},
     "output_type": "execute_result"
    }
   ],
   "source": [
    "all_data.head()"
   ]
  },
  {
   "cell_type": "code",
   "execution_count": 6,
   "metadata": {},
   "outputs": [],
   "source": [
    "all_data['StartDate'] = all_data['StartDate'] + ' ' + all_data['StartTime']\n",
    "all_data['EndDate'] = all_data['EndDate'] + ' ' + all_data['EndTime']\n"
   ]
  },
  {
   "cell_type": "code",
   "execution_count": 7,
   "metadata": {},
   "outputs": [
    {
     "data": {
      "text/html": [
       "<div>\n",
       "<style scoped>\n",
       "    .dataframe tbody tr th:only-of-type {\n",
       "        vertical-align: middle;\n",
       "    }\n",
       "\n",
       "    .dataframe tbody tr th {\n",
       "        vertical-align: top;\n",
       "    }\n",
       "\n",
       "    .dataframe thead th {\n",
       "        text-align: right;\n",
       "    }\n",
       "</style>\n",
       "<table border=\"1\" class=\"dataframe\">\n",
       "  <thead>\n",
       "    <tr style=\"text-align: right;\">\n",
       "      <th></th>\n",
       "      <th>PaymentPlan</th>\n",
       "      <th>StartHub</th>\n",
       "      <th>StartDate</th>\n",
       "      <th>StartTime</th>\n",
       "      <th>EndHub</th>\n",
       "      <th>EndDate</th>\n",
       "      <th>EndTime</th>\n",
       "      <th>BikeID</th>\n",
       "      <th>BikeName</th>\n",
       "      <th>Duration</th>\n",
       "    </tr>\n",
       "  </thead>\n",
       "  <tbody>\n",
       "    <tr>\n",
       "      <th>0</th>\n",
       "      <td>Subscriber</td>\n",
       "      <td>NW 22nd at LoveJoy</td>\n",
       "      <td>10/1/2017 0:05</td>\n",
       "      <td>0:05</td>\n",
       "      <td>NW Broadway at Everett</td>\n",
       "      <td>10/1/2017 0:18</td>\n",
       "      <td>0:18</td>\n",
       "      <td>6563.0</td>\n",
       "      <td>0642 BIKETOWN</td>\n",
       "      <td>0:13:04</td>\n",
       "    </tr>\n",
       "    <tr>\n",
       "      <th>1</th>\n",
       "      <td>Casual</td>\n",
       "      <td>NaN</td>\n",
       "      <td>10/1/2017 0:17</td>\n",
       "      <td>0:17</td>\n",
       "      <td>SW 3rd at Ankeny</td>\n",
       "      <td>10/1/2017 0:22</td>\n",
       "      <td>0:22</td>\n",
       "      <td>6273.0</td>\n",
       "      <td>0057 BIKETOWN</td>\n",
       "      <td>0:05:11</td>\n",
       "    </tr>\n",
       "    <tr>\n",
       "      <th>2</th>\n",
       "      <td>Subscriber</td>\n",
       "      <td>NaN</td>\n",
       "      <td>10/1/2017 0:18</td>\n",
       "      <td>0:18</td>\n",
       "      <td>SW Morrison at 18th</td>\n",
       "      <td>10/1/2017 0:22</td>\n",
       "      <td>0:22</td>\n",
       "      <td>7280.0</td>\n",
       "      <td>0026 BIKETOWN</td>\n",
       "      <td>0:03:58</td>\n",
       "    </tr>\n",
       "    <tr>\n",
       "      <th>3</th>\n",
       "      <td>Casual</td>\n",
       "      <td>SW Morrison at Pioneer Courthouse Sq.</td>\n",
       "      <td>10/1/2017 0:21</td>\n",
       "      <td>0:21</td>\n",
       "      <td>NW 13th at Marshall</td>\n",
       "      <td>10/1/2017 0:33</td>\n",
       "      <td>0:33</td>\n",
       "      <td>6274.0</td>\n",
       "      <td>0819 BIKETOWN</td>\n",
       "      <td>0:11:30</td>\n",
       "    </tr>\n",
       "    <tr>\n",
       "      <th>4</th>\n",
       "      <td>Subscriber</td>\n",
       "      <td>NaN</td>\n",
       "      <td>10/1/2017 0:22</td>\n",
       "      <td>0:22</td>\n",
       "      <td>NaN</td>\n",
       "      <td>10/1/2017 0:36</td>\n",
       "      <td>0:36</td>\n",
       "      <td>7112.0</td>\n",
       "      <td>0388 BIKETOWN</td>\n",
       "      <td>0:13:40</td>\n",
       "    </tr>\n",
       "  </tbody>\n",
       "</table>\n",
       "</div>"
      ],
      "text/plain": [
       "  PaymentPlan                               StartHub       StartDate  \\\n",
       "0  Subscriber                     NW 22nd at LoveJoy  10/1/2017 0:05   \n",
       "1      Casual                                    NaN  10/1/2017 0:17   \n",
       "2  Subscriber                                    NaN  10/1/2017 0:18   \n",
       "3      Casual  SW Morrison at Pioneer Courthouse Sq.  10/1/2017 0:21   \n",
       "4  Subscriber                                    NaN  10/1/2017 0:22   \n",
       "\n",
       "  StartTime                  EndHub         EndDate EndTime  BikeID  \\\n",
       "0      0:05  NW Broadway at Everett  10/1/2017 0:18    0:18  6563.0   \n",
       "1      0:17        SW 3rd at Ankeny  10/1/2017 0:22    0:22  6273.0   \n",
       "2      0:18     SW Morrison at 18th  10/1/2017 0:22    0:22  7280.0   \n",
       "3      0:21     NW 13th at Marshall  10/1/2017 0:33    0:33  6274.0   \n",
       "4      0:22                     NaN  10/1/2017 0:36    0:36  7112.0   \n",
       "\n",
       "        BikeName Duration  \n",
       "0  0642 BIKETOWN  0:13:04  \n",
       "1  0057 BIKETOWN  0:05:11  \n",
       "2  0026 BIKETOWN  0:03:58  \n",
       "3  0819 BIKETOWN  0:11:30  \n",
       "4  0388 BIKETOWN  0:13:40  "
      ]
     },
     "execution_count": 7,
     "metadata": {},
     "output_type": "execute_result"
    }
   ],
   "source": [
    "all_data.head()"
   ]
  },
  {
   "cell_type": "code",
   "execution_count": 8,
   "metadata": {},
   "outputs": [],
   "source": [
    "del all_data['StartTime']\n",
    "del all_data['EndTime']\n",
    "del all_data['BikeName']"
   ]
  },
  {
   "cell_type": "code",
   "execution_count": 9,
   "metadata": {},
   "outputs": [],
   "source": [
    "all_data['StartDate'] = pd.to_datetime(all_data[\"StartDate\"])\n",
    "all_data['EndDate'] = pd.to_datetime(all_data[\"EndDate\"])\n",
    "all_data['year'] = all_data[\"StartDate\"].dt.year\n",
    "all_data['month'] = all_data[\"StartDate\"].dt.month"
   ]
  },
  {
   "cell_type": "code",
   "execution_count": 10,
   "metadata": {},
   "outputs": [
    {
     "data": {
      "text/html": [
       "<div>\n",
       "<style scoped>\n",
       "    .dataframe tbody tr th:only-of-type {\n",
       "        vertical-align: middle;\n",
       "    }\n",
       "\n",
       "    .dataframe tbody tr th {\n",
       "        vertical-align: top;\n",
       "    }\n",
       "\n",
       "    .dataframe thead th {\n",
       "        text-align: right;\n",
       "    }\n",
       "</style>\n",
       "<table border=\"1\" class=\"dataframe\">\n",
       "  <thead>\n",
       "    <tr style=\"text-align: right;\">\n",
       "      <th></th>\n",
       "      <th>PaymentPlan</th>\n",
       "      <th>StartHub</th>\n",
       "      <th>StartDate</th>\n",
       "      <th>EndHub</th>\n",
       "      <th>EndDate</th>\n",
       "      <th>BikeID</th>\n",
       "      <th>Duration</th>\n",
       "      <th>year</th>\n",
       "      <th>month</th>\n",
       "    </tr>\n",
       "  </thead>\n",
       "  <tbody>\n",
       "    <tr>\n",
       "      <th>0</th>\n",
       "      <td>Subscriber</td>\n",
       "      <td>NW 22nd at LoveJoy</td>\n",
       "      <td>2017-10-01 00:05:00</td>\n",
       "      <td>NW Broadway at Everett</td>\n",
       "      <td>2017-10-01 00:18:00</td>\n",
       "      <td>6563.0</td>\n",
       "      <td>0:13:04</td>\n",
       "      <td>2017.0</td>\n",
       "      <td>10.0</td>\n",
       "    </tr>\n",
       "    <tr>\n",
       "      <th>1</th>\n",
       "      <td>Casual</td>\n",
       "      <td>NaN</td>\n",
       "      <td>2017-10-01 00:17:00</td>\n",
       "      <td>SW 3rd at Ankeny</td>\n",
       "      <td>2017-10-01 00:22:00</td>\n",
       "      <td>6273.0</td>\n",
       "      <td>0:05:11</td>\n",
       "      <td>2017.0</td>\n",
       "      <td>10.0</td>\n",
       "    </tr>\n",
       "    <tr>\n",
       "      <th>2</th>\n",
       "      <td>Subscriber</td>\n",
       "      <td>NaN</td>\n",
       "      <td>2017-10-01 00:18:00</td>\n",
       "      <td>SW Morrison at 18th</td>\n",
       "      <td>2017-10-01 00:22:00</td>\n",
       "      <td>7280.0</td>\n",
       "      <td>0:03:58</td>\n",
       "      <td>2017.0</td>\n",
       "      <td>10.0</td>\n",
       "    </tr>\n",
       "    <tr>\n",
       "      <th>3</th>\n",
       "      <td>Casual</td>\n",
       "      <td>SW Morrison at Pioneer Courthouse Sq.</td>\n",
       "      <td>2017-10-01 00:21:00</td>\n",
       "      <td>NW 13th at Marshall</td>\n",
       "      <td>2017-10-01 00:33:00</td>\n",
       "      <td>6274.0</td>\n",
       "      <td>0:11:30</td>\n",
       "      <td>2017.0</td>\n",
       "      <td>10.0</td>\n",
       "    </tr>\n",
       "    <tr>\n",
       "      <th>4</th>\n",
       "      <td>Subscriber</td>\n",
       "      <td>NaN</td>\n",
       "      <td>2017-10-01 00:22:00</td>\n",
       "      <td>NaN</td>\n",
       "      <td>2017-10-01 00:36:00</td>\n",
       "      <td>7112.0</td>\n",
       "      <td>0:13:40</td>\n",
       "      <td>2017.0</td>\n",
       "      <td>10.0</td>\n",
       "    </tr>\n",
       "  </tbody>\n",
       "</table>\n",
       "</div>"
      ],
      "text/plain": [
       "  PaymentPlan                               StartHub           StartDate  \\\n",
       "0  Subscriber                     NW 22nd at LoveJoy 2017-10-01 00:05:00   \n",
       "1      Casual                                    NaN 2017-10-01 00:17:00   \n",
       "2  Subscriber                                    NaN 2017-10-01 00:18:00   \n",
       "3      Casual  SW Morrison at Pioneer Courthouse Sq. 2017-10-01 00:21:00   \n",
       "4  Subscriber                                    NaN 2017-10-01 00:22:00   \n",
       "\n",
       "                   EndHub             EndDate  BikeID Duration    year  month  \n",
       "0  NW Broadway at Everett 2017-10-01 00:18:00  6563.0  0:13:04  2017.0   10.0  \n",
       "1        SW 3rd at Ankeny 2017-10-01 00:22:00  6273.0  0:05:11  2017.0   10.0  \n",
       "2     SW Morrison at 18th 2017-10-01 00:22:00  7280.0  0:03:58  2017.0   10.0  \n",
       "3     NW 13th at Marshall 2017-10-01 00:33:00  6274.0  0:11:30  2017.0   10.0  \n",
       "4                     NaN 2017-10-01 00:36:00  7112.0  0:13:40  2017.0   10.0  "
      ]
     },
     "execution_count": 10,
     "metadata": {},
     "output_type": "execute_result"
    }
   ],
   "source": [
    "all_data.head()"
   ]
  },
  {
   "cell_type": "code",
   "execution_count": 11,
   "metadata": {},
   "outputs": [
    {
     "data": {
      "text/html": [
       "<div>\n",
       "<style scoped>\n",
       "    .dataframe tbody tr th:only-of-type {\n",
       "        vertical-align: middle;\n",
       "    }\n",
       "\n",
       "    .dataframe tbody tr th {\n",
       "        vertical-align: top;\n",
       "    }\n",
       "\n",
       "    .dataframe thead th {\n",
       "        text-align: right;\n",
       "    }\n",
       "</style>\n",
       "<table border=\"1\" class=\"dataframe\">\n",
       "  <thead>\n",
       "    <tr style=\"text-align: right;\">\n",
       "      <th></th>\n",
       "      <th>PaymentPlan</th>\n",
       "      <th>StartHub</th>\n",
       "      <th>StartDate</th>\n",
       "      <th>EndHub</th>\n",
       "      <th>EndDate</th>\n",
       "      <th>BikeID</th>\n",
       "      <th>Duration</th>\n",
       "      <th>year</th>\n",
       "      <th>month</th>\n",
       "      <th>Starthour</th>\n",
       "    </tr>\n",
       "  </thead>\n",
       "  <tbody>\n",
       "    <tr>\n",
       "      <th>0</th>\n",
       "      <td>Subscriber</td>\n",
       "      <td>NW 22nd at LoveJoy</td>\n",
       "      <td>2017-10-01 00:05:00</td>\n",
       "      <td>NW Broadway at Everett</td>\n",
       "      <td>2017-10-01 00:18:00</td>\n",
       "      <td>6563.0</td>\n",
       "      <td>0:13:04</td>\n",
       "      <td>2017.0</td>\n",
       "      <td>10.0</td>\n",
       "      <td>0.0</td>\n",
       "    </tr>\n",
       "    <tr>\n",
       "      <th>1</th>\n",
       "      <td>Casual</td>\n",
       "      <td>NaN</td>\n",
       "      <td>2017-10-01 00:17:00</td>\n",
       "      <td>SW 3rd at Ankeny</td>\n",
       "      <td>2017-10-01 00:22:00</td>\n",
       "      <td>6273.0</td>\n",
       "      <td>0:05:11</td>\n",
       "      <td>2017.0</td>\n",
       "      <td>10.0</td>\n",
       "      <td>0.0</td>\n",
       "    </tr>\n",
       "    <tr>\n",
       "      <th>2</th>\n",
       "      <td>Subscriber</td>\n",
       "      <td>NaN</td>\n",
       "      <td>2017-10-01 00:18:00</td>\n",
       "      <td>SW Morrison at 18th</td>\n",
       "      <td>2017-10-01 00:22:00</td>\n",
       "      <td>7280.0</td>\n",
       "      <td>0:03:58</td>\n",
       "      <td>2017.0</td>\n",
       "      <td>10.0</td>\n",
       "      <td>0.0</td>\n",
       "    </tr>\n",
       "    <tr>\n",
       "      <th>3</th>\n",
       "      <td>Casual</td>\n",
       "      <td>SW Morrison at Pioneer Courthouse Sq.</td>\n",
       "      <td>2017-10-01 00:21:00</td>\n",
       "      <td>NW 13th at Marshall</td>\n",
       "      <td>2017-10-01 00:33:00</td>\n",
       "      <td>6274.0</td>\n",
       "      <td>0:11:30</td>\n",
       "      <td>2017.0</td>\n",
       "      <td>10.0</td>\n",
       "      <td>0.0</td>\n",
       "    </tr>\n",
       "    <tr>\n",
       "      <th>4</th>\n",
       "      <td>Subscriber</td>\n",
       "      <td>NaN</td>\n",
       "      <td>2017-10-01 00:22:00</td>\n",
       "      <td>NaN</td>\n",
       "      <td>2017-10-01 00:36:00</td>\n",
       "      <td>7112.0</td>\n",
       "      <td>0:13:40</td>\n",
       "      <td>2017.0</td>\n",
       "      <td>10.0</td>\n",
       "      <td>0.0</td>\n",
       "    </tr>\n",
       "  </tbody>\n",
       "</table>\n",
       "</div>"
      ],
      "text/plain": [
       "  PaymentPlan                               StartHub           StartDate  \\\n",
       "0  Subscriber                     NW 22nd at LoveJoy 2017-10-01 00:05:00   \n",
       "1      Casual                                    NaN 2017-10-01 00:17:00   \n",
       "2  Subscriber                                    NaN 2017-10-01 00:18:00   \n",
       "3      Casual  SW Morrison at Pioneer Courthouse Sq. 2017-10-01 00:21:00   \n",
       "4  Subscriber                                    NaN 2017-10-01 00:22:00   \n",
       "\n",
       "                   EndHub             EndDate  BikeID Duration    year  month  \\\n",
       "0  NW Broadway at Everett 2017-10-01 00:18:00  6563.0  0:13:04  2017.0   10.0   \n",
       "1        SW 3rd at Ankeny 2017-10-01 00:22:00  6273.0  0:05:11  2017.0   10.0   \n",
       "2     SW Morrison at 18th 2017-10-01 00:22:00  7280.0  0:03:58  2017.0   10.0   \n",
       "3     NW 13th at Marshall 2017-10-01 00:33:00  6274.0  0:11:30  2017.0   10.0   \n",
       "4                     NaN 2017-10-01 00:36:00  7112.0  0:13:40  2017.0   10.0   \n",
       "\n",
       "   Starthour  \n",
       "0        0.0  \n",
       "1        0.0  \n",
       "2        0.0  \n",
       "3        0.0  \n",
       "4        0.0  "
      ]
     },
     "execution_count": 11,
     "metadata": {},
     "output_type": "execute_result"
    }
   ],
   "source": [
    "all_data['Starthour'] = all_data['StartDate'].dt.hour\n",
    "all_data.head()"
   ]
  },
  {
   "cell_type": "code",
   "execution_count": 13,
   "metadata": {
    "scrolled": false
   },
   "outputs": [
    {
     "data": {
      "text/html": [
       "<div>\n",
       "<style scoped>\n",
       "    .dataframe tbody tr th:only-of-type {\n",
       "        vertical-align: middle;\n",
       "    }\n",
       "\n",
       "    .dataframe tbody tr th {\n",
       "        vertical-align: top;\n",
       "    }\n",
       "\n",
       "    .dataframe thead th {\n",
       "        text-align: right;\n",
       "    }\n",
       "</style>\n",
       "<table border=\"1\" class=\"dataframe\">\n",
       "  <thead>\n",
       "    <tr style=\"text-align: right;\">\n",
       "      <th></th>\n",
       "      <th>PaymentPlan</th>\n",
       "      <th>StartHub</th>\n",
       "      <th>StartDate</th>\n",
       "      <th>EndHub</th>\n",
       "      <th>EndDate</th>\n",
       "      <th>BikeID</th>\n",
       "      <th>Duration</th>\n",
       "      <th>year</th>\n",
       "      <th>month</th>\n",
       "      <th>Starthour</th>\n",
       "      <th>dayofweek</th>\n",
       "    </tr>\n",
       "  </thead>\n",
       "  <tbody>\n",
       "    <tr>\n",
       "      <th>0</th>\n",
       "      <td>Subscriber</td>\n",
       "      <td>NW 22nd at LoveJoy</td>\n",
       "      <td>2017-10-01 00:05:00</td>\n",
       "      <td>NW Broadway at Everett</td>\n",
       "      <td>2017-10-01 00:18:00</td>\n",
       "      <td>6563.0</td>\n",
       "      <td>0:13:04</td>\n",
       "      <td>2017.0</td>\n",
       "      <td>10.0</td>\n",
       "      <td>0.0</td>\n",
       "      <td>Sunday</td>\n",
       "    </tr>\n",
       "    <tr>\n",
       "      <th>1</th>\n",
       "      <td>Casual</td>\n",
       "      <td>NaN</td>\n",
       "      <td>2017-10-01 00:17:00</td>\n",
       "      <td>SW 3rd at Ankeny</td>\n",
       "      <td>2017-10-01 00:22:00</td>\n",
       "      <td>6273.0</td>\n",
       "      <td>0:05:11</td>\n",
       "      <td>2017.0</td>\n",
       "      <td>10.0</td>\n",
       "      <td>0.0</td>\n",
       "      <td>Sunday</td>\n",
       "    </tr>\n",
       "    <tr>\n",
       "      <th>2</th>\n",
       "      <td>Subscriber</td>\n",
       "      <td>NaN</td>\n",
       "      <td>2017-10-01 00:18:00</td>\n",
       "      <td>SW Morrison at 18th</td>\n",
       "      <td>2017-10-01 00:22:00</td>\n",
       "      <td>7280.0</td>\n",
       "      <td>0:03:58</td>\n",
       "      <td>2017.0</td>\n",
       "      <td>10.0</td>\n",
       "      <td>0.0</td>\n",
       "      <td>Sunday</td>\n",
       "    </tr>\n",
       "    <tr>\n",
       "      <th>3</th>\n",
       "      <td>Casual</td>\n",
       "      <td>SW Morrison at Pioneer Courthouse Sq.</td>\n",
       "      <td>2017-10-01 00:21:00</td>\n",
       "      <td>NW 13th at Marshall</td>\n",
       "      <td>2017-10-01 00:33:00</td>\n",
       "      <td>6274.0</td>\n",
       "      <td>0:11:30</td>\n",
       "      <td>2017.0</td>\n",
       "      <td>10.0</td>\n",
       "      <td>0.0</td>\n",
       "      <td>Sunday</td>\n",
       "    </tr>\n",
       "    <tr>\n",
       "      <th>4</th>\n",
       "      <td>Subscriber</td>\n",
       "      <td>NaN</td>\n",
       "      <td>2017-10-01 00:22:00</td>\n",
       "      <td>NaN</td>\n",
       "      <td>2017-10-01 00:36:00</td>\n",
       "      <td>7112.0</td>\n",
       "      <td>0:13:40</td>\n",
       "      <td>2017.0</td>\n",
       "      <td>10.0</td>\n",
       "      <td>0.0</td>\n",
       "      <td>Sunday</td>\n",
       "    </tr>\n",
       "  </tbody>\n",
       "</table>\n",
       "</div>"
      ],
      "text/plain": [
       "  PaymentPlan                               StartHub           StartDate  \\\n",
       "0  Subscriber                     NW 22nd at LoveJoy 2017-10-01 00:05:00   \n",
       "1      Casual                                    NaN 2017-10-01 00:17:00   \n",
       "2  Subscriber                                    NaN 2017-10-01 00:18:00   \n",
       "3      Casual  SW Morrison at Pioneer Courthouse Sq. 2017-10-01 00:21:00   \n",
       "4  Subscriber                                    NaN 2017-10-01 00:22:00   \n",
       "\n",
       "                   EndHub             EndDate  BikeID Duration    year  month  \\\n",
       "0  NW Broadway at Everett 2017-10-01 00:18:00  6563.0  0:13:04  2017.0   10.0   \n",
       "1        SW 3rd at Ankeny 2017-10-01 00:22:00  6273.0  0:05:11  2017.0   10.0   \n",
       "2     SW Morrison at 18th 2017-10-01 00:22:00  7280.0  0:03:58  2017.0   10.0   \n",
       "3     NW 13th at Marshall 2017-10-01 00:33:00  6274.0  0:11:30  2017.0   10.0   \n",
       "4                     NaN 2017-10-01 00:36:00  7112.0  0:13:40  2017.0   10.0   \n",
       "\n",
       "   Starthour dayofweek  \n",
       "0        0.0    Sunday  \n",
       "1        0.0    Sunday  \n",
       "2        0.0    Sunday  \n",
       "3        0.0    Sunday  \n",
       "4        0.0    Sunday  "
      ]
     },
     "execution_count": 13,
     "metadata": {},
     "output_type": "execute_result"
    }
   ],
   "source": [
    "all_data['dayofweek'] = all_data['StartDate'].dt.day_name()\n",
    "all_data.head()"
   ]
  },
  {
   "cell_type": "code",
   "execution_count": 133,
   "metadata": {},
   "outputs": [],
   "source": [
    "# Save cleaned data to a csv file to begin analysis\n",
    "cleaned_data = all_data\n",
    "cleaned_data.to_csv(\"201719PortlandCleaned.csv\", index=False)"
   ]
  },
  {
   "cell_type": "code",
   "execution_count": 19,
   "metadata": {
    "scrolled": true
   },
   "outputs": [
    {
     "data": {
      "text/html": [
       "<div>\n",
       "<style scoped>\n",
       "    .dataframe tbody tr th:only-of-type {\n",
       "        vertical-align: middle;\n",
       "    }\n",
       "\n",
       "    .dataframe tbody tr th {\n",
       "        vertical-align: top;\n",
       "    }\n",
       "\n",
       "    .dataframe thead th {\n",
       "        text-align: right;\n",
       "    }\n",
       "</style>\n",
       "<table border=\"1\" class=\"dataframe\">\n",
       "  <thead>\n",
       "    <tr style=\"text-align: right;\">\n",
       "      <th></th>\n",
       "      <th>PaymentPlan</th>\n",
       "      <th>StartHub</th>\n",
       "      <th>StartDate</th>\n",
       "      <th>EndHub</th>\n",
       "      <th>EndDate</th>\n",
       "      <th>BikeID</th>\n",
       "      <th>year</th>\n",
       "      <th>month</th>\n",
       "      <th>Starthour</th>\n",
       "      <th>dayofweek</th>\n",
       "      <th>DurationMin</th>\n",
       "    </tr>\n",
       "  </thead>\n",
       "  <tbody>\n",
       "    <tr>\n",
       "      <th>0</th>\n",
       "      <td>Subscriber</td>\n",
       "      <td>NW 22nd at LoveJoy</td>\n",
       "      <td>2017-10-01 00:05:00</td>\n",
       "      <td>NW Broadway at Everett</td>\n",
       "      <td>2017-10-01 00:18:00</td>\n",
       "      <td>6563.0</td>\n",
       "      <td>2017.0</td>\n",
       "      <td>10.0</td>\n",
       "      <td>0.0</td>\n",
       "      <td>Sunday</td>\n",
       "      <td>13.066667</td>\n",
       "    </tr>\n",
       "    <tr>\n",
       "      <th>1</th>\n",
       "      <td>Casual</td>\n",
       "      <td>NaN</td>\n",
       "      <td>2017-10-01 00:17:00</td>\n",
       "      <td>SW 3rd at Ankeny</td>\n",
       "      <td>2017-10-01 00:22:00</td>\n",
       "      <td>6273.0</td>\n",
       "      <td>2017.0</td>\n",
       "      <td>10.0</td>\n",
       "      <td>0.0</td>\n",
       "      <td>Sunday</td>\n",
       "      <td>5.183333</td>\n",
       "    </tr>\n",
       "    <tr>\n",
       "      <th>2</th>\n",
       "      <td>Subscriber</td>\n",
       "      <td>NaN</td>\n",
       "      <td>2017-10-01 00:18:00</td>\n",
       "      <td>SW Morrison at 18th</td>\n",
       "      <td>2017-10-01 00:22:00</td>\n",
       "      <td>7280.0</td>\n",
       "      <td>2017.0</td>\n",
       "      <td>10.0</td>\n",
       "      <td>0.0</td>\n",
       "      <td>Sunday</td>\n",
       "      <td>3.966667</td>\n",
       "    </tr>\n",
       "    <tr>\n",
       "      <th>3</th>\n",
       "      <td>Casual</td>\n",
       "      <td>SW Morrison at Pioneer Courthouse Sq.</td>\n",
       "      <td>2017-10-01 00:21:00</td>\n",
       "      <td>NW 13th at Marshall</td>\n",
       "      <td>2017-10-01 00:33:00</td>\n",
       "      <td>6274.0</td>\n",
       "      <td>2017.0</td>\n",
       "      <td>10.0</td>\n",
       "      <td>0.0</td>\n",
       "      <td>Sunday</td>\n",
       "      <td>11.500000</td>\n",
       "    </tr>\n",
       "    <tr>\n",
       "      <th>4</th>\n",
       "      <td>Subscriber</td>\n",
       "      <td>NaN</td>\n",
       "      <td>2017-10-01 00:22:00</td>\n",
       "      <td>NaN</td>\n",
       "      <td>2017-10-01 00:36:00</td>\n",
       "      <td>7112.0</td>\n",
       "      <td>2017.0</td>\n",
       "      <td>10.0</td>\n",
       "      <td>0.0</td>\n",
       "      <td>Sunday</td>\n",
       "      <td>13.666667</td>\n",
       "    </tr>\n",
       "  </tbody>\n",
       "</table>\n",
       "</div>"
      ],
      "text/plain": [
       "  PaymentPlan                               StartHub            StartDate  \\\n",
       "0  Subscriber                     NW 22nd at LoveJoy  2017-10-01 00:05:00   \n",
       "1      Casual                                    NaN  2017-10-01 00:17:00   \n",
       "2  Subscriber                                    NaN  2017-10-01 00:18:00   \n",
       "3      Casual  SW Morrison at Pioneer Courthouse Sq.  2017-10-01 00:21:00   \n",
       "4  Subscriber                                    NaN  2017-10-01 00:22:00   \n",
       "\n",
       "                   EndHub              EndDate  BikeID    year  month  \\\n",
       "0  NW Broadway at Everett  2017-10-01 00:18:00  6563.0  2017.0   10.0   \n",
       "1        SW 3rd at Ankeny  2017-10-01 00:22:00  6273.0  2017.0   10.0   \n",
       "2     SW Morrison at 18th  2017-10-01 00:22:00  7280.0  2017.0   10.0   \n",
       "3     NW 13th at Marshall  2017-10-01 00:33:00  6274.0  2017.0   10.0   \n",
       "4                     NaN  2017-10-01 00:36:00  7112.0  2017.0   10.0   \n",
       "\n",
       "   Starthour dayofweek  DurationMin  \n",
       "0        0.0    Sunday    13.066667  \n",
       "1        0.0    Sunday     5.183333  \n",
       "2        0.0    Sunday     3.966667  \n",
       "3        0.0    Sunday    11.500000  \n",
       "4        0.0    Sunday    13.666667  "
      ]
     },
     "execution_count": 19,
     "metadata": {},
     "output_type": "execute_result"
    }
   ],
   "source": [
    "fin_data = pd.read_csv(\"201719PortlandCleaned.csv\")\n",
    "fin_data.head()"
   ]
  },
  {
   "cell_type": "code",
   "execution_count": 20,
   "metadata": {
    "scrolled": true
   },
   "outputs": [
    {
     "data": {
      "text/html": [
       "<div>\n",
       "<style scoped>\n",
       "    .dataframe tbody tr th:only-of-type {\n",
       "        vertical-align: middle;\n",
       "    }\n",
       "\n",
       "    .dataframe tbody tr th {\n",
       "        vertical-align: top;\n",
       "    }\n",
       "\n",
       "    .dataframe thead th {\n",
       "        text-align: right;\n",
       "    }\n",
       "</style>\n",
       "<table border=\"1\" class=\"dataframe\">\n",
       "  <thead>\n",
       "    <tr style=\"text-align: right;\">\n",
       "      <th></th>\n",
       "      <th>PaymentPlan</th>\n",
       "      <th>StartHub</th>\n",
       "      <th>StartDate</th>\n",
       "      <th>EndHub</th>\n",
       "      <th>EndDate</th>\n",
       "      <th>BikeID</th>\n",
       "      <th>year</th>\n",
       "      <th>month</th>\n",
       "      <th>Starthour</th>\n",
       "      <th>dayofweek</th>\n",
       "      <th>DurationMin</th>\n",
       "    </tr>\n",
       "  </thead>\n",
       "  <tbody>\n",
       "    <tr>\n",
       "      <th>0</th>\n",
       "      <td>Subscriber</td>\n",
       "      <td>NW 22nd at LoveJoy</td>\n",
       "      <td>2017-10-01 00:05:00</td>\n",
       "      <td>NW Broadway at Everett</td>\n",
       "      <td>2017-10-01 00:18:00</td>\n",
       "      <td>6563.0</td>\n",
       "      <td>2017.0</td>\n",
       "      <td>10.0</td>\n",
       "      <td>0.0</td>\n",
       "      <td>Sunday</td>\n",
       "      <td>13.066667</td>\n",
       "    </tr>\n",
       "    <tr>\n",
       "      <th>1</th>\n",
       "      <td>Casual</td>\n",
       "      <td>NaN</td>\n",
       "      <td>2017-10-01 00:17:00</td>\n",
       "      <td>SW 3rd at Ankeny</td>\n",
       "      <td>2017-10-01 00:22:00</td>\n",
       "      <td>6273.0</td>\n",
       "      <td>2017.0</td>\n",
       "      <td>10.0</td>\n",
       "      <td>0.0</td>\n",
       "      <td>Sunday</td>\n",
       "      <td>5.183333</td>\n",
       "    </tr>\n",
       "    <tr>\n",
       "      <th>2</th>\n",
       "      <td>Subscriber</td>\n",
       "      <td>NaN</td>\n",
       "      <td>2017-10-01 00:18:00</td>\n",
       "      <td>SW Morrison at 18th</td>\n",
       "      <td>2017-10-01 00:22:00</td>\n",
       "      <td>7280.0</td>\n",
       "      <td>2017.0</td>\n",
       "      <td>10.0</td>\n",
       "      <td>0.0</td>\n",
       "      <td>Sunday</td>\n",
       "      <td>3.966667</td>\n",
       "    </tr>\n",
       "    <tr>\n",
       "      <th>3</th>\n",
       "      <td>Casual</td>\n",
       "      <td>SW Morrison at Pioneer Courthouse Sq.</td>\n",
       "      <td>2017-10-01 00:21:00</td>\n",
       "      <td>NW 13th at Marshall</td>\n",
       "      <td>2017-10-01 00:33:00</td>\n",
       "      <td>6274.0</td>\n",
       "      <td>2017.0</td>\n",
       "      <td>10.0</td>\n",
       "      <td>0.0</td>\n",
       "      <td>Sunday</td>\n",
       "      <td>11.500000</td>\n",
       "    </tr>\n",
       "    <tr>\n",
       "      <th>4</th>\n",
       "      <td>Subscriber</td>\n",
       "      <td>NaN</td>\n",
       "      <td>2017-10-01 00:22:00</td>\n",
       "      <td>NaN</td>\n",
       "      <td>2017-10-01 00:36:00</td>\n",
       "      <td>7112.0</td>\n",
       "      <td>2017.0</td>\n",
       "      <td>10.0</td>\n",
       "      <td>0.0</td>\n",
       "      <td>Sunday</td>\n",
       "      <td>13.666667</td>\n",
       "    </tr>\n",
       "  </tbody>\n",
       "</table>\n",
       "</div>"
      ],
      "text/plain": [
       "  PaymentPlan                               StartHub            StartDate  \\\n",
       "0  Subscriber                     NW 22nd at LoveJoy  2017-10-01 00:05:00   \n",
       "1      Casual                                    NaN  2017-10-01 00:17:00   \n",
       "2  Subscriber                                    NaN  2017-10-01 00:18:00   \n",
       "3      Casual  SW Morrison at Pioneer Courthouse Sq.  2017-10-01 00:21:00   \n",
       "4  Subscriber                                    NaN  2017-10-01 00:22:00   \n",
       "\n",
       "                   EndHub              EndDate  BikeID    year  month  \\\n",
       "0  NW Broadway at Everett  2017-10-01 00:18:00  6563.0  2017.0   10.0   \n",
       "1        SW 3rd at Ankeny  2017-10-01 00:22:00  6273.0  2017.0   10.0   \n",
       "2     SW Morrison at 18th  2017-10-01 00:22:00  7280.0  2017.0   10.0   \n",
       "3     NW 13th at Marshall  2017-10-01 00:33:00  6274.0  2017.0   10.0   \n",
       "4                     NaN  2017-10-01 00:36:00  7112.0  2017.0   10.0   \n",
       "\n",
       "   Starthour dayofweek  DurationMin  \n",
       "0        0.0    Sunday    13.066667  \n",
       "1        0.0    Sunday     5.183333  \n",
       "2        0.0    Sunday     3.966667  \n",
       "3        0.0    Sunday    11.500000  \n",
       "4        0.0    Sunday    13.666667  "
      ]
     },
     "execution_count": 20,
     "metadata": {},
     "output_type": "execute_result"
    }
   ],
   "source": [
    "no_outliers_data = fin_data[fin_data['DurationMin'] < 240]\n",
    "no_outliers_data.head()"
   ]
  },
  {
   "cell_type": "code",
   "execution_count": 21,
   "metadata": {
    "scrolled": true
   },
   "outputs": [
    {
     "data": {
      "text/plain": [
       "count    1.025848e+06\n",
       "mean     2.230522e+01\n",
       "std      2.597807e+01\n",
       "min      1.000000e+00\n",
       "25%      7.166667e+00\n",
       "50%      1.320000e+01\n",
       "75%      2.663333e+01\n",
       "max      2.399833e+02\n",
       "Name: DurationMin, dtype: float64"
      ]
     },
     "execution_count": 21,
     "metadata": {},
     "output_type": "execute_result"
    }
   ],
   "source": [
    "no_outliers_data['DurationMin'].describe()"
   ]
  },
  {
   "cell_type": "code",
   "execution_count": 37,
   "metadata": {
    "collapsed": true
   },
   "outputs": [
    {
     "name": "stderr",
     "output_type": "stream",
     "text": [
      "<ipython-input-37-e3037abdbd92>:1: SettingWithCopyWarning: \n",
      "A value is trying to be set on a copy of a slice from a DataFrame.\n",
      "Try using .loc[row_indexer,col_indexer] = value instead\n",
      "\n",
      "See the caveats in the documentation: https://pandas.pydata.org/pandas-docs/stable/user_guide/indexing.html#returning-a-view-versus-a-copy\n",
      "  no_outliers_data['year']=no_outliers_data['year'].astype(int)\n",
      "<ipython-input-37-e3037abdbd92>:2: SettingWithCopyWarning: \n",
      "A value is trying to be set on a copy of a slice from a DataFrame.\n",
      "Try using .loc[row_indexer,col_indexer] = value instead\n",
      "\n",
      "See the caveats in the documentation: https://pandas.pydata.org/pandas-docs/stable/user_guide/indexing.html#returning-a-view-versus-a-copy\n",
      "  no_outliers_data['month']=no_outliers_data['month'].astype(int)\n",
      "<ipython-input-37-e3037abdbd92>:3: SettingWithCopyWarning: \n",
      "A value is trying to be set on a copy of a slice from a DataFrame.\n",
      "Try using .loc[row_indexer,col_indexer] = value instead\n",
      "\n",
      "See the caveats in the documentation: https://pandas.pydata.org/pandas-docs/stable/user_guide/indexing.html#returning-a-view-versus-a-copy\n",
      "  no_outliers_data['Starthour']=no_outliers_data['Starthour'].astype(int)\n"
     ]
    }
   ],
   "source": [
    "no_outliers_data['year']=no_outliers_data['year'].astype(int)\n",
    "no_outliers_data['month']=no_outliers_data['month'].astype(int)\n",
    "no_outliers_data['Starthour']=no_outliers_data['Starthour'].astype(int)"
   ]
  },
  {
   "cell_type": "code",
   "execution_count": 40,
   "metadata": {},
   "outputs": [],
   "source": [
    "cleaned_data = no_outliers_data\n",
    "cleaned_data.to_csv(\"201719PortlandCleaned.csv\", index=False)"
   ]
  },
  {
   "cell_type": "markdown",
   "metadata": {},
   "source": [
    "#### Start of Data Analysis"
   ]
  },
  {
   "cell_type": "code",
   "execution_count": 2,
   "metadata": {
    "scrolled": true
   },
   "outputs": [
    {
     "data": {
      "text/html": [
       "<div>\n",
       "<style scoped>\n",
       "    .dataframe tbody tr th:only-of-type {\n",
       "        vertical-align: middle;\n",
       "    }\n",
       "\n",
       "    .dataframe tbody tr th {\n",
       "        vertical-align: top;\n",
       "    }\n",
       "\n",
       "    .dataframe thead th {\n",
       "        text-align: right;\n",
       "    }\n",
       "</style>\n",
       "<table border=\"1\" class=\"dataframe\">\n",
       "  <thead>\n",
       "    <tr style=\"text-align: right;\">\n",
       "      <th></th>\n",
       "      <th>PaymentPlan</th>\n",
       "      <th>StartHub</th>\n",
       "      <th>StartDate</th>\n",
       "      <th>EndHub</th>\n",
       "      <th>EndDate</th>\n",
       "      <th>BikeID</th>\n",
       "      <th>year</th>\n",
       "      <th>month</th>\n",
       "      <th>Starthour</th>\n",
       "      <th>dayofweek</th>\n",
       "      <th>DurationMin</th>\n",
       "    </tr>\n",
       "  </thead>\n",
       "  <tbody>\n",
       "    <tr>\n",
       "      <th>0</th>\n",
       "      <td>Subscriber</td>\n",
       "      <td>NW 22nd at LoveJoy</td>\n",
       "      <td>2017-10-01 00:05:00</td>\n",
       "      <td>NW Broadway at Everett</td>\n",
       "      <td>2017-10-01 00:18:00</td>\n",
       "      <td>6563.0</td>\n",
       "      <td>2017</td>\n",
       "      <td>10</td>\n",
       "      <td>0</td>\n",
       "      <td>Sunday</td>\n",
       "      <td>13.066667</td>\n",
       "    </tr>\n",
       "    <tr>\n",
       "      <th>1</th>\n",
       "      <td>Casual</td>\n",
       "      <td>NaN</td>\n",
       "      <td>2017-10-01 00:17:00</td>\n",
       "      <td>SW 3rd at Ankeny</td>\n",
       "      <td>2017-10-01 00:22:00</td>\n",
       "      <td>6273.0</td>\n",
       "      <td>2017</td>\n",
       "      <td>10</td>\n",
       "      <td>0</td>\n",
       "      <td>Sunday</td>\n",
       "      <td>5.183333</td>\n",
       "    </tr>\n",
       "    <tr>\n",
       "      <th>2</th>\n",
       "      <td>Subscriber</td>\n",
       "      <td>NaN</td>\n",
       "      <td>2017-10-01 00:18:00</td>\n",
       "      <td>SW Morrison at 18th</td>\n",
       "      <td>2017-10-01 00:22:00</td>\n",
       "      <td>7280.0</td>\n",
       "      <td>2017</td>\n",
       "      <td>10</td>\n",
       "      <td>0</td>\n",
       "      <td>Sunday</td>\n",
       "      <td>3.966667</td>\n",
       "    </tr>\n",
       "    <tr>\n",
       "      <th>3</th>\n",
       "      <td>Casual</td>\n",
       "      <td>SW Morrison at Pioneer Courthouse Sq.</td>\n",
       "      <td>2017-10-01 00:21:00</td>\n",
       "      <td>NW 13th at Marshall</td>\n",
       "      <td>2017-10-01 00:33:00</td>\n",
       "      <td>6274.0</td>\n",
       "      <td>2017</td>\n",
       "      <td>10</td>\n",
       "      <td>0</td>\n",
       "      <td>Sunday</td>\n",
       "      <td>11.500000</td>\n",
       "    </tr>\n",
       "    <tr>\n",
       "      <th>4</th>\n",
       "      <td>Subscriber</td>\n",
       "      <td>NaN</td>\n",
       "      <td>2017-10-01 00:22:00</td>\n",
       "      <td>NaN</td>\n",
       "      <td>2017-10-01 00:36:00</td>\n",
       "      <td>7112.0</td>\n",
       "      <td>2017</td>\n",
       "      <td>10</td>\n",
       "      <td>0</td>\n",
       "      <td>Sunday</td>\n",
       "      <td>13.666667</td>\n",
       "    </tr>\n",
       "  </tbody>\n",
       "</table>\n",
       "</div>"
      ],
      "text/plain": [
       "  PaymentPlan                               StartHub            StartDate  \\\n",
       "0  Subscriber                     NW 22nd at LoveJoy  2017-10-01 00:05:00   \n",
       "1      Casual                                    NaN  2017-10-01 00:17:00   \n",
       "2  Subscriber                                    NaN  2017-10-01 00:18:00   \n",
       "3      Casual  SW Morrison at Pioneer Courthouse Sq.  2017-10-01 00:21:00   \n",
       "4  Subscriber                                    NaN  2017-10-01 00:22:00   \n",
       "\n",
       "                   EndHub              EndDate  BikeID  year  month  \\\n",
       "0  NW Broadway at Everett  2017-10-01 00:18:00  6563.0  2017     10   \n",
       "1        SW 3rd at Ankeny  2017-10-01 00:22:00  6273.0  2017     10   \n",
       "2     SW Morrison at 18th  2017-10-01 00:22:00  7280.0  2017     10   \n",
       "3     NW 13th at Marshall  2017-10-01 00:33:00  6274.0  2017     10   \n",
       "4                     NaN  2017-10-01 00:36:00  7112.0  2017     10   \n",
       "\n",
       "   Starthour dayofweek  DurationMin  \n",
       "0          0    Sunday    13.066667  \n",
       "1          0    Sunday     5.183333  \n",
       "2          0    Sunday     3.966667  \n",
       "3          0    Sunday    11.500000  \n",
       "4          0    Sunday    13.666667  "
      ]
     },
     "execution_count": 2,
     "metadata": {},
     "output_type": "execute_result"
    }
   ],
   "source": [
    "data = pd.read_csv(\"201719PortlandCleaned.csv\")\n",
    "data.head()"
   ]
  },
  {
   "cell_type": "code",
   "execution_count": 3,
   "metadata": {},
   "outputs": [],
   "source": [
    "# Create dataframes for each year\n",
    "grouped = data.groupby(data['year'])\n",
    "df1 = grouped.get_group(2017)\n",
    "df2 = grouped.get_group(2018)\n",
    "df3 = grouped.get_group(2019)"
   ]
  },
  {
   "cell_type": "code",
   "execution_count": 4,
   "metadata": {},
   "outputs": [],
   "source": [
    "users = data['PaymentPlan'].value_counts().keys().to_list()\n",
    "count = data['PaymentPlan'].value_counts().to_list()"
   ]
  },
  {
   "cell_type": "code",
   "execution_count": 5,
   "metadata": {},
   "outputs": [
    {
     "data": {
      "image/png": "[encoded data removed]",
      "text/plain": [
       "<Figure size 432x288 with 1 Axes>"
      ]
     },
     "metadata": {},
     "output_type": "display_data"
    }
   ],
   "source": [
    "plt.pie(count, labels=users, colors = ['lightcoral', 'yellowgreen'], autopct='%1.1f%%')\n",
    "plt.title(\"Subscribership Ratio of Riders: Portland 2017-19\")\n",
    "plt.show()"
   ]
  },
  {
   "cell_type": "code",
   "execution_count": 6,
   "metadata": {},
   "outputs": [
    {
     "data": {
      "image/png": "[encoded data removed]",
      "text/plain": [
       "<Figure size 432x288 with 1 Axes>"
      ]
     },
     "metadata": {},
     "output_type": "display_data"
    }
   ],
   "source": [
    "users_17 = df1['PaymentPlan'].value_counts().keys().to_list()\n",
    "count_17 = df1['PaymentPlan'].value_counts().to_list()\n",
    "\n",
    "plt.pie(count_17, labels=users_17, colors = ['lightcoral', 'yellowgreen'], autopct='%1.1f%%')\n",
    "plt.title(\"Subscribership Ratio of Riders: Portland 2017\")\n",
    "plt.show()"
   ]
  },
  {
   "cell_type": "code",
   "execution_count": 8,
   "metadata": {
    "scrolled": true
   },
   "outputs": [
    {
     "data": {
      "image/png": "[encoded data removed]",
      "text/plain": [
       "<Figure size 432x288 with 1 Axes>"
      ]
     },
     "metadata": {},
     "output_type": "display_data"
    }
   ],
   "source": [
    "users_18 = df2['PaymentPlan'].value_counts().keys().to_list()\n",
    "count_18 = df2['PaymentPlan'].value_counts().to_list()\n",
    "\n",
    "plt.pie(count_18, labels=users_18, colors = ['lightcoral', 'yellowgreen'], autopct='%1.1f%%')\n",
    "plt.title(\"Subscribership Ratio of Riders: Portland 2018\")\n",
    "plt.show()"
   ]
  },
  {
   "cell_type": "code",
   "execution_count": 10,
   "metadata": {
    "scrolled": true
   },
   "outputs": [
    {
     "data": {
      "image/png": "[encoded data removed]",
      "text/plain": [
       "<Figure size 432x288 with 1 Axes>"
      ]
     },
     "metadata": {},
     "output_type": "display_data"
    }
   ],
   "source": [
    "users_19 = df3['PaymentPlan'].value_counts().keys().to_list()\n",
    "count_19 = df3['PaymentPlan'].value_counts().to_list()\n",
    "\n",
    "plt.pie(count_19, labels=users_19, colors = ['lightcoral', 'yellowgreen'], autopct='%1.1f%%')\n",
    "plt.title(\"Subscribership Ratio of Riders: Portland 2019\")\n",
    "plt.show()"
   ]
  },
  {
   "cell_type": "code",
   "execution_count": 11,
   "metadata": {},
   "outputs": [],
   "source": [
    "#track ridership per year\n",
    "years = data['year'].value_counts().keys().to_list()\n",
    "rides = data['year'].value_counts().to_list()"
   ]
  },
  {
   "cell_type": "code",
   "execution_count": 12,
   "metadata": {
    "scrolled": true
   },
   "outputs": [
    {
     "data": {
      "image/png": "[encoded data removed]",
      "text/plain": [
       "<Figure size 432x288 with 1 Axes>"
      ]
     },
     "metadata": {
      "needs_background": "light"
     },
     "output_type": "display_data"
    }
   ],
   "source": [
    "plt.bar(years, rides)\n",
    "plt.xticks(years)\n",
    "plt.xlabel(\"Year\")\n",
    "plt.ylabel(\"# of rides (in millions)\")\n",
    "plt.title(\"Number of Bike Rides per Year: Portland 2017-19\")\n",
    "plt.show()"
   ]
  },
  {
   "cell_type": "code",
   "execution_count": 13,
   "metadata": {},
   "outputs": [],
   "source": [
    "num_bikes_year =[]\n",
    "num_bikes1 = len(df1['BikeID'].unique())\n",
    "num_bikes_year.append(num_bikes1)"
   ]
  },
  {
   "cell_type": "code",
   "execution_count": 14,
   "metadata": {},
   "outputs": [],
   "source": [
    "num_bikes2 = len(df2['BikeID'].unique())\n",
    "num_bikes_year.append(num_bikes2)"
   ]
  },
  {
   "cell_type": "code",
   "execution_count": 15,
   "metadata": {},
   "outputs": [],
   "source": [
    "num_bikes3 = len(df3['BikeID'].unique())\n",
    "num_bikes_year.append(num_bikes3)"
   ]
  },
  {
   "cell_type": "code",
   "execution_count": 16,
   "metadata": {},
   "outputs": [
    {
     "data": {
      "image/png": "[encoded data removed]",
      "text/plain": [
       "<Figure size 432x288 with 1 Axes>"
      ]
     },
     "metadata": {
      "needs_background": "light"
     },
     "output_type": "display_data"
    }
   ],
   "source": [
    "plt.bar([2017, 2018, 2019], num_bikes_year)\n",
    "plt.xticks([2017, 2018, 2019])\n",
    "plt.xlabel(\"Year\")\n",
    "plt.ylabel(\"# of Bikes\")\n",
    "plt.title(\"Number of Bikes in Portland System 2017-19\")\n",
    "plt.show()"
   ]
  },
  {
   "cell_type": "code",
   "execution_count": 17,
   "metadata": {},
   "outputs": [],
   "source": [
    "#track rides by day of week over 3 year period\n",
    "days = data['dayofweek'].value_counts().keys().to_list()\n",
    "rides = data['dayofweek'].value_counts().to_list()\n",
    "#Hardcoded the sorting into order of the week\n",
    "days_sorted = ['Monday', 'Tuesday', 'Wednesday', 'Thursday', 'Friday', 'Saturday', 'Sunday']\n",
    "rides_sorted = [139454,136454,139523,142688,154997,167273,145459]"
   ]
  },
  {
   "cell_type": "code",
   "execution_count": 19,
   "metadata": {},
   "outputs": [
    {
     "data": {
      "image/png": "[encoded data removed]",
      "text/plain": [
       "<Figure size 432x288 with 1 Axes>"
      ]
     },
     "metadata": {
      "needs_background": "light"
     },
     "output_type": "display_data"
    }
   ],
   "source": [
    "plt.bar(days_sorted, rides_sorted)\n",
    "plt.xticks(days_sorted)\n",
    "plt.xlabel(\"Day of Week\")\n",
    "plt.ylabel(\"# of rides\")\n",
    "plt.title(\"Number of Bike Rides by Day of Week: Portland 2017-19\")\n",
    "plt.show()"
   ]
  },
  {
   "cell_type": "code",
   "execution_count": 20,
   "metadata": {},
   "outputs": [],
   "source": [
    "#Make a data frame for weekdays and weekend\n",
    "mask = data['dayofweek'].isin(['Saturday','Sunday'])\n",
    "weekend_df=data[mask]\n",
    "weekday_df=data[~mask]"
   ]
  },
  {
   "cell_type": "code",
   "execution_count": 21,
   "metadata": {},
   "outputs": [],
   "source": [
    "weekend_hours = weekend_df['Starthour'].value_counts().keys().to_list()\n",
    "weekend_count = weekend_df['Starthour'].value_counts().to_list()"
   ]
  },
  {
   "cell_type": "code",
   "execution_count": 22,
   "metadata": {},
   "outputs": [
    {
     "data": {
      "image/png": "[encoded data removed]",
      "text/plain": [
       "<Figure size 432x288 with 1 Axes>"
      ]
     },
     "metadata": {
      "needs_background": "light"
     },
     "output_type": "display_data"
    }
   ],
   "source": [
    "plt.bar(weekend_hours, weekend_count)\n",
    "plt.xticks(weekend_hours)\n",
    "plt.xlabel(\"Hour of Day\")\n",
    "plt.ylabel(\"# of rides\")\n",
    "plt.title(\"Number of Bike Rides by Hour of Day on Weekend: Portland 2017-19\")\n",
    "plt.show()"
   ]
  },
  {
   "cell_type": "code",
   "execution_count": 23,
   "metadata": {},
   "outputs": [],
   "source": [
    "weekday_hours = weekday_df['Starthour'].value_counts().keys().to_list()\n",
    "weekday_count = weekday_df['Starthour'].value_counts().to_list()"
   ]
  },
  {
   "cell_type": "code",
   "execution_count": 24,
   "metadata": {},
   "outputs": [
    {
     "data": {
      "image/png": "[encoded data removed]",
      "text/plain": [
       "<Figure size 432x288 with 1 Axes>"
      ]
     },
     "metadata": {
      "needs_background": "light"
     },
     "output_type": "display_data"
    }
   ],
   "source": [
    "plt.bar(weekday_hours, weekday_count)\n",
    "plt.xticks(weekday_hours)\n",
    "plt.xlabel(\"Hour of Day\")\n",
    "plt.ylabel(\"# of rides\")\n",
    "plt.title(\"Number of Bike Rides by Hour of Day During Week: Portland 2017-19\")\n",
    "plt.show()"
   ]
  },
  {
   "cell_type": "code",
   "execution_count": 25,
   "metadata": {},
   "outputs": [],
   "source": [
    "weekend_dict = dict(zip(weekend_hours, weekend_count))\n",
    "weekend_keys = (list(weekend_dict.keys()))\n",
    "weekend_keys.sort()\n",
    "\n",
    "weekend_sorted={}\n",
    "for e in weekend_keys:\n",
    "    weekend_sorted[e]=weekend_dict[e]\n",
    "\n",
    "weekend_keys = list(weekend_sorted.keys())\n",
    "weekend_values = list(weekend_sorted.values())"
   ]
  },
  {
   "cell_type": "code",
   "execution_count": 26,
   "metadata": {},
   "outputs": [],
   "source": [
    "weekday_dict = dict(zip(weekday_hours, weekday_count))\n",
    "weekday_keys = (list(weekday_dict.keys()))\n",
    "weekday_keys.sort()\n",
    "\n",
    "weekday_sorted={}\n",
    "for e in weekday_keys:\n",
    "    weekday_sorted[e]=weekday_dict[e]\n",
    "\n",
    "weekday_keys = list(weekday_sorted.keys())\n",
    "weekday_values = list(weekday_sorted.values())"
   ]
  },
  {
   "cell_type": "code",
   "execution_count": 27,
   "metadata": {},
   "outputs": [
    {
     "data": {
      "image/png": "[encoded data removed]",
      "text/plain": [
       "<Figure size 432x288 with 1 Axes>"
      ]
     },
     "metadata": {
      "needs_background": "light"
     },
     "output_type": "display_data"
    }
   ],
   "source": [
    "x = np.arange(len(weekend_keys))\n",
    "ax = plt.subplot(111)\n",
    "ax.bar(x-0.2, weekend_values, width=0.4, color='r', align='center', label='Weekend')\n",
    "ax.bar(x+0.2, weekday_values, width=0.4, align='center', label='Weekday')\n",
    "plt.xticks(weekend_keys)\n",
    "plt.xlabel('Hour of Day')\n",
    "plt.ylabel('# of Rides')\n",
    "plt.title('Number of Rides by Hour: Weekend v. Day of Week: Portland 2017-19')\n",
    "plt.legend(loc = 'best')\n",
    "plt.show()"
   ]
  },
  {
   "cell_type": "code",
   "execution_count": 28,
   "metadata": {},
   "outputs": [],
   "source": [
    "#track rides by month over 3 year period\n",
    "months = data['month'].value_counts().keys().to_list()\n",
    "num_riders = data['month'].value_counts().to_list()"
   ]
  },
  {
   "cell_type": "code",
   "execution_count": 29,
   "metadata": {},
   "outputs": [
    {
     "data": {
      "image/png": "[encoded data removed]",
      "text/plain": [
       "<Figure size 432x288 with 1 Axes>"
      ]
     },
     "metadata": {
      "needs_background": "light"
     },
     "output_type": "display_data"
    }
   ],
   "source": [
    "plt.bar(months, num_riders)\n",
    "plt.xticks(months)\n",
    "plt.xlabel(\"Month of Year\")\n",
    "plt.ylabel(\"# of rides\")\n",
    "plt.title(\"Number of Bike Rides by Month: Portland 2017-19\")\n",
    "plt.show()"
   ]
  },
  {
   "cell_type": "code",
   "execution_count": 30,
   "metadata": {},
   "outputs": [],
   "source": [
    "#track most common and least common start stations over 3 year period\n",
    "start_stations = data['StartHub'].value_counts().keys().to_list()\n",
    "num_start = data['EndHub'].value_counts().to_list()\n",
    "\n",
    "start_dict = dict(zip(start_stations, num_start))"
   ]
  },
  {
   "cell_type": "code",
   "execution_count": 31,
   "metadata": {},
   "outputs": [
    {
     "data": {
      "image/png": "[encoded data removed]",
      "text/plain": [
       "<Figure size 432x288 with 1 Axes>"
      ]
     },
     "metadata": {
      "needs_background": "light"
     },
     "output_type": "display_data"
    }
   ],
   "source": [
    "plt.bar(start_stations[0:10], num_start[0:10])\n",
    "plt.xticks(start_stations[0:10], rotation='vertical', size=8)\n",
    "plt.xlabel(\"Start Station\")\n",
    "plt.ylabel(\"# of Rides\")\n",
    "plt.title(\"Most Popular Start Stations: Portland 2017-19\")\n",
    "plt.show()"
   ]
  },
  {
   "cell_type": "code",
   "execution_count": 32,
   "metadata": {},
   "outputs": [
    {
     "data": {
      "image/png": "[encoded data removed]",
      "text/plain": [
       "<Figure size 432x288 with 1 Axes>"
      ]
     },
     "metadata": {
      "needs_background": "light"
     },
     "output_type": "display_data"
    }
   ],
   "source": [
    "plt.bar(start_stations[-10:], num_start[-10:])\n",
    "plt.xticks(start_stations[-10:], rotation='vertical', size=8)\n",
    "plt.xlabel(\"Start Station\")\n",
    "plt.ylabel(\"# of Rides\")\n",
    "plt.title(\"Least Popular Start Stations: Portland 2017-19\")\n",
    "plt.show()"
   ]
  },
  {
   "cell_type": "code",
   "execution_count": 33,
   "metadata": {},
   "outputs": [],
   "source": [
    "#track most common and leas common end stations over 3 year period\n",
    "end_stations = data['EndHub'].value_counts().keys().to_list()\n",
    "num_end = data['EndHub'].value_counts().to_list()\n",
    "\n",
    "end_dict = dict(zip(end_stations, num_end))"
   ]
  },
  {
   "cell_type": "code",
   "execution_count": 34,
   "metadata": {},
   "outputs": [
    {
     "data": {
      "image/png": "[encoded data removed]",
      "text/plain": [
       "<Figure size 432x288 with 1 Axes>"
      ]
     },
     "metadata": {
      "needs_background": "light"
     },
     "output_type": "display_data"
    }
   ],
   "source": [
    "plt.bar(end_stations[0:10], num_end[0:10])\n",
    "plt.xticks(end_stations[0:10], rotation='vertical', size=8)\n",
    "plt.xlabel(\"End Station\")\n",
    "plt.ylabel(\"# of Rides\")\n",
    "plt.title(\"Most Popular End Stations: Portland 2017-19\")\n",
    "plt.show()"
   ]
  },
  {
   "cell_type": "code",
   "execution_count": 37,
   "metadata": {},
   "outputs": [
    {
     "data": {
      "image/png": "[encoded data removed]",
      "text/plain": [
       "<Figure size 432x288 with 1 Axes>"
      ]
     },
     "metadata": {
      "needs_background": "light"
     },
     "output_type": "display_data"
    }
   ],
   "source": [
    "plt.bar(end_stations[-10:], num_end[-10:])\n",
    "plt.xticks(end_stations[-10:], rotation='vertical', size=8)\n",
    "plt.xlabel(\"End Station\")\n",
    "plt.ylabel(\"# of Rides\")\n",
    "plt.title(\"Least Popular End Stations: Portland 2017-19\")\n",
    "plt.show()"
   ]
  },
  {
   "cell_type": "code",
   "execution_count": 36,
   "metadata": {},
   "outputs": [],
   "source": [
    "#combine start and end dicts and sort by value\n",
    "def combine(d1, d2):\n",
    "    new_dict=d1\n",
    "    for key in d2:\n",
    "        if key in new_dict:\n",
    "            new_dict[key] += d2[key]\n",
    "        else:\n",
    "            new_dict[key]=d2[key]\n",
    "    return new_dict\n",
    "\n",
    "#Sort overall dict by value in increasing order to identify top and bottom stations\n",
    "overall_dict = combine(start_dict, end_dict)\n",
    "overall_dict={k: v for k, v in sorted(overall_dict.items(), key=lambda item: item[1])}\n"
   ]
  },
  {
   "cell_type": "code",
   "execution_count": 38,
   "metadata": {},
   "outputs": [
    {
     "data": {
      "image/png": "[encoded data removed]",
      "text/plain": [
       "<Figure size 432x288 with 1 Axes>"
      ]
     },
     "metadata": {
      "needs_background": "light"
     },
     "output_type": "display_data"
    }
   ],
   "source": [
    "plt.bar((list(overall_dict.keys()))[-10:], (list(overall_dict.values()))[-10:])\n",
    "plt.xticks((list(overall_dict.keys()))[-10:], rotation='vertical', size=8)\n",
    "plt.xlabel(\"Station\")\n",
    "plt.ylabel(\"# of Rides\")\n",
    "plt.title(\"Most Used Stations Overall: Portland 2017-19\")\n",
    "plt.show()\n"
   ]
  },
  {
   "cell_type": "code",
   "execution_count": 39,
   "metadata": {},
   "outputs": [
    {
     "data": {
      "image/png": "[encoded data removed]",
      "text/plain": [
       "<Figure size 432x288 with 1 Axes>"
      ]
     },
     "metadata": {
      "needs_background": "light"
     },
     "output_type": "display_data"
    }
   ],
   "source": [
    "plt.bar((list(overall_dict.keys()))[0:10], (list(overall_dict.values()))[0:10])\n",
    "plt.xticks((list(overall_dict.keys()))[0:10], rotation='vertical', size=8)\n",
    "plt.xlabel(\"Station\")\n",
    "plt.ylabel(\"# of Rides\")\n",
    "plt.title(\"Least Used Stations Overall: Portland 2017-19\")\n",
    "plt.show()"
   ]
  },
  {
   "cell_type": "code",
   "execution_count": 40,
   "metadata": {},
   "outputs": [],
   "source": [
    "#How does the number of stations change?\n",
    "num_stations=[]\n",
    "stations_2017 = len(list(pd.concat([df1['StartHub'], df1['EndHub']]).unique()))\n",
    "num_stations.append(stations_2017)"
   ]
  },
  {
   "cell_type": "code",
   "execution_count": 41,
   "metadata": {},
   "outputs": [],
   "source": [
    "stations_2018 = len(list(pd.concat([df2['StartHub'], df2['EndHub']]).unique()))\n",
    "num_stations.append(stations_2018)"
   ]
  },
  {
   "cell_type": "code",
   "execution_count": 42,
   "metadata": {},
   "outputs": [],
   "source": [
    "stations_2019 = len(list(pd.concat([df3['StartHub'], df3['EndHub']]).unique()))\n",
    "num_stations.append(stations_2019)"
   ]
  },
  {
   "cell_type": "code",
   "execution_count": 43,
   "metadata": {},
   "outputs": [
    {
     "data": {
      "image/png": "[encoded data removed]",
      "text/plain": [
       "<Figure size 432x288 with 1 Axes>"
      ]
     },
     "metadata": {
      "needs_background": "light"
     },
     "output_type": "display_data"
    }
   ],
   "source": [
    "plt.bar([2017,2018,2019], num_stations)\n",
    "plt.xticks([2017,2018,2019])\n",
    "plt.xlabel(\"Year\")\n",
    "plt.ylabel(\"# of Stations\")\n",
    "plt.title(\"Number of Stations per Year: Portland 2017-19\")\n",
    "plt.show()"
   ]
  },
  {
   "cell_type": "code",
   "execution_count": 44,
   "metadata": {},
   "outputs": [
    {
     "data": {
      "text/plain": [
       "count    1.025848e+06\n",
       "mean     2.230522e+01\n",
       "std      2.597807e+01\n",
       "min      1.000000e+00\n",
       "25%      7.166667e+00\n",
       "50%      1.320000e+01\n",
       "75%      2.663333e+01\n",
       "max      2.399833e+02\n",
       "Name: DurationMin, dtype: float64"
      ]
     },
     "execution_count": 44,
     "metadata": {},
     "output_type": "execute_result"
    }
   ],
   "source": [
    "#determine tripduration statistics (min, max, average, std, etc.)\n",
    "data['DurationMin'].describe()"
   ]
  },
  {
   "cell_type": "code",
   "execution_count": 45,
   "metadata": {},
   "outputs": [
    {
     "data": {
      "image/png": "[encoded data removed]",
      "text/plain": [
       "<Figure size 432x288 with 1 Axes>"
      ]
     },
     "metadata": {
      "needs_background": "light"
     },
     "output_type": "display_data"
    }
   ],
   "source": [
    "times = data['DurationMin']\n",
    "times.plot.hist(grid=True, bins=240, rwidth=0.9)\n",
    "plt.title('Trip Duration of all Rides: Portland 2017-19')\n",
    "plt.xlabel('Duration (min)')\n",
    "plt.ylabel('# of Rides')\n",
    "ticks=[]\n",
    "for i in range(250):\n",
    "    if i%10==0:\n",
    "        ticks.append(i)\n",
    "plt.xticks(ticks, rotation='vertical', size=8)\n",
    "\n",
    "plt.grid(axis='y', alpha=0.75)"
   ]
  },
  {
   "cell_type": "code",
   "execution_count": 46,
   "metadata": {},
   "outputs": [
    {
     "data": {
      "image/png": "[encoded data removed]",
      "text/plain": [
       "<Figure size 432x288 with 2 Axes>"
      ]
     },
     "metadata": {
      "needs_background": "light"
     },
     "output_type": "display_data"
    }
   ],
   "source": [
    "#Box plot and Dist plot with mean and median lines\n",
    "f, (ax_box, ax_hist) = plt.subplots(2, sharex=True, gridspec_kw= {\"height_ratios\": (0.2, 1)})\n",
    "mean=data['DurationMin'].mean()\n",
    "median=data['DurationMin'].median()\n",
    "\n",
    "sns.boxplot(data['DurationMin'], ax=ax_box)\n",
    "ax_box.axvline(mean, color='r', linestyle='--')\n",
    "ax_box.axvline(median, color='g', linestyle='-')\n",
    "\n",
    "sns.distplot(data['DurationMin'], ax=ax_hist)\n",
    "ax_hist.axvline(mean, color='r', linestyle='--')\n",
    "ax_hist.axvline(median, color='g', linestyle='-')\n",
    "\n",
    "plt.legend({'Mean':mean,'Median':median})\n",
    "\n",
    "ax_box.set(xlabel='')\n",
    "plt.show()"
   ]
  },
  {
   "cell_type": "code",
   "execution_count": 47,
   "metadata": {},
   "outputs": [],
   "source": [
    "#Subcriber v Customer Rides\n",
    "grouped_user = data.groupby(data['PaymentPlan'])\n",
    "df_sub = grouped_user.get_group('Subscriber')\n",
    "df_cust = grouped_user.get_group('Casual')"
   ]
  },
  {
   "cell_type": "code",
   "execution_count": 48,
   "metadata": {},
   "outputs": [
    {
     "data": {
      "text/plain": [
       "count    430453.000000\n",
       "mean         16.462465\n",
       "std          22.547431\n",
       "min           1.000000\n",
       "25%           5.633333\n",
       "50%           9.550000\n",
       "75%          17.483333\n",
       "max         239.983333\n",
       "Name: DurationMin, dtype: float64"
      ]
     },
     "execution_count": 48,
     "metadata": {},
     "output_type": "execute_result"
    }
   ],
   "source": [
    "df_sub['DurationMin'].describe()"
   ]
  },
  {
   "cell_type": "code",
   "execution_count": 49,
   "metadata": {},
   "outputs": [
    {
     "data": {
      "image/png": "[encoded data removed]",
      "text/plain": [
       "<Figure size 432x288 with 1 Axes>"
      ]
     },
     "metadata": {
      "needs_background": "light"
     },
     "output_type": "display_data"
    }
   ],
   "source": [
    "sub_times = df_sub['DurationMin']\n",
    "sub_times.plot.hist(grid=True, bins=240, rwidth=0.9)\n",
    "plt.title('Trip Duration of Subscriber Rides: Portland 2017-19')\n",
    "plt.xlabel('Duration (min)')\n",
    "plt.ylabel('# of Rides')\n",
    "ticks=[]\n",
    "for i in range(250):\n",
    "    if i%10==0:\n",
    "        ticks.append(i)\n",
    "plt.xticks(ticks, rotation='vertical', size=8)\n",
    "\n",
    "plt.grid(axis='y', alpha=0.75)"
   ]
  },
  {
   "cell_type": "code",
   "execution_count": 50,
   "metadata": {},
   "outputs": [
    {
     "data": {
      "image/png": "[encoded data removed]",
      "text/plain": [
       "<Figure size 432x288 with 2 Axes>"
      ]
     },
     "metadata": {
      "needs_background": "light"
     },
     "output_type": "display_data"
    }
   ],
   "source": [
    "#Box plot and Dist plot with mean and median lines\n",
    "f, (ax_box, ax_hist) = plt.subplots(2, sharex=True, gridspec_kw= {\"height_ratios\": (0.2, 1)})\n",
    "mean=df_sub['DurationMin'].mean()\n",
    "median=df_sub['DurationMin'].median()\n",
    "\n",
    "sns.boxplot(df_sub['DurationMin'], ax=ax_box)\n",
    "ax_box.axvline(mean, color='r', linestyle='--')\n",
    "ax_box.axvline(median, color='g', linestyle='-')\n",
    "\n",
    "sns.distplot(df_sub['DurationMin'], ax=ax_hist)\n",
    "ax_hist.axvline(mean, color='r', linestyle='--')\n",
    "ax_hist.axvline(median, color='g', linestyle='-')\n",
    "\n",
    "plt.legend({'Mean':mean,'Median':median})\n",
    "\n",
    "ax_box.set(xlabel='')\n",
    "plt.show()"
   ]
  },
  {
   "cell_type": "code",
   "execution_count": 51,
   "metadata": {},
   "outputs": [
    {
     "data": {
      "text/plain": [
       "count    595395.000000\n",
       "mean         26.529358\n",
       "std          27.435238\n",
       "min           1.000000\n",
       "25%           9.116667\n",
       "50%          17.133333\n",
       "75%          33.533333\n",
       "max         239.983333\n",
       "Name: DurationMin, dtype: float64"
      ]
     },
     "execution_count": 51,
     "metadata": {},
     "output_type": "execute_result"
    }
   ],
   "source": [
    "df_cust['DurationMin'].describe()"
   ]
  },
  {
   "cell_type": "code",
   "execution_count": 52,
   "metadata": {},
   "outputs": [
    {
     "data": {
      "image/png": "[encoded data removed]",
      "text/plain": [
       "<Figure size 432x288 with 1 Axes>"
      ]
     },
     "metadata": {
      "needs_background": "light"
     },
     "output_type": "display_data"
    }
   ],
   "source": [
    "cust_times = df_cust['DurationMin']\n",
    "cust_times.plot.hist(grid=True, bins=240, rwidth=0.9)\n",
    "plt.title('Trip Duration of Customer Rides: Portland 2017-19')\n",
    "plt.xlabel('Duration (min)')\n",
    "plt.ylabel('# of Rides')\n",
    "ticks=[]\n",
    "for i in range(250):\n",
    "    if i%10==0:\n",
    "        ticks.append(i)\n",
    "plt.xticks(ticks, rotation='vertical', size=8)\n",
    "\n",
    "plt.grid(axis='y', alpha=0.75)"
   ]
  },
  {
   "cell_type": "code",
   "execution_count": 53,
   "metadata": {},
   "outputs": [
    {
     "data": {
      "image/png": "[encoded data removed]",
      "text/plain": [
       "<Figure size 432x288 with 2 Axes>"
      ]
     },
     "metadata": {
      "needs_background": "light"
     },
     "output_type": "display_data"
    }
   ],
   "source": [
    "#Box plot and Dist plot with mean and median lines\n",
    "f, (ax_box, ax_hist) = plt.subplots(2, sharex=True, gridspec_kw= {\"height_ratios\": (0.2, 1)})\n",
    "mean=df_cust['DurationMin'].mean()\n",
    "median=df_cust['DurationMin'].median()\n",
    "\n",
    "sns.boxplot(df_cust['DurationMin'], ax=ax_box)\n",
    "ax_box.axvline(mean, color='r', linestyle='--')\n",
    "ax_box.axvline(median, color='g', linestyle='-')\n",
    "\n",
    "sns.distplot(df_cust['DurationMin'], ax=ax_hist)\n",
    "ax_hist.axvline(mean, color='r', linestyle='--')\n",
    "ax_hist.axvline(median, color='g', linestyle='-')\n",
    "\n",
    "plt.legend({'Mean':mean,'Median':median})\n",
    "\n",
    "ax_box.set(xlabel='')\n",
    "plt.show()"
   ]
  },
  {
   "cell_type": "code",
   "execution_count": 54,
   "metadata": {},
   "outputs": [
    {
     "data": {
      "text/plain": [
       "count    312732.000000\n",
       "mean         27.307554\n",
       "std          29.289306\n",
       "min           1.000000\n",
       "25%           8.633333\n",
       "50%          17.283333\n",
       "75%          34.733333\n",
       "max         239.766667\n",
       "Name: DurationMin, dtype: float64"
      ]
     },
     "execution_count": 54,
     "metadata": {},
     "output_type": "execute_result"
    }
   ],
   "source": [
    "weekend_df['DurationMin'].describe()"
   ]
  },
  {
   "cell_type": "code",
   "execution_count": 55,
   "metadata": {},
   "outputs": [
    {
     "data": {
      "image/png": "[encoded data removed]",
      "text/plain": [
       "<Figure size 432x288 with 1 Axes>"
      ]
     },
     "metadata": {
      "needs_background": "light"
     },
     "output_type": "display_data"
    }
   ],
   "source": [
    "weekend_times = weekend_df['DurationMin']\n",
    "weekend_times.plot.hist(grid=True, bins=240, rwidth=0.9)\n",
    "plt.title('Trip Duration of Weekend Rides: Portland 2017-19')\n",
    "plt.xlabel('Duration (min)')\n",
    "plt.ylabel('# of Rides')\n",
    "ticks=[]\n",
    "for i in range(250):\n",
    "    if i%10==0:\n",
    "        ticks.append(i)\n",
    "plt.xticks(ticks, rotation='vertical', size=8)\n",
    "\n",
    "plt.grid(axis='y', alpha=0.75)"
   ]
  },
  {
   "cell_type": "code",
   "execution_count": 56,
   "metadata": {},
   "outputs": [
    {
     "data": {
      "text/plain": [
       "count    713116.000000\n",
       "mean         20.111481\n",
       "std          24.058674\n",
       "min           1.000000\n",
       "25%           6.750000\n",
       "50%          11.916667\n",
       "75%          23.100000\n",
       "max         239.983333\n",
       "Name: DurationMin, dtype: float64"
      ]
     },
     "execution_count": 56,
     "metadata": {},
     "output_type": "execute_result"
    }
   ],
   "source": [
    "weekday_df['DurationMin'].describe()"
   ]
  },
  {
   "cell_type": "code",
   "execution_count": 57,
   "metadata": {},
   "outputs": [
    {
     "data": {
      "image/png": "[encoded data removed]",
      "text/plain": [
       "<Figure size 432x288 with 1 Axes>"
      ]
     },
     "metadata": {
      "needs_background": "light"
     },
     "output_type": "display_data"
    }
   ],
   "source": [
    "weekday_times = weekday_df['DurationMin']\n",
    "weekday_times.plot.hist(grid=True, bins=240, rwidth=0.9)\n",
    "plt.title('Trip Duration of Weekday Rides: Portland 2017-19')\n",
    "plt.xlabel('Duration (min)')\n",
    "plt.ylabel('# of Rides')\n",
    "ticks=[]\n",
    "for i in range(250):\n",
    "    if i%10==0:\n",
    "        ticks.append(i)\n",
    "plt.xticks(ticks, rotation='vertical', size=8)\n",
    "\n",
    "plt.grid(axis='y', alpha=0.75)"
   ]
  },
  {
   "cell_type": "code",
   "execution_count": null,
   "metadata": {},
   "outputs": [],
   "source": []
  }
 ],
 "metadata": {
  "kernelspec": {
   "display_name": "Python 3",
   "language": "python",
   "name": "python3"
  },
  "language_info": {
   "codemirror_mode": {
    "name": "ipython",
    "version": 3
   },
   "file_extension": ".py",
   "mimetype": "text/x-python",
   "name": "python",
   "nbconvert_exporter": "python",
   "pygments_lexer": "ipython3",
   "version": "3.8.3rc1"
  }
 },
 "nbformat": 4,
 "nbformat_minor": 4
}
