{
 "cells": [
  {
   "cell_type": "code",
   "execution_count": 1,
   "metadata": {},
   "outputs": [],
   "source": [
    "import pandas as pd\n",
    "import os\n",
    "import matplotlib.pyplot as plt\n",
    "import numpy as np\n",
    "import seaborn as sns\n",
    "from scipy import stats\n",
    "from math import *"
   ]
  },
  {
   "cell_type": "code",
   "execution_count": 15,
   "metadata": {},
   "outputs": [
    {
     "name": "stderr",
     "output_type": "stream",
     "text": [
      "/Library/Frameworks/Python.framework/Versions/3.8/lib/python3.8/site-packages/IPython/core/interactiveshell.py:3062: DtypeWarning: Columns (10) have mixed types.Specify dtype option on import or set low_memory=False.\n",
      "  has_raised = await self.run_ast_nodes(code_ast.body, cell_name,\n"
     ]
    }
   ],
   "source": [
    "files = [file for file in os.listdir(\"./201719Data\")]\n",
    "all_years_data = pd.DataFrame()\n",
    "for file in files:\n",
    "    df = pd.read_csv(\"./201719Data/\"+file)\n",
    "    all_years_data = pd.concat([all_years_data, df])\n",
    "\n",
    "all_years_data.to_csv(\"201719LA.csv\", index=False)"
   ]
  },
  {
   "cell_type": "code",
   "execution_count": 2,
   "metadata": {
    "scrolled": true
   },
   "outputs": [
    {
     "name": "stderr",
     "output_type": "stream",
     "text": [
      "/Library/Frameworks/Python.framework/Versions/3.8/lib/python3.8/site-packages/IPython/core/interactiveshell.py:3062: DtypeWarning: Columns (11,15) have mixed types.Specify dtype option on import or set low_memory=False.\n",
      "  has_raised = await self.run_ast_nodes(code_ast.body, cell_name,\n"
     ]
    }
   ],
   "source": [
    "all_data = pd.read_csv(\"201719LA.csv\")"
   ]
  },
  {
   "cell_type": "code",
   "execution_count": 3,
   "metadata": {},
   "outputs": [],
   "source": [
    "del all_data['trip_id']\n",
    "del all_data['plan_duration']\n",
    "del all_data['start_station_id']\n",
    "del all_data['Unnamed: 0']\n",
    "del all_data['end_station_id']\n",
    "del all_data['start_lat']\n",
    "del all_data['start_lon']\n",
    "del all_data['end_lat']\n",
    "del all_data['end_lon']\n",
    "del all_data['trip_route_category']"
   ]
  },
  {
   "cell_type": "code",
   "execution_count": 4,
   "metadata": {},
   "outputs": [
    {
     "data": {
      "text/html": [
       "<div>\n",
       "<style scoped>\n",
       "    .dataframe tbody tr th:only-of-type {\n",
       "        vertical-align: middle;\n",
       "    }\n",
       "\n",
       "    .dataframe tbody tr th {\n",
       "        vertical-align: top;\n",
       "    }\n",
       "\n",
       "    .dataframe thead th {\n",
       "        text-align: right;\n",
       "    }\n",
       "</style>\n",
       "<table border=\"1\" class=\"dataframe\">\n",
       "  <thead>\n",
       "    <tr style=\"text-align: right;\">\n",
       "      <th></th>\n",
       "      <th>duration</th>\n",
       "      <th>start_time</th>\n",
       "      <th>end_time</th>\n",
       "      <th>start_station</th>\n",
       "      <th>end_station</th>\n",
       "      <th>bike_id</th>\n",
       "      <th>passholder_type</th>\n",
       "      <th>bike_type</th>\n",
       "    </tr>\n",
       "  </thead>\n",
       "  <tbody>\n",
       "    <tr>\n",
       "      <th>0</th>\n",
       "      <td>7.0</td>\n",
       "      <td>2019-04-01 00:02:00</td>\n",
       "      <td>2019-04-01 00:09:00</td>\n",
       "      <td>3069.0</td>\n",
       "      <td>3034.0</td>\n",
       "      <td>6459</td>\n",
       "      <td>Walk-up</td>\n",
       "      <td>standard</td>\n",
       "    </tr>\n",
       "    <tr>\n",
       "      <th>1</th>\n",
       "      <td>12.0</td>\n",
       "      <td>2019-04-01 00:56:00</td>\n",
       "      <td>2019-04-01 01:08:00</td>\n",
       "      <td>3031.0</td>\n",
       "      <td>4311.0</td>\n",
       "      <td>12229</td>\n",
       "      <td>Monthly Pass</td>\n",
       "      <td>standard</td>\n",
       "    </tr>\n",
       "    <tr>\n",
       "      <th>2</th>\n",
       "      <td>12.0</td>\n",
       "      <td>2019-04-01 01:06:00</td>\n",
       "      <td>2019-04-01 01:18:00</td>\n",
       "      <td>3038.0</td>\n",
       "      <td>3082.0</td>\n",
       "      <td>6422</td>\n",
       "      <td>Walk-up</td>\n",
       "      <td>standard</td>\n",
       "    </tr>\n",
       "    <tr>\n",
       "      <th>3</th>\n",
       "      <td>48.0</td>\n",
       "      <td>2019-04-01 01:08:00</td>\n",
       "      <td>2019-04-01 01:56:00</td>\n",
       "      <td>3068.0</td>\n",
       "      <td>3005.0</td>\n",
       "      <td>12211</td>\n",
       "      <td>Monthly Pass</td>\n",
       "      <td>standard</td>\n",
       "    </tr>\n",
       "    <tr>\n",
       "      <th>4</th>\n",
       "      <td>9.0</td>\n",
       "      <td>2019-04-01 01:09:00</td>\n",
       "      <td>2019-04-01 01:18:00</td>\n",
       "      <td>3038.0</td>\n",
       "      <td>3082.0</td>\n",
       "      <td>12005</td>\n",
       "      <td>Walk-up</td>\n",
       "      <td>standard</td>\n",
       "    </tr>\n",
       "  </tbody>\n",
       "</table>\n",
       "</div>"
      ],
      "text/plain": [
       "   duration           start_time             end_time  start_station  \\\n",
       "0       7.0  2019-04-01 00:02:00  2019-04-01 00:09:00         3069.0   \n",
       "1      12.0  2019-04-01 00:56:00  2019-04-01 01:08:00         3031.0   \n",
       "2      12.0  2019-04-01 01:06:00  2019-04-01 01:18:00         3038.0   \n",
       "3      48.0  2019-04-01 01:08:00  2019-04-01 01:56:00         3068.0   \n",
       "4       9.0  2019-04-01 01:09:00  2019-04-01 01:18:00         3038.0   \n",
       "\n",
       "   end_station bike_id passholder_type bike_type  \n",
       "0       3034.0    6459         Walk-up  standard  \n",
       "1       4311.0   12229    Monthly Pass  standard  \n",
       "2       3082.0    6422         Walk-up  standard  \n",
       "3       3005.0   12211    Monthly Pass  standard  \n",
       "4       3082.0   12005         Walk-up  standard  "
      ]
     },
     "execution_count": 4,
     "metadata": {},
     "output_type": "execute_result"
    }
   ],
   "source": [
    "all_data.head()"
   ]
  },
  {
   "cell_type": "code",
   "execution_count": 5,
   "metadata": {},
   "outputs": [
    {
     "data": {
      "text/html": [
       "<div>\n",
       "<style scoped>\n",
       "    .dataframe tbody tr th:only-of-type {\n",
       "        vertical-align: middle;\n",
       "    }\n",
       "\n",
       "    .dataframe tbody tr th {\n",
       "        vertical-align: top;\n",
       "    }\n",
       "\n",
       "    .dataframe thead th {\n",
       "        text-align: right;\n",
       "    }\n",
       "</style>\n",
       "<table border=\"1\" class=\"dataframe\">\n",
       "  <thead>\n",
       "    <tr style=\"text-align: right;\">\n",
       "      <th></th>\n",
       "      <th>duration</th>\n",
       "      <th>start_time</th>\n",
       "      <th>end_time</th>\n",
       "      <th>start_station</th>\n",
       "      <th>end_station</th>\n",
       "      <th>bike_id</th>\n",
       "      <th>passholder_type</th>\n",
       "      <th>bike_type</th>\n",
       "      <th>year</th>\n",
       "      <th>month</th>\n",
       "    </tr>\n",
       "  </thead>\n",
       "  <tbody>\n",
       "    <tr>\n",
       "      <th>0</th>\n",
       "      <td>7.0</td>\n",
       "      <td>2019-04-01 00:02:00</td>\n",
       "      <td>2019-04-01 00:09:00</td>\n",
       "      <td>3069.0</td>\n",
       "      <td>3034.0</td>\n",
       "      <td>6459</td>\n",
       "      <td>Walk-up</td>\n",
       "      <td>standard</td>\n",
       "      <td>2019</td>\n",
       "      <td>4</td>\n",
       "    </tr>\n",
       "    <tr>\n",
       "      <th>1</th>\n",
       "      <td>12.0</td>\n",
       "      <td>2019-04-01 00:56:00</td>\n",
       "      <td>2019-04-01 01:08:00</td>\n",
       "      <td>3031.0</td>\n",
       "      <td>4311.0</td>\n",
       "      <td>12229</td>\n",
       "      <td>Monthly Pass</td>\n",
       "      <td>standard</td>\n",
       "      <td>2019</td>\n",
       "      <td>4</td>\n",
       "    </tr>\n",
       "    <tr>\n",
       "      <th>2</th>\n",
       "      <td>12.0</td>\n",
       "      <td>2019-04-01 01:06:00</td>\n",
       "      <td>2019-04-01 01:18:00</td>\n",
       "      <td>3038.0</td>\n",
       "      <td>3082.0</td>\n",
       "      <td>6422</td>\n",
       "      <td>Walk-up</td>\n",
       "      <td>standard</td>\n",
       "      <td>2019</td>\n",
       "      <td>4</td>\n",
       "    </tr>\n",
       "    <tr>\n",
       "      <th>3</th>\n",
       "      <td>48.0</td>\n",
       "      <td>2019-04-01 01:08:00</td>\n",
       "      <td>2019-04-01 01:56:00</td>\n",
       "      <td>3068.0</td>\n",
       "      <td>3005.0</td>\n",
       "      <td>12211</td>\n",
       "      <td>Monthly Pass</td>\n",
       "      <td>standard</td>\n",
       "      <td>2019</td>\n",
       "      <td>4</td>\n",
       "    </tr>\n",
       "    <tr>\n",
       "      <th>4</th>\n",
       "      <td>9.0</td>\n",
       "      <td>2019-04-01 01:09:00</td>\n",
       "      <td>2019-04-01 01:18:00</td>\n",
       "      <td>3038.0</td>\n",
       "      <td>3082.0</td>\n",
       "      <td>12005</td>\n",
       "      <td>Walk-up</td>\n",
       "      <td>standard</td>\n",
       "      <td>2019</td>\n",
       "      <td>4</td>\n",
       "    </tr>\n",
       "  </tbody>\n",
       "</table>\n",
       "</div>"
      ],
      "text/plain": [
       "   duration          start_time            end_time  start_station  \\\n",
       "0       7.0 2019-04-01 00:02:00 2019-04-01 00:09:00         3069.0   \n",
       "1      12.0 2019-04-01 00:56:00 2019-04-01 01:08:00         3031.0   \n",
       "2      12.0 2019-04-01 01:06:00 2019-04-01 01:18:00         3038.0   \n",
       "3      48.0 2019-04-01 01:08:00 2019-04-01 01:56:00         3068.0   \n",
       "4       9.0 2019-04-01 01:09:00 2019-04-01 01:18:00         3038.0   \n",
       "\n",
       "   end_station bike_id passholder_type bike_type  year  month  \n",
       "0       3034.0    6459         Walk-up  standard  2019      4  \n",
       "1       4311.0   12229    Monthly Pass  standard  2019      4  \n",
       "2       3082.0    6422         Walk-up  standard  2019      4  \n",
       "3       3005.0   12211    Monthly Pass  standard  2019      4  \n",
       "4       3082.0   12005         Walk-up  standard  2019      4  "
      ]
     },
     "execution_count": 5,
     "metadata": {},
     "output_type": "execute_result"
    }
   ],
   "source": [
    "all_data['start_time'] = pd.to_datetime(all_data[\"start_time\"])\n",
    "all_data['end_time'] = pd.to_datetime(all_data[\"end_time\"])\n",
    "all_data['year'] = all_data[\"start_time\"].dt.year\n",
    "all_data['month'] = all_data[\"start_time\"].dt.month\n",
    "all_data.head()"
   ]
  },
  {
   "cell_type": "code",
   "execution_count": 6,
   "metadata": {
    "scrolled": true
   },
   "outputs": [
    {
     "data": {
      "text/html": [
       "<div>\n",
       "<style scoped>\n",
       "    .dataframe tbody tr th:only-of-type {\n",
       "        vertical-align: middle;\n",
       "    }\n",
       "\n",
       "    .dataframe tbody tr th {\n",
       "        vertical-align: top;\n",
       "    }\n",
       "\n",
       "    .dataframe thead th {\n",
       "        text-align: right;\n",
       "    }\n",
       "</style>\n",
       "<table border=\"1\" class=\"dataframe\">\n",
       "  <thead>\n",
       "    <tr style=\"text-align: right;\">\n",
       "      <th></th>\n",
       "      <th>duration</th>\n",
       "      <th>start_time</th>\n",
       "      <th>end_time</th>\n",
       "      <th>start_station</th>\n",
       "      <th>end_station</th>\n",
       "      <th>bike_id</th>\n",
       "      <th>passholder_type</th>\n",
       "      <th>bike_type</th>\n",
       "      <th>year</th>\n",
       "      <th>month</th>\n",
       "      <th>start_hour</th>\n",
       "      <th>day_of_week</th>\n",
       "    </tr>\n",
       "  </thead>\n",
       "  <tbody>\n",
       "    <tr>\n",
       "      <th>0</th>\n",
       "      <td>7.0</td>\n",
       "      <td>2019-04-01 00:02:00</td>\n",
       "      <td>2019-04-01 00:09:00</td>\n",
       "      <td>3069.0</td>\n",
       "      <td>3034.0</td>\n",
       "      <td>6459</td>\n",
       "      <td>Walk-up</td>\n",
       "      <td>standard</td>\n",
       "      <td>2019</td>\n",
       "      <td>4</td>\n",
       "      <td>0</td>\n",
       "      <td>Monday</td>\n",
       "    </tr>\n",
       "    <tr>\n",
       "      <th>1</th>\n",
       "      <td>12.0</td>\n",
       "      <td>2019-04-01 00:56:00</td>\n",
       "      <td>2019-04-01 01:08:00</td>\n",
       "      <td>3031.0</td>\n",
       "      <td>4311.0</td>\n",
       "      <td>12229</td>\n",
       "      <td>Monthly Pass</td>\n",
       "      <td>standard</td>\n",
       "      <td>2019</td>\n",
       "      <td>4</td>\n",
       "      <td>0</td>\n",
       "      <td>Monday</td>\n",
       "    </tr>\n",
       "    <tr>\n",
       "      <th>2</th>\n",
       "      <td>12.0</td>\n",
       "      <td>2019-04-01 01:06:00</td>\n",
       "      <td>2019-04-01 01:18:00</td>\n",
       "      <td>3038.0</td>\n",
       "      <td>3082.0</td>\n",
       "      <td>6422</td>\n",
       "      <td>Walk-up</td>\n",
       "      <td>standard</td>\n",
       "      <td>2019</td>\n",
       "      <td>4</td>\n",
       "      <td>1</td>\n",
       "      <td>Monday</td>\n",
       "    </tr>\n",
       "    <tr>\n",
       "      <th>3</th>\n",
       "      <td>48.0</td>\n",
       "      <td>2019-04-01 01:08:00</td>\n",
       "      <td>2019-04-01 01:56:00</td>\n",
       "      <td>3068.0</td>\n",
       "      <td>3005.0</td>\n",
       "      <td>12211</td>\n",
       "      <td>Monthly Pass</td>\n",
       "      <td>standard</td>\n",
       "      <td>2019</td>\n",
       "      <td>4</td>\n",
       "      <td>1</td>\n",
       "      <td>Monday</td>\n",
       "    </tr>\n",
       "    <tr>\n",
       "      <th>4</th>\n",
       "      <td>9.0</td>\n",
       "      <td>2019-04-01 01:09:00</td>\n",
       "      <td>2019-04-01 01:18:00</td>\n",
       "      <td>3038.0</td>\n",
       "      <td>3082.0</td>\n",
       "      <td>12005</td>\n",
       "      <td>Walk-up</td>\n",
       "      <td>standard</td>\n",
       "      <td>2019</td>\n",
       "      <td>4</td>\n",
       "      <td>1</td>\n",
       "      <td>Monday</td>\n",
       "    </tr>\n",
       "  </tbody>\n",
       "</table>\n",
       "</div>"
      ],
      "text/plain": [
       "   duration          start_time            end_time  start_station  \\\n",
       "0       7.0 2019-04-01 00:02:00 2019-04-01 00:09:00         3069.0   \n",
       "1      12.0 2019-04-01 00:56:00 2019-04-01 01:08:00         3031.0   \n",
       "2      12.0 2019-04-01 01:06:00 2019-04-01 01:18:00         3038.0   \n",
       "3      48.0 2019-04-01 01:08:00 2019-04-01 01:56:00         3068.0   \n",
       "4       9.0 2019-04-01 01:09:00 2019-04-01 01:18:00         3038.0   \n",
       "\n",
       "   end_station bike_id passholder_type bike_type  year  month  start_hour  \\\n",
       "0       3034.0    6459         Walk-up  standard  2019      4           0   \n",
       "1       4311.0   12229    Monthly Pass  standard  2019      4           0   \n",
       "2       3082.0    6422         Walk-up  standard  2019      4           1   \n",
       "3       3005.0   12211    Monthly Pass  standard  2019      4           1   \n",
       "4       3082.0   12005         Walk-up  standard  2019      4           1   \n",
       "\n",
       "  day_of_week  \n",
       "0      Monday  \n",
       "1      Monday  \n",
       "2      Monday  \n",
       "3      Monday  \n",
       "4      Monday  "
      ]
     },
     "execution_count": 6,
     "metadata": {},
     "output_type": "execute_result"
    }
   ],
   "source": [
    "all_data['start_hour'] = all_data['start_time'].dt.hour\n",
    "all_data['day_of_week'] = all_data['start_time'].dt.day_name()\n",
    "all_data.head()"
   ]
  },
  {
   "cell_type": "code",
   "execution_count": 7,
   "metadata": {
    "scrolled": false
   },
   "outputs": [
    {
     "data": {
      "text/plain": [
       "count    831491.000000\n",
       "mean        106.457669\n",
       "std        1466.949024\n",
       "min           1.000000\n",
       "25%           7.000000\n",
       "50%          13.000000\n",
       "75%          27.000000\n",
       "max       86400.000000\n",
       "Name: duration, dtype: float64"
      ]
     },
     "execution_count": 7,
     "metadata": {},
     "output_type": "execute_result"
    }
   ],
   "source": [
    "all_data['duration'].describe()"
   ]
  },
  {
   "cell_type": "code",
   "execution_count": 8,
   "metadata": {
    "scrolled": false
   },
   "outputs": [
    {
     "data": {
      "text/html": [
       "<div>\n",
       "<style scoped>\n",
       "    .dataframe tbody tr th:only-of-type {\n",
       "        vertical-align: middle;\n",
       "    }\n",
       "\n",
       "    .dataframe tbody tr th {\n",
       "        vertical-align: top;\n",
       "    }\n",
       "\n",
       "    .dataframe thead th {\n",
       "        text-align: right;\n",
       "    }\n",
       "</style>\n",
       "<table border=\"1\" class=\"dataframe\">\n",
       "  <thead>\n",
       "    <tr style=\"text-align: right;\">\n",
       "      <th></th>\n",
       "      <th>duration</th>\n",
       "      <th>start_time</th>\n",
       "      <th>end_time</th>\n",
       "      <th>start_station</th>\n",
       "      <th>end_station</th>\n",
       "      <th>bike_id</th>\n",
       "      <th>passholder_type</th>\n",
       "      <th>bike_type</th>\n",
       "      <th>year</th>\n",
       "      <th>month</th>\n",
       "      <th>start_hour</th>\n",
       "      <th>day_of_week</th>\n",
       "    </tr>\n",
       "  </thead>\n",
       "  <tbody>\n",
       "    <tr>\n",
       "      <th>0</th>\n",
       "      <td>7.0</td>\n",
       "      <td>2019-04-01 00:02:00</td>\n",
       "      <td>2019-04-01 00:09:00</td>\n",
       "      <td>3069.0</td>\n",
       "      <td>3034.0</td>\n",
       "      <td>6459</td>\n",
       "      <td>Walk-up</td>\n",
       "      <td>standard</td>\n",
       "      <td>2019</td>\n",
       "      <td>4</td>\n",
       "      <td>0</td>\n",
       "      <td>Monday</td>\n",
       "    </tr>\n",
       "    <tr>\n",
       "      <th>1</th>\n",
       "      <td>12.0</td>\n",
       "      <td>2019-04-01 00:56:00</td>\n",
       "      <td>2019-04-01 01:08:00</td>\n",
       "      <td>3031.0</td>\n",
       "      <td>4311.0</td>\n",
       "      <td>12229</td>\n",
       "      <td>Monthly Pass</td>\n",
       "      <td>standard</td>\n",
       "      <td>2019</td>\n",
       "      <td>4</td>\n",
       "      <td>0</td>\n",
       "      <td>Monday</td>\n",
       "    </tr>\n",
       "    <tr>\n",
       "      <th>2</th>\n",
       "      <td>12.0</td>\n",
       "      <td>2019-04-01 01:06:00</td>\n",
       "      <td>2019-04-01 01:18:00</td>\n",
       "      <td>3038.0</td>\n",
       "      <td>3082.0</td>\n",
       "      <td>6422</td>\n",
       "      <td>Walk-up</td>\n",
       "      <td>standard</td>\n",
       "      <td>2019</td>\n",
       "      <td>4</td>\n",
       "      <td>1</td>\n",
       "      <td>Monday</td>\n",
       "    </tr>\n",
       "    <tr>\n",
       "      <th>3</th>\n",
       "      <td>48.0</td>\n",
       "      <td>2019-04-01 01:08:00</td>\n",
       "      <td>2019-04-01 01:56:00</td>\n",
       "      <td>3068.0</td>\n",
       "      <td>3005.0</td>\n",
       "      <td>12211</td>\n",
       "      <td>Monthly Pass</td>\n",
       "      <td>standard</td>\n",
       "      <td>2019</td>\n",
       "      <td>4</td>\n",
       "      <td>1</td>\n",
       "      <td>Monday</td>\n",
       "    </tr>\n",
       "    <tr>\n",
       "      <th>4</th>\n",
       "      <td>9.0</td>\n",
       "      <td>2019-04-01 01:09:00</td>\n",
       "      <td>2019-04-01 01:18:00</td>\n",
       "      <td>3038.0</td>\n",
       "      <td>3082.0</td>\n",
       "      <td>12005</td>\n",
       "      <td>Walk-up</td>\n",
       "      <td>standard</td>\n",
       "      <td>2019</td>\n",
       "      <td>4</td>\n",
       "      <td>1</td>\n",
       "      <td>Monday</td>\n",
       "    </tr>\n",
       "  </tbody>\n",
       "</table>\n",
       "</div>"
      ],
      "text/plain": [
       "   duration          start_time            end_time  start_station  \\\n",
       "0       7.0 2019-04-01 00:02:00 2019-04-01 00:09:00         3069.0   \n",
       "1      12.0 2019-04-01 00:56:00 2019-04-01 01:08:00         3031.0   \n",
       "2      12.0 2019-04-01 01:06:00 2019-04-01 01:18:00         3038.0   \n",
       "3      48.0 2019-04-01 01:08:00 2019-04-01 01:56:00         3068.0   \n",
       "4       9.0 2019-04-01 01:09:00 2019-04-01 01:18:00         3038.0   \n",
       "\n",
       "   end_station bike_id passholder_type bike_type  year  month  start_hour  \\\n",
       "0       3034.0    6459         Walk-up  standard  2019      4           0   \n",
       "1       4311.0   12229    Monthly Pass  standard  2019      4           0   \n",
       "2       3082.0    6422         Walk-up  standard  2019      4           1   \n",
       "3       3005.0   12211    Monthly Pass  standard  2019      4           1   \n",
       "4       3082.0   12005         Walk-up  standard  2019      4           1   \n",
       "\n",
       "  day_of_week  \n",
       "0      Monday  \n",
       "1      Monday  \n",
       "2      Monday  \n",
       "3      Monday  \n",
       "4      Monday  "
      ]
     },
     "execution_count": 8,
     "metadata": {},
     "output_type": "execute_result"
    }
   ],
   "source": [
    "#Based on the pricing system I'd expect the majority of rides to be under 2 hours\n",
    "#and no longer than 4 hours\n",
    "no_outliers_data = all_data[all_data['duration'] < 240]\n",
    "no_outliers_data.head()"
   ]
  },
  {
   "cell_type": "code",
   "execution_count": 10,
   "metadata": {
    "collapsed": true
   },
   "outputs": [
    {
     "data": {
      "text/html": [
       "<div>\n",
       "<style scoped>\n",
       "    .dataframe tbody tr th:only-of-type {\n",
       "        vertical-align: middle;\n",
       "    }\n",
       "\n",
       "    .dataframe tbody tr th {\n",
       "        vertical-align: top;\n",
       "    }\n",
       "\n",
       "    .dataframe thead th {\n",
       "        text-align: right;\n",
       "    }\n",
       "</style>\n",
       "<table border=\"1\" class=\"dataframe\">\n",
       "  <thead>\n",
       "    <tr style=\"text-align: right;\">\n",
       "      <th></th>\n",
       "      <th>duration</th>\n",
       "      <th>start_time</th>\n",
       "      <th>end_time</th>\n",
       "      <th>start_station</th>\n",
       "      <th>end_station</th>\n",
       "      <th>bike_id</th>\n",
       "      <th>passholder_type</th>\n",
       "      <th>bike_type</th>\n",
       "      <th>year</th>\n",
       "      <th>month</th>\n",
       "      <th>start_hour</th>\n",
       "      <th>day_of_week</th>\n",
       "    </tr>\n",
       "  </thead>\n",
       "  <tbody>\n",
       "    <tr>\n",
       "      <th>10010</th>\n",
       "      <td>1.0</td>\n",
       "      <td>2019-04-16 14:23:00</td>\n",
       "      <td>2019-04-16 14:24:00</td>\n",
       "      <td>3000.0</td>\n",
       "      <td>4363.0</td>\n",
       "      <td>15238</td>\n",
       "      <td>Testing</td>\n",
       "      <td>smart</td>\n",
       "      <td>2019</td>\n",
       "      <td>4</td>\n",
       "      <td>14</td>\n",
       "      <td>Tuesday</td>\n",
       "    </tr>\n",
       "    <tr>\n",
       "      <th>10495</th>\n",
       "      <td>2.0</td>\n",
       "      <td>2019-04-17 10:12:00</td>\n",
       "      <td>2019-04-17 10:14:00</td>\n",
       "      <td>4363.0</td>\n",
       "      <td>4363.0</td>\n",
       "      <td>15632</td>\n",
       "      <td>Testing</td>\n",
       "      <td>smart</td>\n",
       "      <td>2019</td>\n",
       "      <td>4</td>\n",
       "      <td>10</td>\n",
       "      <td>Wednesday</td>\n",
       "    </tr>\n",
       "    <tr>\n",
       "      <th>11930</th>\n",
       "      <td>1.0</td>\n",
       "      <td>2019-04-19 10:42:00</td>\n",
       "      <td>2019-04-19 10:43:00</td>\n",
       "      <td>4285.0</td>\n",
       "      <td>4372.0</td>\n",
       "      <td>16159</td>\n",
       "      <td>Testing</td>\n",
       "      <td>smart</td>\n",
       "      <td>2019</td>\n",
       "      <td>4</td>\n",
       "      <td>10</td>\n",
       "      <td>Friday</td>\n",
       "    </tr>\n",
       "    <tr>\n",
       "      <th>11947</th>\n",
       "      <td>1.0</td>\n",
       "      <td>2019-04-19 11:25:00</td>\n",
       "      <td>2019-04-19 11:26:00</td>\n",
       "      <td>4372.0</td>\n",
       "      <td>4372.0</td>\n",
       "      <td>15741</td>\n",
       "      <td>Testing</td>\n",
       "      <td>smart</td>\n",
       "      <td>2019</td>\n",
       "      <td>4</td>\n",
       "      <td>11</td>\n",
       "      <td>Friday</td>\n",
       "    </tr>\n",
       "    <tr>\n",
       "      <th>11949</th>\n",
       "      <td>1.0</td>\n",
       "      <td>2019-04-19 11:26:00</td>\n",
       "      <td>2019-04-19 11:27:00</td>\n",
       "      <td>4372.0</td>\n",
       "      <td>4372.0</td>\n",
       "      <td>15868</td>\n",
       "      <td>Testing</td>\n",
       "      <td>smart</td>\n",
       "      <td>2019</td>\n",
       "      <td>4</td>\n",
       "      <td>11</td>\n",
       "      <td>Friday</td>\n",
       "    </tr>\n",
       "    <tr>\n",
       "      <th>...</th>\n",
       "      <td>...</td>\n",
       "      <td>...</td>\n",
       "      <td>...</td>\n",
       "      <td>...</td>\n",
       "      <td>...</td>\n",
       "      <td>...</td>\n",
       "      <td>...</td>\n",
       "      <td>...</td>\n",
       "      <td>...</td>\n",
       "      <td>...</td>\n",
       "      <td>...</td>\n",
       "      <td>...</td>\n",
       "    </tr>\n",
       "    <tr>\n",
       "      <th>341104</th>\n",
       "      <td>8.0</td>\n",
       "      <td>2019-12-03 10:06:24</td>\n",
       "      <td>2019-12-03 10:14:30</td>\n",
       "      <td>4394.0</td>\n",
       "      <td>4394.0</td>\n",
       "      <td>15809</td>\n",
       "      <td>Testing</td>\n",
       "      <td>smart</td>\n",
       "      <td>2019</td>\n",
       "      <td>12</td>\n",
       "      <td>10</td>\n",
       "      <td>Tuesday</td>\n",
       "    </tr>\n",
       "    <tr>\n",
       "      <th>341845</th>\n",
       "      <td>19.0</td>\n",
       "      <td>2019-12-04 12:57:34</td>\n",
       "      <td>2019-12-04 13:16:53</td>\n",
       "      <td>4470.0</td>\n",
       "      <td>4459.0</td>\n",
       "      <td>16095</td>\n",
       "      <td>Testing</td>\n",
       "      <td>smart</td>\n",
       "      <td>2019</td>\n",
       "      <td>12</td>\n",
       "      <td>12</td>\n",
       "      <td>Wednesday</td>\n",
       "    </tr>\n",
       "    <tr>\n",
       "      <th>342463</th>\n",
       "      <td>9.0</td>\n",
       "      <td>2019-12-05 09:12:20</td>\n",
       "      <td>2019-12-05 09:21:51</td>\n",
       "      <td>4460.0</td>\n",
       "      <td>4394.0</td>\n",
       "      <td>15723</td>\n",
       "      <td>Testing</td>\n",
       "      <td>smart</td>\n",
       "      <td>2019</td>\n",
       "      <td>12</td>\n",
       "      <td>9</td>\n",
       "      <td>Thursday</td>\n",
       "    </tr>\n",
       "    <tr>\n",
       "      <th>347109</th>\n",
       "      <td>63.0</td>\n",
       "      <td>2019-12-11 15:15:26</td>\n",
       "      <td>2019-12-11 16:18:26</td>\n",
       "      <td>4286.0</td>\n",
       "      <td>4346.0</td>\n",
       "      <td>15899</td>\n",
       "      <td>Testing</td>\n",
       "      <td>smart</td>\n",
       "      <td>2019</td>\n",
       "      <td>12</td>\n",
       "      <td>15</td>\n",
       "      <td>Wednesday</td>\n",
       "    </tr>\n",
       "    <tr>\n",
       "      <th>359702</th>\n",
       "      <td>1.0</td>\n",
       "      <td>2019-12-29 16:48:46</td>\n",
       "      <td>2019-12-29 16:49:08</td>\n",
       "      <td>4286.0</td>\n",
       "      <td>4286.0</td>\n",
       "      <td>15941</td>\n",
       "      <td>Testing</td>\n",
       "      <td>smart</td>\n",
       "      <td>2019</td>\n",
       "      <td>12</td>\n",
       "      <td>16</td>\n",
       "      <td>Sunday</td>\n",
       "    </tr>\n",
       "  </tbody>\n",
       "</table>\n",
       "<p>110 rows × 12 columns</p>\n",
       "</div>"
      ],
      "text/plain": [
       "        duration          start_time            end_time start_station  \\\n",
       "10010        1.0 2019-04-16 14:23:00 2019-04-16 14:24:00        3000.0   \n",
       "10495        2.0 2019-04-17 10:12:00 2019-04-17 10:14:00        4363.0   \n",
       "11930        1.0 2019-04-19 10:42:00 2019-04-19 10:43:00        4285.0   \n",
       "11947        1.0 2019-04-19 11:25:00 2019-04-19 11:26:00        4372.0   \n",
       "11949        1.0 2019-04-19 11:26:00 2019-04-19 11:27:00        4372.0   \n",
       "...          ...                 ...                 ...           ...   \n",
       "341104       8.0 2019-12-03 10:06:24 2019-12-03 10:14:30        4394.0   \n",
       "341845      19.0 2019-12-04 12:57:34 2019-12-04 13:16:53        4470.0   \n",
       "342463       9.0 2019-12-05 09:12:20 2019-12-05 09:21:51        4460.0   \n",
       "347109      63.0 2019-12-11 15:15:26 2019-12-11 16:18:26        4286.0   \n",
       "359702       1.0 2019-12-29 16:48:46 2019-12-29 16:49:08        4286.0   \n",
       "\n",
       "       end_station bike_id passholder_type bike_type  year  month  start_hour  \\\n",
       "10010       4363.0   15238         Testing     smart  2019      4          14   \n",
       "10495       4363.0   15632         Testing     smart  2019      4          10   \n",
       "11930       4372.0   16159         Testing     smart  2019      4          10   \n",
       "11947       4372.0   15741         Testing     smart  2019      4          11   \n",
       "11949       4372.0   15868         Testing     smart  2019      4          11   \n",
       "...            ...     ...             ...       ...   ...    ...         ...   \n",
       "341104      4394.0   15809         Testing     smart  2019     12          10   \n",
       "341845      4459.0   16095         Testing     smart  2019     12          12   \n",
       "342463      4394.0   15723         Testing     smart  2019     12           9   \n",
       "347109      4346.0   15899         Testing     smart  2019     12          15   \n",
       "359702      4286.0   15941         Testing     smart  2019     12          16   \n",
       "\n",
       "       day_of_week  \n",
       "10010      Tuesday  \n",
       "10495    Wednesday  \n",
       "11930       Friday  \n",
       "11947       Friday  \n",
       "11949       Friday  \n",
       "...            ...  \n",
       "341104     Tuesday  \n",
       "341845   Wednesday  \n",
       "342463    Thursday  \n",
       "347109   Wednesday  \n",
       "359702      Sunday  \n",
       "\n",
       "[110 rows x 12 columns]"
      ]
     },
     "execution_count": 10,
     "metadata": {},
     "output_type": "execute_result"
    }
   ],
   "source": [
    "no_outliers_data[no_outliers_data['passholder_type'].str.contains('Testing')]"
   ]
  },
  {
   "cell_type": "code",
   "execution_count": 11,
   "metadata": {},
   "outputs": [],
   "source": [
    "#Drop any rows that are Testing\n",
    "no_outliers_data = no_outliers_data[~no_outliers_data['passholder_type'].isin(['Testing'])]"
   ]
  },
  {
   "cell_type": "code",
   "execution_count": 12,
   "metadata": {},
   "outputs": [
    {
     "data": {
      "text/plain": [
       "array(['Walk-up', 'Monthly Pass', 'Annual Pass', 'Flex Pass',\n",
       "       'One Day Pass'], dtype=object)"
      ]
     },
     "execution_count": 12,
     "metadata": {},
     "output_type": "execute_result"
    }
   ],
   "source": [
    "no_outliers_data['passholder_type'].unique()"
   ]
  },
  {
   "cell_type": "code",
   "execution_count": 13,
   "metadata": {},
   "outputs": [],
   "source": [
    "no_outliers_data.replace({'Monthly Pass':'Subscriber', 'Annual Pass':'Subscriber', 'Walk-up':'Customer', 'Flex Pass':'Customer', 'One Day Pass':'Customer'}, inplace=True)\n"
   ]
  },
  {
   "cell_type": "code",
   "execution_count": 14,
   "metadata": {},
   "outputs": [
    {
     "data": {
      "text/html": [
       "<div>\n",
       "<style scoped>\n",
       "    .dataframe tbody tr th:only-of-type {\n",
       "        vertical-align: middle;\n",
       "    }\n",
       "\n",
       "    .dataframe tbody tr th {\n",
       "        vertical-align: top;\n",
       "    }\n",
       "\n",
       "    .dataframe thead th {\n",
       "        text-align: right;\n",
       "    }\n",
       "</style>\n",
       "<table border=\"1\" class=\"dataframe\">\n",
       "  <thead>\n",
       "    <tr style=\"text-align: right;\">\n",
       "      <th></th>\n",
       "      <th>duration</th>\n",
       "      <th>start_time</th>\n",
       "      <th>end_time</th>\n",
       "      <th>start_station</th>\n",
       "      <th>end_station</th>\n",
       "      <th>bike_id</th>\n",
       "      <th>passholder_type</th>\n",
       "      <th>bike_type</th>\n",
       "      <th>year</th>\n",
       "      <th>month</th>\n",
       "      <th>start_hour</th>\n",
       "      <th>day_of_week</th>\n",
       "    </tr>\n",
       "  </thead>\n",
       "  <tbody>\n",
       "    <tr>\n",
       "      <th>0</th>\n",
       "      <td>7.0</td>\n",
       "      <td>2019-04-01 00:02:00</td>\n",
       "      <td>2019-04-01 00:09:00</td>\n",
       "      <td>3069.0</td>\n",
       "      <td>3034.0</td>\n",
       "      <td>6459</td>\n",
       "      <td>Customer</td>\n",
       "      <td>standard</td>\n",
       "      <td>2019</td>\n",
       "      <td>4</td>\n",
       "      <td>0</td>\n",
       "      <td>Monday</td>\n",
       "    </tr>\n",
       "    <tr>\n",
       "      <th>1</th>\n",
       "      <td>12.0</td>\n",
       "      <td>2019-04-01 00:56:00</td>\n",
       "      <td>2019-04-01 01:08:00</td>\n",
       "      <td>3031.0</td>\n",
       "      <td>4311.0</td>\n",
       "      <td>12229</td>\n",
       "      <td>Subscriber</td>\n",
       "      <td>standard</td>\n",
       "      <td>2019</td>\n",
       "      <td>4</td>\n",
       "      <td>0</td>\n",
       "      <td>Monday</td>\n",
       "    </tr>\n",
       "    <tr>\n",
       "      <th>2</th>\n",
       "      <td>12.0</td>\n",
       "      <td>2019-04-01 01:06:00</td>\n",
       "      <td>2019-04-01 01:18:00</td>\n",
       "      <td>3038.0</td>\n",
       "      <td>3082.0</td>\n",
       "      <td>6422</td>\n",
       "      <td>Customer</td>\n",
       "      <td>standard</td>\n",
       "      <td>2019</td>\n",
       "      <td>4</td>\n",
       "      <td>1</td>\n",
       "      <td>Monday</td>\n",
       "    </tr>\n",
       "    <tr>\n",
       "      <th>3</th>\n",
       "      <td>48.0</td>\n",
       "      <td>2019-04-01 01:08:00</td>\n",
       "      <td>2019-04-01 01:56:00</td>\n",
       "      <td>3068.0</td>\n",
       "      <td>3005.0</td>\n",
       "      <td>12211</td>\n",
       "      <td>Subscriber</td>\n",
       "      <td>standard</td>\n",
       "      <td>2019</td>\n",
       "      <td>4</td>\n",
       "      <td>1</td>\n",
       "      <td>Monday</td>\n",
       "    </tr>\n",
       "    <tr>\n",
       "      <th>4</th>\n",
       "      <td>9.0</td>\n",
       "      <td>2019-04-01 01:09:00</td>\n",
       "      <td>2019-04-01 01:18:00</td>\n",
       "      <td>3038.0</td>\n",
       "      <td>3082.0</td>\n",
       "      <td>12005</td>\n",
       "      <td>Customer</td>\n",
       "      <td>standard</td>\n",
       "      <td>2019</td>\n",
       "      <td>4</td>\n",
       "      <td>1</td>\n",
       "      <td>Monday</td>\n",
       "    </tr>\n",
       "  </tbody>\n",
       "</table>\n",
       "</div>"
      ],
      "text/plain": [
       "   duration          start_time            end_time start_station end_station  \\\n",
       "0       7.0 2019-04-01 00:02:00 2019-04-01 00:09:00        3069.0      3034.0   \n",
       "1      12.0 2019-04-01 00:56:00 2019-04-01 01:08:00        3031.0      4311.0   \n",
       "2      12.0 2019-04-01 01:06:00 2019-04-01 01:18:00        3038.0      3082.0   \n",
       "3      48.0 2019-04-01 01:08:00 2019-04-01 01:56:00        3068.0      3005.0   \n",
       "4       9.0 2019-04-01 01:09:00 2019-04-01 01:18:00        3038.0      3082.0   \n",
       "\n",
       "  bike_id passholder_type bike_type  year  month  start_hour day_of_week  \n",
       "0    6459        Customer  standard  2019      4           0      Monday  \n",
       "1   12229      Subscriber  standard  2019      4           0      Monday  \n",
       "2    6422        Customer  standard  2019      4           1      Monday  \n",
       "3   12211      Subscriber  standard  2019      4           1      Monday  \n",
       "4   12005        Customer  standard  2019      4           1      Monday  "
      ]
     },
     "execution_count": 14,
     "metadata": {},
     "output_type": "execute_result"
    }
   ],
   "source": [
    "no_outliers_data.head()"
   ]
  },
  {
   "cell_type": "code",
   "execution_count": 15,
   "metadata": {},
   "outputs": [],
   "source": [
    "# Save cleaned data to a csv file to begin analysis\n",
    "cleaned_data = no_outliers_data\n",
    "cleaned_data.to_csv(\"201719LACleaned.csv\", index=False)"
   ]
  },
  {
   "cell_type": "markdown",
   "metadata": {},
   "source": [
    "#### Start of Data Analysis"
   ]
  },
  {
   "cell_type": "code",
   "execution_count": 3,
   "metadata": {
    "scrolled": true
   },
   "outputs": [
    {
     "name": "stderr",
     "output_type": "stream",
     "text": [
      "/Library/Frameworks/Python.framework/Versions/3.8/lib/python3.8/site-packages/IPython/core/interactiveshell.py:3062: DtypeWarning: Columns (5,7) have mixed types.Specify dtype option on import or set low_memory=False.\n",
      "  has_raised = await self.run_ast_nodes(code_ast.body, cell_name,\n"
     ]
    },
    {
     "data": {
      "text/html": [
       "<div>\n",
       "<style scoped>\n",
       "    .dataframe tbody tr th:only-of-type {\n",
       "        vertical-align: middle;\n",
       "    }\n",
       "\n",
       "    .dataframe tbody tr th {\n",
       "        vertical-align: top;\n",
       "    }\n",
       "\n",
       "    .dataframe thead th {\n",
       "        text-align: right;\n",
       "    }\n",
       "</style>\n",
       "<table border=\"1\" class=\"dataframe\">\n",
       "  <thead>\n",
       "    <tr style=\"text-align: right;\">\n",
       "      <th></th>\n",
       "      <th>duration</th>\n",
       "      <th>start_time</th>\n",
       "      <th>end_time</th>\n",
       "      <th>start_station</th>\n",
       "      <th>end_station</th>\n",
       "      <th>bike_id</th>\n",
       "      <th>passholder_type</th>\n",
       "      <th>bike_type</th>\n",
       "      <th>year</th>\n",
       "      <th>month</th>\n",
       "      <th>start_hour</th>\n",
       "      <th>day_of_week</th>\n",
       "    </tr>\n",
       "  </thead>\n",
       "  <tbody>\n",
       "    <tr>\n",
       "      <th>0</th>\n",
       "      <td>7.0</td>\n",
       "      <td>2019-04-01 00:02:00</td>\n",
       "      <td>2019-04-01 00:09:00</td>\n",
       "      <td>3069.0</td>\n",
       "      <td>3034.0</td>\n",
       "      <td>6459</td>\n",
       "      <td>Customer</td>\n",
       "      <td>standard</td>\n",
       "      <td>2019</td>\n",
       "      <td>4</td>\n",
       "      <td>0</td>\n",
       "      <td>Monday</td>\n",
       "    </tr>\n",
       "    <tr>\n",
       "      <th>1</th>\n",
       "      <td>12.0</td>\n",
       "      <td>2019-04-01 00:56:00</td>\n",
       "      <td>2019-04-01 01:08:00</td>\n",
       "      <td>3031.0</td>\n",
       "      <td>4311.0</td>\n",
       "      <td>12229</td>\n",
       "      <td>Subscriber</td>\n",
       "      <td>standard</td>\n",
       "      <td>2019</td>\n",
       "      <td>4</td>\n",
       "      <td>0</td>\n",
       "      <td>Monday</td>\n",
       "    </tr>\n",
       "    <tr>\n",
       "      <th>2</th>\n",
       "      <td>12.0</td>\n",
       "      <td>2019-04-01 01:06:00</td>\n",
       "      <td>2019-04-01 01:18:00</td>\n",
       "      <td>3038.0</td>\n",
       "      <td>3082.0</td>\n",
       "      <td>6422</td>\n",
       "      <td>Customer</td>\n",
       "      <td>standard</td>\n",
       "      <td>2019</td>\n",
       "      <td>4</td>\n",
       "      <td>1</td>\n",
       "      <td>Monday</td>\n",
       "    </tr>\n",
       "    <tr>\n",
       "      <th>3</th>\n",
       "      <td>48.0</td>\n",
       "      <td>2019-04-01 01:08:00</td>\n",
       "      <td>2019-04-01 01:56:00</td>\n",
       "      <td>3068.0</td>\n",
       "      <td>3005.0</td>\n",
       "      <td>12211</td>\n",
       "      <td>Subscriber</td>\n",
       "      <td>standard</td>\n",
       "      <td>2019</td>\n",
       "      <td>4</td>\n",
       "      <td>1</td>\n",
       "      <td>Monday</td>\n",
       "    </tr>\n",
       "    <tr>\n",
       "      <th>4</th>\n",
       "      <td>9.0</td>\n",
       "      <td>2019-04-01 01:09:00</td>\n",
       "      <td>2019-04-01 01:18:00</td>\n",
       "      <td>3038.0</td>\n",
       "      <td>3082.0</td>\n",
       "      <td>12005</td>\n",
       "      <td>Customer</td>\n",
       "      <td>standard</td>\n",
       "      <td>2019</td>\n",
       "      <td>4</td>\n",
       "      <td>1</td>\n",
       "      <td>Monday</td>\n",
       "    </tr>\n",
       "  </tbody>\n",
       "</table>\n",
       "</div>"
      ],
      "text/plain": [
       "   duration           start_time             end_time  start_station  \\\n",
       "0       7.0  2019-04-01 00:02:00  2019-04-01 00:09:00         3069.0   \n",
       "1      12.0  2019-04-01 00:56:00  2019-04-01 01:08:00         3031.0   \n",
       "2      12.0  2019-04-01 01:06:00  2019-04-01 01:18:00         3038.0   \n",
       "3      48.0  2019-04-01 01:08:00  2019-04-01 01:56:00         3068.0   \n",
       "4       9.0  2019-04-01 01:09:00  2019-04-01 01:18:00         3038.0   \n",
       "\n",
       "   end_station bike_id passholder_type bike_type  year  month  start_hour  \\\n",
       "0       3034.0    6459        Customer  standard  2019      4           0   \n",
       "1       4311.0   12229      Subscriber  standard  2019      4           0   \n",
       "2       3082.0    6422        Customer  standard  2019      4           1   \n",
       "3       3005.0   12211      Subscriber  standard  2019      4           1   \n",
       "4       3082.0   12005        Customer  standard  2019      4           1   \n",
       "\n",
       "  day_of_week  \n",
       "0      Monday  \n",
       "1      Monday  \n",
       "2      Monday  \n",
       "3      Monday  \n",
       "4      Monday  "
      ]
     },
     "execution_count": 3,
     "metadata": {},
     "output_type": "execute_result"
    }
   ],
   "source": [
    "data = pd.read_csv('201719LACleaned.csv')\n",
    "data.head()"
   ]
  },
  {
   "cell_type": "code",
   "execution_count": 45,
   "metadata": {},
   "outputs": [],
   "source": [
    "data['start_station']=data['start_station'].astype(str)"
   ]
  },
  {
   "cell_type": "code",
   "execution_count": 46,
   "metadata": {},
   "outputs": [],
   "source": [
    "data['end_station']=data['end_station'].astype(str)"
   ]
  },
  {
   "cell_type": "code",
   "execution_count": 17,
   "metadata": {},
   "outputs": [],
   "source": [
    "# Create dataframes for each year\n",
    "grouped = data.groupby(data['year'])\n",
    "df1 = grouped.get_group(2017)\n",
    "df2 = grouped.get_group(2018)\n",
    "df3 = grouped.get_group(2019)"
   ]
  },
  {
   "cell_type": "code",
   "execution_count": 18,
   "metadata": {},
   "outputs": [],
   "source": [
    "users = data['passholder_type'].value_counts().keys().to_list()\n",
    "count = data['passholder_type'].value_counts().to_list()"
   ]
  },
  {
   "cell_type": "code",
   "execution_count": 19,
   "metadata": {},
   "outputs": [
    {
     "data": {
      "image/png": "[encoded data removed]",
      "text/plain": [
       "<Figure size 432x288 with 1 Axes>"
      ]
     },
     "metadata": {},
     "output_type": "display_data"
    }
   ],
   "source": [
    "plt.pie(count, labels=users, colors = ['lightcoral', 'yellowgreen'], autopct='%1.1f%%')\n",
    "plt.title(\"Subscribership Ratio of Riders: LA 2017-19\")\n",
    "plt.show()"
   ]
  },
  {
   "cell_type": "code",
   "execution_count": 20,
   "metadata": {},
   "outputs": [
    {
     "data": {
      "image/png": "[encoded data removed]",
      "text/plain": [
       "<Figure size 432x288 with 1 Axes>"
      ]
     },
     "metadata": {},
     "output_type": "display_data"
    }
   ],
   "source": [
    "users_17 = df1['passholder_type'].value_counts().keys().to_list()\n",
    "count_17 = df1['passholder_type'].value_counts().to_list()\n",
    "plt.pie(count_17, labels=users_17, colors = ['lightcoral', 'yellowgreen'], autopct='%1.1f%%')\n",
    "plt.title(\"Subscribership Ratio of Riders: LA 2017\")\n",
    "plt.show()"
   ]
  },
  {
   "cell_type": "code",
   "execution_count": 21,
   "metadata": {},
   "outputs": [
    {
     "data": {
      "image/png": "[encoded data removed]",
      "text/plain": [
       "<Figure size 432x288 with 1 Axes>"
      ]
     },
     "metadata": {},
     "output_type": "display_data"
    }
   ],
   "source": [
    "users_18 = df2['passholder_type'].value_counts().keys().to_list()\n",
    "count_18 = df2['passholder_type'].value_counts().to_list()\n",
    "\n",
    "plt.pie(count_18, labels=users_18, colors = ['lightcoral', 'yellowgreen'], autopct='%1.1f%%')\n",
    "plt.title(\"Subscribership Ratio of Riders: LA 2018\")\n",
    "plt.show()"
   ]
  },
  {
   "cell_type": "code",
   "execution_count": 22,
   "metadata": {},
   "outputs": [
    {
     "data": {
      "image/png": "[encoded data removed]",
      "text/plain": [
       "<Figure size 432x288 with 1 Axes>"
      ]
     },
     "metadata": {},
     "output_type": "display_data"
    }
   ],
   "source": [
    "users_19 = df3['passholder_type'].value_counts().keys().to_list()\n",
    "count_19 = df3['passholder_type'].value_counts().to_list()\n",
    "\n",
    "plt.pie(count_19, labels=users_19, colors = ['lightcoral', 'yellowgreen'], autopct='%1.1f%%')\n",
    "plt.title(\"Subscribership Ratio of Riders: LA 2019\")\n",
    "plt.show()"
   ]
  },
  {
   "cell_type": "code",
   "execution_count": 23,
   "metadata": {},
   "outputs": [],
   "source": [
    "#track ridership per year\n",
    "years = data['year'].value_counts().keys().to_list()\n",
    "rides = data['year'].value_counts().to_list()"
   ]
  },
  {
   "cell_type": "code",
   "execution_count": 24,
   "metadata": {},
   "outputs": [
    {
     "data": {
      "image/png": "[encoded data removed]",
      "text/plain": [
       "<Figure size 432x288 with 1 Axes>"
      ]
     },
     "metadata": {
      "needs_background": "light"
     },
     "output_type": "display_data"
    }
   ],
   "source": [
    "plt.bar(years, rides)\n",
    "plt.xticks(years)\n",
    "plt.xlabel(\"Year\")\n",
    "plt.ylabel(\"# of rides\")\n",
    "plt.title(\"Number of Bike Rides per Year: LA 2017-19\")\n",
    "plt.show()"
   ]
  },
  {
   "cell_type": "code",
   "execution_count": 25,
   "metadata": {},
   "outputs": [],
   "source": [
    "num_bikes_year =[]\n",
    "num_bikes1 = len(df1['bike_id'].unique())\n",
    "num_bikes_year.append(num_bikes1)"
   ]
  },
  {
   "cell_type": "code",
   "execution_count": 26,
   "metadata": {},
   "outputs": [],
   "source": [
    "num_bikes2 = len(df2['bike_id'].unique())\n",
    "num_bikes_year.append(num_bikes2)"
   ]
  },
  {
   "cell_type": "code",
   "execution_count": 27,
   "metadata": {},
   "outputs": [],
   "source": [
    "num_bikes3 = len(df3['bike_id'].unique())\n",
    "num_bikes_year.append(num_bikes3)"
   ]
  },
  {
   "cell_type": "code",
   "execution_count": 28,
   "metadata": {},
   "outputs": [
    {
     "data": {
      "image/png": "[encoded data removed]",
      "text/plain": [
       "<Figure size 432x288 with 1 Axes>"
      ]
     },
     "metadata": {
      "needs_background": "light"
     },
     "output_type": "display_data"
    }
   ],
   "source": [
    "plt.bar([2017, 2018, 2019], num_bikes_year)\n",
    "plt.xticks([2017, 2018, 2019])\n",
    "plt.xlabel(\"Year\")\n",
    "plt.ylabel(\"# of Bikes\")\n",
    "plt.title(\"Number of Bikes in LA System 2017-19\")\n",
    "plt.show()"
   ]
  },
  {
   "cell_type": "code",
   "execution_count": 29,
   "metadata": {},
   "outputs": [],
   "source": [
    "#track rides by day of week over 3 year period\n",
    "days = data['day_of_week'].value_counts().keys().to_list()\n",
    "rides = data['day_of_week'].value_counts().to_list()\n",
    "#Hardcoded the sorting into order of the week\n",
    "days_sorted = ['Monday', 'Tuesday', 'Wednesday', 'Thursday', 'Friday', 'Saturday', 'Sunday']\n",
    "rides_sorted = [110760,117190,112315,115029,119837,105267,105321]"
   ]
  },
  {
   "cell_type": "code",
   "execution_count": 30,
   "metadata": {},
   "outputs": [
    {
     "data": {
      "image/png": "[encoded data removed]",
      "text/plain": [
       "<Figure size 432x288 with 1 Axes>"
      ]
     },
     "metadata": {
      "needs_background": "light"
     },
     "output_type": "display_data"
    }
   ],
   "source": [
    "plt.bar(days_sorted, rides_sorted)\n",
    "plt.xticks(days_sorted)\n",
    "plt.xlabel(\"Day of Week\")\n",
    "plt.ylabel(\"# of rides\")\n",
    "plt.title(\"Number of Bike Rides by Day of Week: LA 2017-19\")\n",
    "plt.show()"
   ]
  },
  {
   "cell_type": "code",
   "execution_count": 31,
   "metadata": {},
   "outputs": [],
   "source": [
    "#Make a data frame for weekdays and weekend\n",
    "mask = data['day_of_week'].isin(['Saturday','Sunday'])\n",
    "weekend_df=data[mask]\n",
    "weekday_df=data[~mask]"
   ]
  },
  {
   "cell_type": "code",
   "execution_count": 32,
   "metadata": {},
   "outputs": [],
   "source": [
    "weekend_hours = weekend_df['start_hour'].value_counts().keys().to_list()\n",
    "weekend_count = weekend_df['start_hour'].value_counts().to_list()"
   ]
  },
  {
   "cell_type": "code",
   "execution_count": 33,
   "metadata": {},
   "outputs": [
    {
     "data": {
      "image/png": "[encoded data removed]",
      "text/plain": [
       "<Figure size 432x288 with 1 Axes>"
      ]
     },
     "metadata": {
      "needs_background": "light"
     },
     "output_type": "display_data"
    }
   ],
   "source": [
    "plt.bar(weekend_hours, weekend_count)\n",
    "plt.xticks(weekend_hours)\n",
    "plt.xlabel(\"Hour of Day\")\n",
    "plt.ylabel(\"# of rides\")\n",
    "plt.title(\"Number of Bike Rides by Hour of Day on Weekend: LA 2017-19\")\n",
    "plt.show()"
   ]
  },
  {
   "cell_type": "code",
   "execution_count": 34,
   "metadata": {},
   "outputs": [],
   "source": [
    "weekday_hours = weekday_df['start_hour'].value_counts().keys().to_list()\n",
    "weekday_count = weekday_df['start_hour'].value_counts().to_list()"
   ]
  },
  {
   "cell_type": "code",
   "execution_count": 35,
   "metadata": {},
   "outputs": [
    {
     "data": {
      "image/png": "[encoded data removed]",
      "text/plain": [
       "<Figure size 432x288 with 1 Axes>"
      ]
     },
     "metadata": {
      "needs_background": "light"
     },
     "output_type": "display_data"
    }
   ],
   "source": [
    "plt.bar(weekday_hours, weekday_count)\n",
    "plt.xticks(weekday_hours)\n",
    "plt.xlabel(\"Hour of Day\")\n",
    "plt.ylabel(\"# of rides\")\n",
    "plt.title(\"Number of Bike Rides by Hour of Day During Week: LA 2017-19\")\n",
    "plt.show()"
   ]
  },
  {
   "cell_type": "code",
   "execution_count": 36,
   "metadata": {},
   "outputs": [],
   "source": [
    "weekend_dict = dict(zip(weekend_hours, weekend_count))\n",
    "weekend_keys = (list(weekend_dict.keys()))\n",
    "weekend_keys.sort()\n",
    "\n",
    "weekend_sorted={}\n",
    "for e in weekend_keys:\n",
    "    weekend_sorted[e]=weekend_dict[e]\n",
    "\n",
    "weekend_keys = list(weekend_sorted.keys())\n",
    "weekend_values = list(weekend_sorted.values())"
   ]
  },
  {
   "cell_type": "code",
   "execution_count": 37,
   "metadata": {},
   "outputs": [],
   "source": [
    "weekday_dict = dict(zip(weekday_hours, weekday_count))\n",
    "weekday_keys = (list(weekday_dict.keys()))\n",
    "weekday_keys.sort()\n",
    "\n",
    "weekday_sorted={}\n",
    "for e in weekday_keys:\n",
    "    weekday_sorted[e]=weekday_dict[e]\n",
    "\n",
    "weekday_keys = list(weekday_sorted.keys())\n",
    "weekday_values = list(weekday_sorted.values())"
   ]
  },
  {
   "cell_type": "code",
   "execution_count": 39,
   "metadata": {},
   "outputs": [
    {
     "data": {
      "image/png": "[encoded data removed]",
      "text/plain": [
       "<Figure size 432x288 with 1 Axes>"
      ]
     },
     "metadata": {
      "needs_background": "light"
     },
     "output_type": "display_data"
    }
   ],
   "source": [
    "x = np.arange(len(weekend_keys))\n",
    "ax = plt.subplot(111)\n",
    "ax.bar(x-0.2, weekend_values, width=0.4, color='r', align='center', label='Weekend')\n",
    "ax.bar(x+0.2, weekday_values, width=0.4, align='center', label='Weekday')\n",
    "plt.xticks(weekend_keys)\n",
    "plt.xlabel('Hour of Day')\n",
    "plt.ylabel('# of Rides')\n",
    "plt.title('Number of Rides by Hour: Weekend v. Day of Week: LA 2017-19')\n",
    "plt.legend(loc = 'best')\n",
    "plt.show()"
   ]
  },
  {
   "cell_type": "code",
   "execution_count": 40,
   "metadata": {},
   "outputs": [],
   "source": [
    "#track rides by month over 3 year period\n",
    "months = data['month'].value_counts().keys().to_list()\n",
    "num_riders = data['month'].value_counts().to_list()"
   ]
  },
  {
   "cell_type": "code",
   "execution_count": 41,
   "metadata": {},
   "outputs": [
    {
     "data": {
      "image/png": "[encoded data removed]",
      "text/plain": [
       "<Figure size 432x288 with 1 Axes>"
      ]
     },
     "metadata": {
      "needs_background": "light"
     },
     "output_type": "display_data"
    }
   ],
   "source": [
    "plt.bar(months, num_riders)\n",
    "plt.xticks(months)\n",
    "plt.xlabel(\"Month of Year\")\n",
    "plt.ylabel(\"# of rides\")\n",
    "plt.title(\"Number of Bike Rides by Month: LA 2017-19\")\n",
    "plt.show()"
   ]
  },
  {
   "cell_type": "code",
   "execution_count": 47,
   "metadata": {},
   "outputs": [],
   "source": [
    "#track most common and least common start stations over 3 year period\n",
    "start_stations = data['start_station'].value_counts().keys().to_list()\n",
    "num_start = data['start_station'].value_counts().to_list()\n",
    "\n",
    "start_dict = dict(zip(start_stations, num_start))"
   ]
  },
  {
   "cell_type": "code",
   "execution_count": 48,
   "metadata": {},
   "outputs": [
    {
     "data": {
      "image/png": "[encoded data removed]",
      "text/plain": [
       "<Figure size 432x288 with 1 Axes>"
      ]
     },
     "metadata": {
      "needs_background": "light"
     },
     "output_type": "display_data"
    }
   ],
   "source": [
    "plt.bar(start_stations[0:10], num_start[0:10])\n",
    "plt.xticks(start_stations[0:10], rotation='vertical', size=8)\n",
    "plt.xlabel(\"Start Station\")\n",
    "plt.ylabel(\"# of Rides\")\n",
    "plt.title(\"Most Popular Start Stations: LA 2017-19\")\n",
    "plt.show()"
   ]
  },
  {
   "cell_type": "code",
   "execution_count": 49,
   "metadata": {},
   "outputs": [
    {
     "data": {
      "image/png": "[encoded data removed]",
      "text/plain": [
       "<Figure size 432x288 with 1 Axes>"
      ]
     },
     "metadata": {
      "needs_background": "light"
     },
     "output_type": "display_data"
    }
   ],
   "source": [
    "plt.bar(start_stations[-10:], num_start[-10:])\n",
    "plt.xticks(start_stations[-10:], rotation='vertical', size=8)\n",
    "plt.xlabel(\"Start Station\")\n",
    "plt.ylabel(\"# of Rides\")\n",
    "plt.title(\"Least Popular Start Stations: LA 2017-19\")\n",
    "plt.show()"
   ]
  },
  {
   "cell_type": "code",
   "execution_count": 50,
   "metadata": {},
   "outputs": [],
   "source": [
    "#track most common and leas common end stations over 3 year period\n",
    "end_stations = data['end_station'].value_counts().keys().to_list()\n",
    "num_end = data['end_station'].value_counts().to_list()\n",
    "\n",
    "end_dict = dict(zip(end_stations, num_end))"
   ]
  },
  {
   "cell_type": "code",
   "execution_count": 51,
   "metadata": {},
   "outputs": [
    {
     "data": {
      "image/png": "[encoded data removed]",
      "text/plain": [
       "<Figure size 432x288 with 1 Axes>"
      ]
     },
     "metadata": {
      "needs_background": "light"
     },
     "output_type": "display_data"
    }
   ],
   "source": [
    "plt.bar(end_stations[0:10], num_end[0:10])\n",
    "plt.xticks(end_stations[0:10], rotation='vertical', size=8)\n",
    "plt.xlabel(\"End Station\")\n",
    "plt.ylabel(\"# of Rides\")\n",
    "plt.title(\"Most Popular End Stations: LA 2017-19\")\n",
    "plt.show()"
   ]
  },
  {
   "cell_type": "code",
   "execution_count": 52,
   "metadata": {},
   "outputs": [
    {
     "data": {
      "image/png": "[encoded data removed]",
      "text/plain": [
       "<Figure size 432x288 with 1 Axes>"
      ]
     },
     "metadata": {
      "needs_background": "light"
     },
     "output_type": "display_data"
    }
   ],
   "source": [
    "plt.bar(end_stations[-10:], num_end[-10:])\n",
    "plt.xticks(end_stations[-10:], rotation='vertical', size=8)\n",
    "plt.xlabel(\"End Station\")\n",
    "plt.ylabel(\"# of Rides\")\n",
    "plt.title(\"Least Popular End Stations: LA 2017-19\")\n",
    "plt.show()"
   ]
  },
  {
   "cell_type": "code",
   "execution_count": 53,
   "metadata": {},
   "outputs": [],
   "source": [
    "#combine start and end dicts and sort by value\n",
    "def combine(d1, d2):\n",
    "    new_dict=d1\n",
    "    for key in d2:\n",
    "        if key in new_dict:\n",
    "            new_dict[key] += d2[key]\n",
    "        else:\n",
    "            new_dict[key]=d2[key]\n",
    "    return new_dict\n",
    "\n",
    "#Sort overall dict by value in increasing order to identify top and bottom stations\n",
    "overall_dict = combine(start_dict, end_dict)\n",
    "overall_dict={k: v for k, v in sorted(overall_dict.items(), key=lambda item: item[1])}\n"
   ]
  },
  {
   "cell_type": "code",
   "execution_count": 54,
   "metadata": {},
   "outputs": [
    {
     "data": {
      "image/png": "[encoded data removed]",
      "text/plain": [
       "<Figure size 432x288 with 1 Axes>"
      ]
     },
     "metadata": {
      "needs_background": "light"
     },
     "output_type": "display_data"
    }
   ],
   "source": [
    "plt.bar((list(overall_dict.keys()))[-10:], (list(overall_dict.values()))[-10:])\n",
    "plt.xticks((list(overall_dict.keys()))[-10:], rotation='vertical', size=8)\n",
    "plt.xlabel(\"Station\")\n",
    "plt.ylabel(\"# of Rides\")\n",
    "plt.title(\"Most Used Stations Overall: LA 2017-19\")\n",
    "plt.show()\n"
   ]
  },
  {
   "cell_type": "code",
   "execution_count": 55,
   "metadata": {},
   "outputs": [
    {
     "data": {
      "image/png": "[encoded data removed]",
      "text/plain": [
       "<Figure size 432x288 with 1 Axes>"
      ]
     },
     "metadata": {
      "needs_background": "light"
     },
     "output_type": "display_data"
    }
   ],
   "source": [
    "plt.bar((list(overall_dict.keys()))[0:10], (list(overall_dict.values()))[0:10])\n",
    "plt.xticks((list(overall_dict.keys()))[0:10], rotation='vertical', size=8)\n",
    "plt.xlabel(\"Station\")\n",
    "plt.ylabel(\"# of Rides\")\n",
    "plt.title(\"Least Used Stations Overall: LA 2017-19\")\n",
    "plt.show()"
   ]
  },
  {
   "cell_type": "code",
   "execution_count": 56,
   "metadata": {},
   "outputs": [],
   "source": [
    "#How does the number of stations change?\n",
    "num_stations=[]\n",
    "stations_2017 = len(list(pd.concat([df1['start_station'], df1['end_station']]).unique()))\n",
    "num_stations.append(stations_2017)"
   ]
  },
  {
   "cell_type": "code",
   "execution_count": 57,
   "metadata": {},
   "outputs": [],
   "source": [
    "stations_2018 = len(list(pd.concat([df2['start_station'], df2['end_station']]).unique()))\n",
    "num_stations.append(stations_2018)"
   ]
  },
  {
   "cell_type": "code",
   "execution_count": 58,
   "metadata": {},
   "outputs": [],
   "source": [
    "stations_2019 = len(list(pd.concat([df3['start_station'], df3['end_station']]).unique()))\n",
    "num_stations.append(stations_2019)"
   ]
  },
  {
   "cell_type": "code",
   "execution_count": 59,
   "metadata": {},
   "outputs": [
    {
     "data": {
      "image/png": "[encoded data removed]",
      "text/plain": [
       "<Figure size 432x288 with 1 Axes>"
      ]
     },
     "metadata": {
      "needs_background": "light"
     },
     "output_type": "display_data"
    }
   ],
   "source": [
    "plt.bar([2017,2018,2019], num_stations)\n",
    "plt.xticks([2017,2018,2019])\n",
    "plt.xlabel(\"Year\")\n",
    "plt.ylabel(\"# of Stations\")\n",
    "plt.title(\"Number of Stations per Year: LA 2017-19\")\n",
    "plt.show()"
   ]
  },
  {
   "cell_type": "code",
   "execution_count": 60,
   "metadata": {},
   "outputs": [
    {
     "data": {
      "text/plain": [
       "count    785719.000000\n",
       "mean         21.628853\n",
       "std          29.736031\n",
       "min           1.000000\n",
       "25%           6.000000\n",
       "50%          12.000000\n",
       "75%          23.000000\n",
       "max         239.000000\n",
       "Name: duration, dtype: float64"
      ]
     },
     "execution_count": 60,
     "metadata": {},
     "output_type": "execute_result"
    }
   ],
   "source": [
    "#determine tripduration statistics (min, max, average, std, etc.)\n",
    "data['duration'].describe()"
   ]
  },
  {
   "cell_type": "code",
   "execution_count": 61,
   "metadata": {},
   "outputs": [
    {
     "data": {
      "image/png": "[encoded data removed]",
      "text/plain": [
       "<Figure size 432x288 with 1 Axes>"
      ]
     },
     "metadata": {
      "needs_background": "light"
     },
     "output_type": "display_data"
    }
   ],
   "source": [
    "times = data['duration']\n",
    "times.plot.hist(grid=True, bins=240, rwidth=0.9)\n",
    "plt.title('Trip Duration of all Rides: LA 2017-19')\n",
    "plt.xlabel('Duration (min)')\n",
    "plt.ylabel('# of Rides')\n",
    "ticks=[]\n",
    "for i in range(250):\n",
    "    if i%10==0:\n",
    "        ticks.append(i)\n",
    "plt.xticks(ticks, rotation='vertical', size=8)\n",
    "\n",
    "plt.grid(axis='y', alpha=0.75)"
   ]
  },
  {
   "cell_type": "code",
   "execution_count": 62,
   "metadata": {},
   "outputs": [
    {
     "data": {
      "image/png": "[encoded data removed]",
      "text/plain": [
       "<Figure size 432x288 with 2 Axes>"
      ]
     },
     "metadata": {
      "needs_background": "light"
     },
     "output_type": "display_data"
    }
   ],
   "source": [
    "#Box plot and Dist plot with mean and median lines\n",
    "f, (ax_box, ax_hist) = plt.subplots(2, sharex=True, gridspec_kw= {\"height_ratios\": (0.2, 1)})\n",
    "mean=data['duration'].mean()\n",
    "median=data['duration'].median()\n",
    "\n",
    "sns.boxplot(data['duration'], ax=ax_box)\n",
    "ax_box.axvline(mean, color='r', linestyle='--')\n",
    "ax_box.axvline(median, color='g', linestyle='-')\n",
    "\n",
    "sns.distplot(data['duration'], ax=ax_hist)\n",
    "ax_hist.axvline(mean, color='r', linestyle='--')\n",
    "ax_hist.axvline(median, color='g', linestyle='-')\n",
    "\n",
    "plt.legend({'Mean':mean,'Median':median})\n",
    "\n",
    "ax_box.set(xlabel='')\n",
    "plt.show()"
   ]
  },
  {
   "cell_type": "code",
   "execution_count": 63,
   "metadata": {},
   "outputs": [],
   "source": [
    "#Subcriber v Customer Rides\n",
    "grouped_user = data.groupby(data['passholder_type'])\n",
    "df_sub = grouped_user.get_group('Subscriber')\n",
    "df_cust = grouped_user.get_group('Customer')"
   ]
  },
  {
   "cell_type": "code",
   "execution_count": 64,
   "metadata": {},
   "outputs": [
    {
     "data": {
      "text/plain": [
       "count    481126.000000\n",
       "mean         12.629581\n",
       "std          17.446118\n",
       "min           1.000000\n",
       "25%           5.000000\n",
       "50%           8.000000\n",
       "75%          15.000000\n",
       "max         239.000000\n",
       "Name: duration, dtype: float64"
      ]
     },
     "execution_count": 64,
     "metadata": {},
     "output_type": "execute_result"
    }
   ],
   "source": [
    "df_sub['duration'].describe()"
   ]
  },
  {
   "cell_type": "code",
   "execution_count": 65,
   "metadata": {},
   "outputs": [
    {
     "data": {
      "image/png": "[encoded data removed]",
      "text/plain": [
       "<Figure size 432x288 with 1 Axes>"
      ]
     },
     "metadata": {
      "needs_background": "light"
     },
     "output_type": "display_data"
    }
   ],
   "source": [
    "sub_times = df_sub['duration']\n",
    "sub_times.plot.hist(grid=True, bins=240, rwidth=0.9)\n",
    "plt.title('Trip Duration of Subscriber Rides: LA 2017-19')\n",
    "plt.xlabel('Duration (min)')\n",
    "plt.ylabel('# of Rides')\n",
    "ticks=[]\n",
    "for i in range(250):\n",
    "    if i%10==0:\n",
    "        ticks.append(i)\n",
    "plt.xticks(ticks, rotation='vertical', size=8)\n",
    "\n",
    "plt.grid(axis='y', alpha=0.75)"
   ]
  },
  {
   "cell_type": "code",
   "execution_count": 66,
   "metadata": {},
   "outputs": [
    {
     "data": {
      "image/png": "[encoded data removed]",
      "text/plain": [
       "<Figure size 432x288 with 2 Axes>"
      ]
     },
     "metadata": {
      "needs_background": "light"
     },
     "output_type": "display_data"
    }
   ],
   "source": [
    "#Box plot and Dist plot with mean and median lines\n",
    "f, (ax_box, ax_hist) = plt.subplots(2, sharex=True, gridspec_kw= {\"height_ratios\": (0.2, 1)})\n",
    "mean=df_sub['duration'].mean()\n",
    "median=df_sub['duration'].median()\n",
    "\n",
    "sns.boxplot(df_sub['duration'], ax=ax_box)\n",
    "ax_box.axvline(mean, color='r', linestyle='--')\n",
    "ax_box.axvline(median, color='g', linestyle='-')\n",
    "\n",
    "sns.distplot(df_sub['duration'], ax=ax_hist)\n",
    "ax_hist.axvline(mean, color='r', linestyle='--')\n",
    "ax_hist.axvline(median, color='g', linestyle='-')\n",
    "\n",
    "plt.legend({'Mean':mean,'Median':median})\n",
    "\n",
    "ax_box.set(xlabel='')\n",
    "plt.show()"
   ]
  },
  {
   "cell_type": "code",
   "execution_count": 67,
   "metadata": {},
   "outputs": [
    {
     "data": {
      "text/plain": [
       "count    304593.000000\n",
       "mean         35.843834\n",
       "std          38.342939\n",
       "min           1.000000\n",
       "25%          11.000000\n",
       "50%          23.000000\n",
       "75%          45.000000\n",
       "max         239.000000\n",
       "Name: duration, dtype: float64"
      ]
     },
     "execution_count": 67,
     "metadata": {},
     "output_type": "execute_result"
    }
   ],
   "source": [
    "df_cust['duration'].describe()"
   ]
  },
  {
   "cell_type": "code",
   "execution_count": 68,
   "metadata": {},
   "outputs": [
    {
     "data": {
      "image/png": "[encoded data removed]",
      "text/plain": [
       "<Figure size 432x288 with 1 Axes>"
      ]
     },
     "metadata": {
      "needs_background": "light"
     },
     "output_type": "display_data"
    }
   ],
   "source": [
    "cust_times = df_cust['duration']\n",
    "cust_times.plot.hist(grid=True, bins=240, rwidth=0.9)\n",
    "plt.title('Trip Duration of Customer Rides: Philadelphia 2017-19')\n",
    "plt.xlabel('Duration (min)')\n",
    "plt.ylabel('# of Rides')\n",
    "ticks=[]\n",
    "for i in range(250):\n",
    "    if i%10==0:\n",
    "        ticks.append(i)\n",
    "plt.xticks(ticks, rotation='vertical', size=8)\n",
    "\n",
    "plt.grid(axis='y', alpha=0.75)"
   ]
  },
  {
   "cell_type": "code",
   "execution_count": 69,
   "metadata": {},
   "outputs": [
    {
     "data": {
      "image/png": "[encoded data removed]",
      "text/plain": [
       "<Figure size 432x288 with 2 Axes>"
      ]
     },
     "metadata": {
      "needs_background": "light"
     },
     "output_type": "display_data"
    }
   ],
   "source": [
    "#Box plot and Dist plot with mean and median lines\n",
    "f, (ax_box, ax_hist) = plt.subplots(2, sharex=True, gridspec_kw= {\"height_ratios\": (0.2, 1)})\n",
    "mean=df_cust['duration'].mean()\n",
    "median=df_cust['duration'].median()\n",
    "\n",
    "sns.boxplot(df_cust['duration'], ax=ax_box)\n",
    "ax_box.axvline(mean, color='r', linestyle='--')\n",
    "ax_box.axvline(median, color='g', linestyle='-')\n",
    "\n",
    "sns.distplot(df_cust['duration'], ax=ax_hist)\n",
    "ax_hist.axvline(mean, color='r', linestyle='--')\n",
    "ax_hist.axvline(median, color='g', linestyle='-')\n",
    "\n",
    "plt.legend({'Mean':mean,'Median':median})\n",
    "\n",
    "ax_box.set(xlabel='')\n",
    "plt.show()"
   ]
  },
  {
   "cell_type": "code",
   "execution_count": 70,
   "metadata": {},
   "outputs": [
    {
     "data": {
      "text/plain": [
       "count    210588.000000\n",
       "mean         29.409905\n",
       "std          36.094353\n",
       "min           1.000000\n",
       "25%           9.000000\n",
       "50%          17.000000\n",
       "75%          33.000000\n",
       "max         239.000000\n",
       "Name: duration, dtype: float64"
      ]
     },
     "execution_count": 70,
     "metadata": {},
     "output_type": "execute_result"
    }
   ],
   "source": [
    "weekend_df['duration'].describe()"
   ]
  },
  {
   "cell_type": "code",
   "execution_count": 71,
   "metadata": {},
   "outputs": [
    {
     "data": {
      "image/png": "[encoded data removed]",
      "text/plain": [
       "<Figure size 432x288 with 1 Axes>"
      ]
     },
     "metadata": {
      "needs_background": "light"
     },
     "output_type": "display_data"
    }
   ],
   "source": [
    "weekend_times = weekend_df['duration']\n",
    "weekend_times.plot.hist(grid=True, bins=240, rwidth=0.9)\n",
    "plt.title('Trip Duration of Weekend Rides: LA 2017-19')\n",
    "plt.xlabel('Duration (min)')\n",
    "plt.ylabel('# of Rides')\n",
    "ticks=[]\n",
    "for i in range(250):\n",
    "    if i%10==0:\n",
    "        ticks.append(i)\n",
    "plt.xticks(ticks, rotation='vertical', size=8)\n",
    "\n",
    "plt.grid(axis='y', alpha=0.75)"
   ]
  },
  {
   "cell_type": "code",
   "execution_count": 72,
   "metadata": {},
   "outputs": [
    {
     "data": {
      "text/plain": [
       "count    575131.000000\n",
       "mean         18.779770\n",
       "std          26.470453\n",
       "min           1.000000\n",
       "25%           6.000000\n",
       "50%          10.000000\n",
       "75%          20.000000\n",
       "max         239.000000\n",
       "Name: duration, dtype: float64"
      ]
     },
     "execution_count": 72,
     "metadata": {},
     "output_type": "execute_result"
    }
   ],
   "source": [
    "weekday_df['duration'].describe()"
   ]
  },
  {
   "cell_type": "code",
   "execution_count": 74,
   "metadata": {},
   "outputs": [
    {
     "data": {
      "image/png": "[encoded data removed]",
      "text/plain": [
       "<Figure size 432x288 with 1 Axes>"
      ]
     },
     "metadata": {
      "needs_background": "light"
     },
     "output_type": "display_data"
    }
   ],
   "source": [
    "weekday_times = weekday_df['duration']\n",
    "weekday_times.plot.hist(grid=True, bins=240, rwidth=0.9)\n",
    "plt.title('Trip Duration of Weekday Rides: LA 2017-19')\n",
    "plt.xlabel('Duration (min)')\n",
    "plt.ylabel('# of Rides')\n",
    "ticks=[]\n",
    "for i in range(250):\n",
    "    if i%10==0:\n",
    "        ticks.append(i)\n",
    "plt.xticks(ticks, rotation='vertical', size=8)\n",
    "\n",
    "plt.grid(axis='y', alpha=0.75)"
   ]
  },
  {
   "cell_type": "code",
   "execution_count": null,
   "metadata": {},
   "outputs": [],
   "source": []
  }
 ],
 "metadata": {
  "kernelspec": {
   "display_name": "Python 3",
   "language": "python",
   "name": "python3"
  },
  "language_info": {
   "codemirror_mode": {
    "name": "ipython",
    "version": 3
   },
   "file_extension": ".py",
   "mimetype": "text/x-python",
   "name": "python",
   "nbconvert_exporter": "python",
   "pygments_lexer": "ipython3",
   "version": "3.8.3rc1"
  }
 },
 "nbformat": 4,
 "nbformat_minor": 4
}
