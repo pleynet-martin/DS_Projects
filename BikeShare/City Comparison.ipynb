{
 "cells": [
  {
   "cell_type": "code",
   "execution_count": 1,
   "metadata": {},
   "outputs": [],
   "source": [
    "import pandas as pd\n",
    "import matplotlib.pyplot as plt\n",
    "import numpy as np"
   ]
  },
  {
   "cell_type": "markdown",
   "metadata": {},
   "source": [
    "#### Total Number of Rides"
   ]
  },
  {
   "cell_type": "code",
   "execution_count": 2,
   "metadata": {},
   "outputs": [],
   "source": [
    "bos_rides =  [1309876, 1762492, 2516146]\n",
    "chi_rides = [3824761, 3595760, 3809084]\n",
    "dc_rides = [3748822, 3533594, 3390111]\n",
    "la_rides = [194786, 304975,285958]\n",
    "minn_rides = [457206, 408412, 353704]\n",
    "nyc_rides = [16344391, 17528749, 20528154]\n",
    "philly_rides = [681690, 666537, 737669]\n",
    "pitt_rides = [68330, 72218, 107085]\n",
    "port_rides = [309837, 394561, 321450]"
   ]
  },
  {
   "cell_type": "markdown",
   "metadata": {},
   "source": [
    "#### Number of Bikes"
   ]
  },
  {
   "cell_type": "code",
   "execution_count": 25,
   "metadata": {},
   "outputs": [],
   "source": [
    "bos_bikes = [1799, 4045, 4650]\n",
    "chi_bikes = [6242, 6133, 6017]\n",
    "dc_bikes = [4652, 5387, 6053]\n",
    "la_bikes = [2130, 1443, 5028]\n",
    "minn_bikes = [0, 2928, 2968] #no bike id in 2017\n",
    "nyc_bikes = [14201, 15241, 19569]\n",
    "philly_bikes = [1248, 3114, 1677]\n",
    "pitt_bikes = [479, 613, 545]\n",
    "port_bikes = [992, 1020, 1006]"
   ]
  },
  {
   "cell_type": "markdown",
   "metadata": {},
   "source": [
    "#### Number of Stations"
   ]
  },
  {
   "cell_type": "code",
   "execution_count": 4,
   "metadata": {},
   "outputs": [],
   "source": [
    "bos_stat = [287, 336, 357]\n",
    "chi_stat =[593, 623, 641]\n",
    "dc_stat = [487, 542, 651]\n",
    "la_stat = [127, 132, 237]\n",
    "minn_stat = [202, 205, 181]\n",
    "nyc_stat = [857, 850, 973]\n",
    "philly_stat = [126, 141, 148]\n",
    "pitt_stat = [59, 871, 859]\n",
    "port_stat = [144, 171, 163]"
   ]
  },
  {
   "cell_type": "markdown",
   "metadata": {},
   "source": [
    "#### City Populations"
   ]
  },
  {
   "cell_type": "code",
   "execution_count": 5,
   "metadata": {},
   "outputs": [],
   "source": [
    "#(source: https://www.census.gov/data/tables/time-series/demo/popest/2010s-total-cities-and-towns.html)\n",
    "bos_pop = [687788, 691147, 692600]\n",
    "chi_pop = [2711069, 2701423, 2693976]\n",
    "dc_pop = [694906, 701547, 705749]\n",
    "la_pop = [3975788, 3977596, 3979576]\n",
    "minn_pop = [420925, 424903, 429606]\n",
    "nyc_pop = [8437478, 8390081, 8336817]\n",
    "philly_pop = [1580601, 1583592, 1584064]\n",
    "pitt_pop = [301494, 300570, 300286]\n",
    "port_pop = [647924, 650837, 654741]"
   ]
  },
  {
   "cell_type": "markdown",
   "metadata": {},
   "source": [
    "#### City Land Area"
   ]
  },
  {
   "cell_type": "code",
   "execution_count": 14,
   "metadata": {},
   "outputs": [],
   "source": [
    "# Source: Wikipedia\n",
    "bos_area = 48.42\n",
    "chi_area = 227.63\n",
    "dc_area = 61.05\n",
    "la_area = 468.97\n",
    "minn_area = 54.00\n",
    "nyc_area = 302.643\n",
    "philly_area = 134.28\n",
    "pitt_area = 55.38\n",
    "port_area = 133.42"
   ]
  },
  {
   "cell_type": "code",
   "execution_count": 15,
   "metadata": {},
   "outputs": [],
   "source": [
    "cities = ['Bos', 'Chi', 'DC','LA', 'Minn', 'NYC', 'Philly', 'Pitt', 'Port']"
   ]
  },
  {
   "cell_type": "markdown",
   "metadata": {},
   "source": [
    "# City Metrics"
   ]
  },
  {
   "cell_type": "markdown",
   "metadata": {},
   "source": [
    "#### Bikes per Thousand People"
   ]
  },
  {
   "cell_type": "code",
   "execution_count": 16,
   "metadata": {},
   "outputs": [],
   "source": [
    "bos_bpt = [i*1000/j for i, j in zip(bos_bikes, bos_pop)]\n",
    "chi_bpt = [i*1000/j for i, j in zip(chi_bikes, chi_pop)]\n",
    "dc_bpt = [i*1000/j for i, j in zip(dc_bikes, dc_pop)]\n",
    "la_bpt = [i*1000/j for i, j in zip(la_bikes, la_pop)]\n",
    "minn_bpt = [i*1000/j for i, j in zip(minn_bikes, minn_pop)]\n",
    "nyc_bpt = [i*1000/j for i, j in zip(nyc_bikes, nyc_pop)]\n",
    "philly_bpt = [i*1000/j for i, j in zip(philly_bikes, philly_pop)]\n",
    "pitt_bpt = [i*1000/j for i, j in zip(pitt_bikes, pitt_pop)]\n",
    "port_bpt = [i*1000/j for i, j in zip(port_bikes, port_pop)]"
   ]
  },
  {
   "cell_type": "code",
   "execution_count": 17,
   "metadata": {},
   "outputs": [],
   "source": [
    "all_bpt = [bos_bpt,chi_bpt, dc_bpt, la_bpt, minn_bpt, nyc_bpt, philly_bpt, pitt_bpt, port_bpt]"
   ]
  },
  {
   "cell_type": "code",
   "execution_count": 18,
   "metadata": {},
   "outputs": [],
   "source": [
    "bpt_2017 = []\n",
    "bpt_2018 = []\n",
    "bpt_2019 = []\n",
    "for city in all_bpt:\n",
    "    bpt_2017.append(city[0])\n",
    "    bpt_2018.append(city[1])\n",
    "    bpt_2019.append(city[2])\n"
   ]
  },
  {
   "cell_type": "code",
   "execution_count": 19,
   "metadata": {
    "scrolled": true
   },
   "outputs": [
    {
     "data": {
      "image/png": "[encoded data removed]",
      "text/plain": [
       "<Figure size 432x288 with 1 Axes>"
      ]
     },
     "metadata": {
      "needs_background": "light"
     },
     "output_type": "display_data"
    }
   ],
   "source": [
    "# BIKES PER THOUSAND PEOPLE\n",
    "def subcategorybar(X, vals, width=0.8):\n",
    "    n = len(vals)\n",
    "    _X = np.arange(len(X))\n",
    "    for i in range(n):\n",
    "        plt.bar(_X - width/2. + i/float(n)*width, vals[i], \n",
    "                width=width/float(n), align=\"edge\")   \n",
    "    plt.xticks(_X, X)\n",
    "    plt.title(\"Bikes per Thousand People City Comparison\")\n",
    "    plt.ylabel('Bikes per Thousand People')\n",
    "    plt.xlabel('City')\n",
    "    plt.legend([2017, 2018, 2019])\n",
    "    \n",
    "subcategorybar(cities, [bpt_2017,bpt_2018,bpt_2019])\n",
    "\n",
    "plt.show()"
   ]
  },
  {
   "cell_type": "markdown",
   "metadata": {},
   "source": [
    "#### Stations per Square Mile"
   ]
  },
  {
   "cell_type": "code",
   "execution_count": 30,
   "metadata": {},
   "outputs": [],
   "source": [
    "# Stations per square mile\n",
    "bos_sps = [x/bos_area for x in bos_stat]\n",
    "chi_sps = [x/chi_area for x in chi_stat]\n",
    "dc_sps = [x/dc_area for x in dc_stat]\n",
    "la_sps = [x/la_area for x in la_stat]\n",
    "minn_sps = [x/minn_area for x in minn_stat]\n",
    "nyc_sps = [x/nyc_area for x in nyc_stat]\n",
    "philly_sps = [x/philly_area for x in philly_stat]\n",
    "pitt_sps = [x/pitt_area for x in pitt_stat]\n",
    "port_sps = [x/port_area for x in port_stat]"
   ]
  },
  {
   "cell_type": "code",
   "execution_count": 31,
   "metadata": {},
   "outputs": [],
   "source": [
    "all_sps = [bos_sps,chi_sps, dc_sps, la_sps, minn_sps, nyc_sps, philly_sps, pitt_sps, port_sps]"
   ]
  },
  {
   "cell_type": "code",
   "execution_count": 32,
   "metadata": {},
   "outputs": [],
   "source": [
    "sps_2017 = []\n",
    "sps_2018 = []\n",
    "sps_2019 = []\n",
    "for city in all_sps:\n",
    "    sps_2017.append(city[0])\n",
    "    sps_2018.append(city[1])\n",
    "    sps_2019.append(city[2])"
   ]
  },
  {
   "cell_type": "code",
   "execution_count": 33,
   "metadata": {
    "scrolled": true
   },
   "outputs": [
    {
     "data": {
      "image/png": "[encoded data removed]",
      "text/plain": [
       "<Figure size 432x288 with 1 Axes>"
      ]
     },
     "metadata": {
      "needs_background": "light"
     },
     "output_type": "display_data"
    }
   ],
   "source": [
    "# STATIONS PER SQUARE MILE\n",
    "def subcategorybar(X, vals, width=0.8):\n",
    "    n = len(vals)\n",
    "    _X = np.arange(len(X))\n",
    "    for i in range(n):\n",
    "        plt.bar(_X - width/2. + i/float(n)*width, vals[i], \n",
    "                width=width/float(n), align=\"edge\")   \n",
    "    plt.xticks(_X, X)\n",
    "    plt.title(\"Stations per Square Mile City Comparison\")\n",
    "    plt.ylabel('# Stations per Square Mile')\n",
    "    plt.xlabel('City')\n",
    "    plt.legend([2017, 2018, 2019])\n",
    "    \n",
    "subcategorybar(cities, [sps_2017,sps_2018,sps_2019])\n",
    "\n",
    "plt.show()"
   ]
  },
  {
   "cell_type": "markdown",
   "metadata": {},
   "source": [
    "#### Trips per Bicycle per Day"
   ]
  },
  {
   "cell_type": "code",
   "execution_count": 34,
   "metadata": {},
   "outputs": [],
   "source": [
    "# Trips per bicylce per day\n",
    "bos_tpb = [i/(j*365) for i, j in zip(bos_rides, bos_bikes)]\n",
    "chi_tpb = [i/(j*365) for i, j in zip(chi_rides, chi_bikes)]\n",
    "dc_tpb = [i/(j*365) for i, j in zip(dc_rides, dc_bikes)]\n",
    "la_tpb = [i/(j*365) for i, j in zip(la_rides, la_bikes)]\n",
    "minn_tpb = [i/(j*365) for i, j in zip(minn_rides, minn_bikes)]\n",
    "nyc_tpb = [i/(j*365) for i, j in zip(nyc_rides, nyc_bikes)]\n",
    "philly_tpb = [i/(j*365) for i, j in zip(philly_rides, philly_bikes)]\n",
    "pitt_tpb = [i/(j*365) for i, j in zip(pitt_rides, pitt_bikes)]\n",
    "port_tpb = [i/(j*365) for i, j in zip(port_rides, port_bikes)]"
   ]
  },
  {
   "cell_type": "code",
   "execution_count": 35,
   "metadata": {},
   "outputs": [],
   "source": [
    "all_tpb = [bos_tpb, chi_tpb, dc_tpb, la_tpb, minn_tpb, nyc_tpb, philly_tpb, pitt_tpb, port_tpb]"
   ]
  },
  {
   "cell_type": "code",
   "execution_count": 36,
   "metadata": {},
   "outputs": [],
   "source": [
    "tpb_2017 = []\n",
    "tpb_2018 = []\n",
    "tpb_2019 = []\n",
    "for city in all_tpb:\n",
    "    tpb_2017.append(city[0])\n",
    "    tpb_2018.append(city[1])\n",
    "    tpb_2019.append(city[2])"
   ]
  },
  {
   "cell_type": "code",
   "execution_count": 37,
   "metadata": {},
   "outputs": [
    {
     "data": {
      "image/png": "[encoded data removed]",
      "text/plain": [
       "<Figure size 432x288 with 1 Axes>"
      ]
     },
     "metadata": {
      "needs_background": "light"
     },
     "output_type": "display_data"
    }
   ],
   "source": [
    "def subcategorybar(X, vals, width=0.8):\n",
    "    n = len(vals)\n",
    "    _X = np.arange(len(X))\n",
    "    for i in range(n):\n",
    "        plt.bar(_X - width/2. + i/float(n)*width, vals[i], \n",
    "                width=width/float(n), align=\"edge\")   \n",
    "    plt.xticks(_X, X)\n",
    "    plt.title(\"Trips per Bike Per Day City Comparison\")\n",
    "    plt.ylabel('Trips per Bike Per Day')\n",
    "    plt.xlabel('City')\n",
    "    plt.legend([2017, 2018, 2019])\n",
    "    \n",
    "subcategorybar(cities, [tpb_2017,tpb_2018,tpb_2019])\n",
    "\n",
    "plt.show()"
   ]
  },
  {
   "cell_type": "markdown",
   "metadata": {},
   "source": [
    "#### Trip Duration"
   ]
  },
  {
   "cell_type": "code",
   "execution_count": 38,
   "metadata": {},
   "outputs": [],
   "source": [
    "# Tripduration [mean, median]\n",
    "bos_td = [16.13151, 11.48333]\n",
    "chi_td = [16.87597, 11.46667]\n",
    "dc_td = [17.50125, 11.56667]\n",
    "la_td = [21.628853, 12.000000]\n",
    "minn_td = [20.73058, 13.03333]\n",
    "nyc_td = [16.44229, 10.23333]\n",
    "philly_td = [17.66316, 11.00000]\n",
    "pitt_td = [30.658097, 16.116667]\n",
    "port_td = [22.30522, 13.20000]"
   ]
  },
  {
   "cell_type": "code",
   "execution_count": 39,
   "metadata": {},
   "outputs": [],
   "source": [
    "all_td = [bos_td, chi_td, dc_td, la_td, minn_td, nyc_td, philly_td, pitt_td, port_td]"
   ]
  },
  {
   "cell_type": "code",
   "execution_count": 40,
   "metadata": {},
   "outputs": [],
   "source": [
    "td_mean = []\n",
    "td_median = []\n",
    "for city in all_td:\n",
    "    td_mean.append(city[0])\n",
    "    td_median.append(city[1])"
   ]
  },
  {
   "cell_type": "code",
   "execution_count": 41,
   "metadata": {},
   "outputs": [
    {
     "data": {
      "image/png": "[encoded data removed]",
      "text/plain": [
       "<Figure size 432x288 with 1 Axes>"
      ]
     },
     "metadata": {
      "needs_background": "light"
     },
     "output_type": "display_data"
    }
   ],
   "source": [
    "def subcategorybar(X, vals, width=0.8):\n",
    "    n = len(vals)\n",
    "    _X = np.arange(len(X))\n",
    "    for i in range(n):\n",
    "        plt.bar(_X - width/2. + i/float(n)*width, vals[i], \n",
    "                width=width/float(n), align=\"edge\")   \n",
    "    plt.xticks(_X, X)\n",
    "    plt.title(\"Ride Trip Duration City Comparison\")\n",
    "    plt.ylabel('Duration (min)')\n",
    "    plt.xlabel('City')\n",
    "    plt.legend(['Mean', 'Median'])\n",
    "    \n",
    "subcategorybar(cities, [td_mean, td_median])\n",
    "\n",
    "plt.show()"
   ]
  },
  {
   "cell_type": "markdown",
   "metadata": {},
   "source": [
    "#### Subscribership"
   ]
  },
  {
   "cell_type": "code",
   "execution_count": 42,
   "metadata": {},
   "outputs": [],
   "source": [
    "#Subscriber percentage each year\n",
    "bos_sub = [84.3, 81.4, 79]\n",
    "chi_sub = [78.2, 81.3, 77.1]\n",
    "dc_sub = [74, 78.9, 87.1]\n",
    "la_sub = [64.1, 53.3, 67.7]\n",
    "minn_sub = [63.3, 29.7, 50.0] \n",
    "nyc_sub = [89.2, 89.0, 86.1]\n",
    "philly_sub = [85.2, 85.8, 87.9]\n",
    "pitt_sub = [38.6, 48.2, 51.0]\n",
    "port_sub = [53.0, 37.8, 36.5]"
   ]
  },
  {
   "cell_type": "code",
   "execution_count": 43,
   "metadata": {},
   "outputs": [],
   "source": [
    "all_sub = [bos_sub, chi_sub, dc_sub, la_sub, minn_sub, nyc_sub, philly_sub, pitt_sub, port_sub]"
   ]
  },
  {
   "cell_type": "code",
   "execution_count": 44,
   "metadata": {},
   "outputs": [],
   "source": [
    "sub_2017 = []\n",
    "sub_2018 = []\n",
    "sub_2019 = []\n",
    "for city in all_sub:\n",
    "    sub_2017.append(city[0])\n",
    "    sub_2018.append(city[1])\n",
    "    sub_2019.append(city[2])"
   ]
  },
  {
   "cell_type": "code",
   "execution_count": 45,
   "metadata": {},
   "outputs": [
    {
     "data": {
      "image/png": "[encoded data removed]",
      "text/plain": [
       "<Figure size 432x288 with 1 Axes>"
      ]
     },
     "metadata": {
      "needs_background": "light"
     },
     "output_type": "display_data"
    }
   ],
   "source": [
    "# BIKES PER THOUSAND PEOPLE\n",
    "def subcategorybar(X, vals, width=0.8):\n",
    "    n = len(vals)\n",
    "    _X = np.arange(len(X))\n",
    "    for i in range(n):\n",
    "        plt.bar(_X - width/2. + i/float(n)*width, vals[i], \n",
    "                width=width/float(n), align=\"edge\")   \n",
    "    plt.xticks(_X, X)\n",
    "    plt.title(\"Subscribership Percentage City Comparison\")\n",
    "    plt.ylabel('Subscribership Percentage')\n",
    "    plt.xlabel('City')\n",
    "    plt.legend([2017, 2018, 2019])\n",
    "    \n",
    "subcategorybar(cities, [sub_2017,sub_2018,sub_2019])\n",
    "\n",
    "plt.show()"
   ]
  },
  {
   "cell_type": "code",
   "execution_count": null,
   "metadata": {},
   "outputs": [],
   "source": []
  }
 ],
 "metadata": {
  "kernelspec": {
   "display_name": "Python 3",
   "language": "python",
   "name": "python3"
  },
  "language_info": {
   "codemirror_mode": {
    "name": "ipython",
    "version": 3
   },
   "file_extension": ".py",
   "mimetype": "text/x-python",
   "name": "python",
   "nbconvert_exporter": "python",
   "pygments_lexer": "ipython3",
   "version": "3.8.3rc1"
  }
 },
 "nbformat": 4,
 "nbformat_minor": 4
}
