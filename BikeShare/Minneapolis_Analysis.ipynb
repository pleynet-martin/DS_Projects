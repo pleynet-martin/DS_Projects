{
 "cells": [
  {
   "cell_type": "code",
   "execution_count": 2,
   "metadata": {},
   "outputs": [],
   "source": [
    "import pandas as pd\n",
    "import os\n",
    "import matplotlib.pyplot as plt\n",
    "import numpy as np\n",
    "import seaborn as sns\n",
    "from scipy import stats\n",
    "from math import *"
   ]
  },
  {
   "cell_type": "code",
   "execution_count": 5,
   "metadata": {},
   "outputs": [],
   "source": [
    "data_files = [file for file in os.listdir(\"./201719Data\")]\n",
    "all_data = pd.DataFrame()\n",
    "for file in data_files:\n",
    "    df = pd.read_csv(\"./201719Data/\"+file)\n",
    "    all_data = pd.concat([all_data, df])\n",
    "\n",
    "all_data.to_csv(\"201719Minneapolis.csv\", index=False)"
   ]
  },
  {
   "cell_type": "code",
   "execution_count": 2,
   "metadata": {},
   "outputs": [
    {
     "name": "stderr",
     "output_type": "stream",
     "text": [
      "/Library/Frameworks/Python.framework/Versions/3.8/lib/python3.8/site-packages/IPython/core/interactiveshell.py:3062: DtypeWarning: Columns (3,7,15) have mixed types.Specify dtype option on import or set low_memory=False.\n",
      "  has_raised = await self.run_ast_nodes(code_ast.body, cell_name,\n"
     ]
    }
   ],
   "source": [
    "all_data = pd.read_csv(\"./201719Minneapolis.csv\")"
   ]
  },
  {
   "cell_type": "code",
   "execution_count": 3,
   "metadata": {},
   "outputs": [
    {
     "data": {
      "text/html": [
       "<div>\n",
       "<style scoped>\n",
       "    .dataframe tbody tr th:only-of-type {\n",
       "        vertical-align: middle;\n",
       "    }\n",
       "\n",
       "    .dataframe tbody tr th {\n",
       "        vertical-align: top;\n",
       "    }\n",
       "\n",
       "    .dataframe thead th {\n",
       "        text-align: right;\n",
       "    }\n",
       "</style>\n",
       "<table border=\"1\" class=\"dataframe\">\n",
       "  <thead>\n",
       "    <tr style=\"text-align: right;\">\n",
       "      <th></th>\n",
       "      <th>tripduration</th>\n",
       "      <th>start_time</th>\n",
       "      <th>end_time</th>\n",
       "      <th>start station id</th>\n",
       "      <th>start station name</th>\n",
       "      <th>start station latitude</th>\n",
       "      <th>start station longitude</th>\n",
       "      <th>end station id</th>\n",
       "      <th>end station name</th>\n",
       "      <th>end station latitude</th>\n",
       "      <th>end station longitude</th>\n",
       "      <th>bikeid</th>\n",
       "      <th>usertype</th>\n",
       "      <th>birth year</th>\n",
       "      <th>gender</th>\n",
       "      <th>bike type</th>\n",
       "      <th>Unnamed: 0</th>\n",
       "    </tr>\n",
       "  </thead>\n",
       "  <tbody>\n",
       "    <tr>\n",
       "      <th>0</th>\n",
       "      <td>1172.0</td>\n",
       "      <td>2018-09-02 11:35:35.0700</td>\n",
       "      <td>2018-09-02 11:55:07.8170</td>\n",
       "      <td>96</td>\n",
       "      <td>Marshall Street NE &amp; 8th Ave NE</td>\n",
       "      <td>44.995348</td>\n",
       "      <td>-93.266854</td>\n",
       "      <td>6</td>\n",
       "      <td>11th Street &amp; Hennepin</td>\n",
       "      <td>44.975288</td>\n",
       "      <td>-93.278817</td>\n",
       "      <td>2.0</td>\n",
       "      <td>Subscriber</td>\n",
       "      <td>1990.0</td>\n",
       "      <td>2.0</td>\n",
       "      <td>Classic</td>\n",
       "      <td>NaN</td>\n",
       "    </tr>\n",
       "    <tr>\n",
       "      <th>1</th>\n",
       "      <td>190.0</td>\n",
       "      <td>2018-09-05 17:24:45.6140</td>\n",
       "      <td>2018-09-05 17:27:56.3430</td>\n",
       "      <td>6</td>\n",
       "      <td>11th Street &amp; Hennepin</td>\n",
       "      <td>44.975288</td>\n",
       "      <td>-93.278817</td>\n",
       "      <td>147</td>\n",
       "      <td>9th Street N &amp; Hawthorne Ave</td>\n",
       "      <td>44.977314</td>\n",
       "      <td>-93.277761</td>\n",
       "      <td>2.0</td>\n",
       "      <td>Subscriber</td>\n",
       "      <td>1989.0</td>\n",
       "      <td>0.0</td>\n",
       "      <td>Classic</td>\n",
       "      <td>NaN</td>\n",
       "    </tr>\n",
       "    <tr>\n",
       "      <th>2</th>\n",
       "      <td>325.0</td>\n",
       "      <td>2018-09-05 18:14:11.8830</td>\n",
       "      <td>2018-09-05 18:19:37.2890</td>\n",
       "      <td>46</td>\n",
       "      <td>IDS Center</td>\n",
       "      <td>44.975675</td>\n",
       "      <td>-93.272200</td>\n",
       "      <td>102</td>\n",
       "      <td>West 15th Street &amp; Willow</td>\n",
       "      <td>44.968237</td>\n",
       "      <td>-93.281991</td>\n",
       "      <td>2.0</td>\n",
       "      <td>Customer</td>\n",
       "      <td>1978.0</td>\n",
       "      <td>1.0</td>\n",
       "      <td>Classic</td>\n",
       "      <td>NaN</td>\n",
       "    </tr>\n",
       "    <tr>\n",
       "      <th>3</th>\n",
       "      <td>1940.0</td>\n",
       "      <td>2018-09-05 20:52:23.2250</td>\n",
       "      <td>2018-09-05 21:24:43.8820</td>\n",
       "      <td>102</td>\n",
       "      <td>West 15th Street &amp; Willow</td>\n",
       "      <td>44.968237</td>\n",
       "      <td>-93.281991</td>\n",
       "      <td>101</td>\n",
       "      <td>West 36th Street &amp; Bryant Ave S</td>\n",
       "      <td>44.937750</td>\n",
       "      <td>-93.291200</td>\n",
       "      <td>2.0</td>\n",
       "      <td>Subscriber</td>\n",
       "      <td>1964.0</td>\n",
       "      <td>1.0</td>\n",
       "      <td>Classic</td>\n",
       "      <td>NaN</td>\n",
       "    </tr>\n",
       "    <tr>\n",
       "      <th>4</th>\n",
       "      <td>570.0</td>\n",
       "      <td>2018-09-07 08:01:18.9700</td>\n",
       "      <td>2018-09-07 08:10:49.0790</td>\n",
       "      <td>8</td>\n",
       "      <td>YWCA Downtown</td>\n",
       "      <td>44.972217</td>\n",
       "      <td>-93.276435</td>\n",
       "      <td>56</td>\n",
       "      <td>7th Street &amp; 4th Ave S</td>\n",
       "      <td>44.974970</td>\n",
       "      <td>-93.266684</td>\n",
       "      <td>2.0</td>\n",
       "      <td>Customer</td>\n",
       "      <td>1954.0</td>\n",
       "      <td>2.0</td>\n",
       "      <td>Classic</td>\n",
       "      <td>NaN</td>\n",
       "    </tr>\n",
       "  </tbody>\n",
       "</table>\n",
       "</div>"
      ],
      "text/plain": [
       "   tripduration                start_time                  end_time  \\\n",
       "0        1172.0  2018-09-02 11:35:35.0700  2018-09-02 11:55:07.8170   \n",
       "1         190.0  2018-09-05 17:24:45.6140  2018-09-05 17:27:56.3430   \n",
       "2         325.0  2018-09-05 18:14:11.8830  2018-09-05 18:19:37.2890   \n",
       "3        1940.0  2018-09-05 20:52:23.2250  2018-09-05 21:24:43.8820   \n",
       "4         570.0  2018-09-07 08:01:18.9700  2018-09-07 08:10:49.0790   \n",
       "\n",
       "  start station id               start station name  start station latitude  \\\n",
       "0               96  Marshall Street NE & 8th Ave NE               44.995348   \n",
       "1                6           11th Street & Hennepin               44.975288   \n",
       "2               46                       IDS Center               44.975675   \n",
       "3              102        West 15th Street & Willow               44.968237   \n",
       "4                8                    YWCA Downtown               44.972217   \n",
       "\n",
       "   start station longitude end station id                 end station name  \\\n",
       "0               -93.266854              6           11th Street & Hennepin   \n",
       "1               -93.278817            147     9th Street N & Hawthorne Ave   \n",
       "2               -93.272200            102        West 15th Street & Willow   \n",
       "3               -93.281991            101  West 36th Street & Bryant Ave S   \n",
       "4               -93.276435             56           7th Street & 4th Ave S   \n",
       "\n",
       "   end station latitude  end station longitude  bikeid    usertype  \\\n",
       "0             44.975288             -93.278817     2.0  Subscriber   \n",
       "1             44.977314             -93.277761     2.0  Subscriber   \n",
       "2             44.968237             -93.281991     2.0    Customer   \n",
       "3             44.937750             -93.291200     2.0  Subscriber   \n",
       "4             44.974970             -93.266684     2.0    Customer   \n",
       "\n",
       "   birth year  gender bike type  Unnamed: 0  \n",
       "0      1990.0     2.0   Classic         NaN  \n",
       "1      1989.0     0.0   Classic         NaN  \n",
       "2      1978.0     1.0   Classic         NaN  \n",
       "3      1964.0     1.0   Classic         NaN  \n",
       "4      1954.0     2.0   Classic         NaN  "
      ]
     },
     "execution_count": 3,
     "metadata": {},
     "output_type": "execute_result"
    }
   ],
   "source": [
    "all_data.head()"
   ]
  },
  {
   "cell_type": "code",
   "execution_count": 4,
   "metadata": {},
   "outputs": [],
   "source": [
    "del all_data['start station id']\n",
    "del all_data['start station latitude']\n",
    "del all_data['start station longitude']\n",
    "del all_data['end station id']\n",
    "del all_data['end station latitude']\n",
    "del all_data['end station longitude']\n",
    "del all_data['Unnamed: 0']"
   ]
  },
  {
   "cell_type": "code",
   "execution_count": 5,
   "metadata": {},
   "outputs": [
    {
     "data": {
      "text/html": [
       "<div>\n",
       "<style scoped>\n",
       "    .dataframe tbody tr th:only-of-type {\n",
       "        vertical-align: middle;\n",
       "    }\n",
       "\n",
       "    .dataframe tbody tr th {\n",
       "        vertical-align: top;\n",
       "    }\n",
       "\n",
       "    .dataframe thead th {\n",
       "        text-align: right;\n",
       "    }\n",
       "</style>\n",
       "<table border=\"1\" class=\"dataframe\">\n",
       "  <thead>\n",
       "    <tr style=\"text-align: right;\">\n",
       "      <th></th>\n",
       "      <th>tripduration</th>\n",
       "      <th>start_time</th>\n",
       "      <th>end_time</th>\n",
       "      <th>start station name</th>\n",
       "      <th>end station name</th>\n",
       "      <th>bikeid</th>\n",
       "      <th>usertype</th>\n",
       "      <th>birth year</th>\n",
       "      <th>gender</th>\n",
       "      <th>bike type</th>\n",
       "    </tr>\n",
       "  </thead>\n",
       "  <tbody>\n",
       "    <tr>\n",
       "      <th>0</th>\n",
       "      <td>1172.0</td>\n",
       "      <td>2018-09-02 11:35:35.0700</td>\n",
       "      <td>2018-09-02 11:55:07.8170</td>\n",
       "      <td>Marshall Street NE &amp; 8th Ave NE</td>\n",
       "      <td>11th Street &amp; Hennepin</td>\n",
       "      <td>2.0</td>\n",
       "      <td>Subscriber</td>\n",
       "      <td>1990.0</td>\n",
       "      <td>2.0</td>\n",
       "      <td>Classic</td>\n",
       "    </tr>\n",
       "    <tr>\n",
       "      <th>1</th>\n",
       "      <td>190.0</td>\n",
       "      <td>2018-09-05 17:24:45.6140</td>\n",
       "      <td>2018-09-05 17:27:56.3430</td>\n",
       "      <td>11th Street &amp; Hennepin</td>\n",
       "      <td>9th Street N &amp; Hawthorne Ave</td>\n",
       "      <td>2.0</td>\n",
       "      <td>Subscriber</td>\n",
       "      <td>1989.0</td>\n",
       "      <td>0.0</td>\n",
       "      <td>Classic</td>\n",
       "    </tr>\n",
       "    <tr>\n",
       "      <th>2</th>\n",
       "      <td>325.0</td>\n",
       "      <td>2018-09-05 18:14:11.8830</td>\n",
       "      <td>2018-09-05 18:19:37.2890</td>\n",
       "      <td>IDS Center</td>\n",
       "      <td>West 15th Street &amp; Willow</td>\n",
       "      <td>2.0</td>\n",
       "      <td>Customer</td>\n",
       "      <td>1978.0</td>\n",
       "      <td>1.0</td>\n",
       "      <td>Classic</td>\n",
       "    </tr>\n",
       "    <tr>\n",
       "      <th>3</th>\n",
       "      <td>1940.0</td>\n",
       "      <td>2018-09-05 20:52:23.2250</td>\n",
       "      <td>2018-09-05 21:24:43.8820</td>\n",
       "      <td>West 15th Street &amp; Willow</td>\n",
       "      <td>West 36th Street &amp; Bryant Ave S</td>\n",
       "      <td>2.0</td>\n",
       "      <td>Subscriber</td>\n",
       "      <td>1964.0</td>\n",
       "      <td>1.0</td>\n",
       "      <td>Classic</td>\n",
       "    </tr>\n",
       "    <tr>\n",
       "      <th>4</th>\n",
       "      <td>570.0</td>\n",
       "      <td>2018-09-07 08:01:18.9700</td>\n",
       "      <td>2018-09-07 08:10:49.0790</td>\n",
       "      <td>YWCA Downtown</td>\n",
       "      <td>7th Street &amp; 4th Ave S</td>\n",
       "      <td>2.0</td>\n",
       "      <td>Customer</td>\n",
       "      <td>1954.0</td>\n",
       "      <td>2.0</td>\n",
       "      <td>Classic</td>\n",
       "    </tr>\n",
       "  </tbody>\n",
       "</table>\n",
       "</div>"
      ],
      "text/plain": [
       "   tripduration                start_time                  end_time  \\\n",
       "0        1172.0  2018-09-02 11:35:35.0700  2018-09-02 11:55:07.8170   \n",
       "1         190.0  2018-09-05 17:24:45.6140  2018-09-05 17:27:56.3430   \n",
       "2         325.0  2018-09-05 18:14:11.8830  2018-09-05 18:19:37.2890   \n",
       "3        1940.0  2018-09-05 20:52:23.2250  2018-09-05 21:24:43.8820   \n",
       "4         570.0  2018-09-07 08:01:18.9700  2018-09-07 08:10:49.0790   \n",
       "\n",
       "                start station name                 end station name  bikeid  \\\n",
       "0  Marshall Street NE & 8th Ave NE           11th Street & Hennepin     2.0   \n",
       "1           11th Street & Hennepin     9th Street N & Hawthorne Ave     2.0   \n",
       "2                       IDS Center        West 15th Street & Willow     2.0   \n",
       "3        West 15th Street & Willow  West 36th Street & Bryant Ave S     2.0   \n",
       "4                    YWCA Downtown           7th Street & 4th Ave S     2.0   \n",
       "\n",
       "     usertype  birth year  gender bike type  \n",
       "0  Subscriber      1990.0     2.0   Classic  \n",
       "1  Subscriber      1989.0     0.0   Classic  \n",
       "2    Customer      1978.0     1.0   Classic  \n",
       "3  Subscriber      1964.0     1.0   Classic  \n",
       "4    Customer      1954.0     2.0   Classic  "
      ]
     },
     "execution_count": 5,
     "metadata": {},
     "output_type": "execute_result"
    }
   ],
   "source": [
    "all_data.head()"
   ]
  },
  {
   "cell_type": "code",
   "execution_count": 6,
   "metadata": {},
   "outputs": [],
   "source": [
    "all_data['start_time'] = pd.to_datetime(all_data[\"start_time\"])\n",
    "all_data['end_time'] = pd.to_datetime(all_data[\"end_time\"])\n",
    "all_data['year'] = all_data[\"start_time\"].dt.year\n",
    "all_data['month'] = all_data[\"start_time\"].dt.month"
   ]
  },
  {
   "cell_type": "code",
   "execution_count": 7,
   "metadata": {},
   "outputs": [
    {
     "data": {
      "text/html": [
       "<div>\n",
       "<style scoped>\n",
       "    .dataframe tbody tr th:only-of-type {\n",
       "        vertical-align: middle;\n",
       "    }\n",
       "\n",
       "    .dataframe tbody tr th {\n",
       "        vertical-align: top;\n",
       "    }\n",
       "\n",
       "    .dataframe thead th {\n",
       "        text-align: right;\n",
       "    }\n",
       "</style>\n",
       "<table border=\"1\" class=\"dataframe\">\n",
       "  <thead>\n",
       "    <tr style=\"text-align: right;\">\n",
       "      <th></th>\n",
       "      <th>tripduration</th>\n",
       "      <th>start_time</th>\n",
       "      <th>end_time</th>\n",
       "      <th>start station name</th>\n",
       "      <th>end station name</th>\n",
       "      <th>bikeid</th>\n",
       "      <th>usertype</th>\n",
       "      <th>birth year</th>\n",
       "      <th>gender</th>\n",
       "      <th>bike type</th>\n",
       "      <th>year</th>\n",
       "      <th>month</th>\n",
       "    </tr>\n",
       "  </thead>\n",
       "  <tbody>\n",
       "    <tr>\n",
       "      <th>0</th>\n",
       "      <td>1172.0</td>\n",
       "      <td>2018-09-02 11:35:35.070</td>\n",
       "      <td>2018-09-02 11:55:07.817</td>\n",
       "      <td>Marshall Street NE &amp; 8th Ave NE</td>\n",
       "      <td>11th Street &amp; Hennepin</td>\n",
       "      <td>2.0</td>\n",
       "      <td>Subscriber</td>\n",
       "      <td>1990.0</td>\n",
       "      <td>2.0</td>\n",
       "      <td>Classic</td>\n",
       "      <td>2018</td>\n",
       "      <td>9</td>\n",
       "    </tr>\n",
       "    <tr>\n",
       "      <th>1</th>\n",
       "      <td>190.0</td>\n",
       "      <td>2018-09-05 17:24:45.614</td>\n",
       "      <td>2018-09-05 17:27:56.343</td>\n",
       "      <td>11th Street &amp; Hennepin</td>\n",
       "      <td>9th Street N &amp; Hawthorne Ave</td>\n",
       "      <td>2.0</td>\n",
       "      <td>Subscriber</td>\n",
       "      <td>1989.0</td>\n",
       "      <td>0.0</td>\n",
       "      <td>Classic</td>\n",
       "      <td>2018</td>\n",
       "      <td>9</td>\n",
       "    </tr>\n",
       "    <tr>\n",
       "      <th>2</th>\n",
       "      <td>325.0</td>\n",
       "      <td>2018-09-05 18:14:11.883</td>\n",
       "      <td>2018-09-05 18:19:37.289</td>\n",
       "      <td>IDS Center</td>\n",
       "      <td>West 15th Street &amp; Willow</td>\n",
       "      <td>2.0</td>\n",
       "      <td>Customer</td>\n",
       "      <td>1978.0</td>\n",
       "      <td>1.0</td>\n",
       "      <td>Classic</td>\n",
       "      <td>2018</td>\n",
       "      <td>9</td>\n",
       "    </tr>\n",
       "    <tr>\n",
       "      <th>3</th>\n",
       "      <td>1940.0</td>\n",
       "      <td>2018-09-05 20:52:23.225</td>\n",
       "      <td>2018-09-05 21:24:43.882</td>\n",
       "      <td>West 15th Street &amp; Willow</td>\n",
       "      <td>West 36th Street &amp; Bryant Ave S</td>\n",
       "      <td>2.0</td>\n",
       "      <td>Subscriber</td>\n",
       "      <td>1964.0</td>\n",
       "      <td>1.0</td>\n",
       "      <td>Classic</td>\n",
       "      <td>2018</td>\n",
       "      <td>9</td>\n",
       "    </tr>\n",
       "    <tr>\n",
       "      <th>4</th>\n",
       "      <td>570.0</td>\n",
       "      <td>2018-09-07 08:01:18.970</td>\n",
       "      <td>2018-09-07 08:10:49.079</td>\n",
       "      <td>YWCA Downtown</td>\n",
       "      <td>7th Street &amp; 4th Ave S</td>\n",
       "      <td>2.0</td>\n",
       "      <td>Customer</td>\n",
       "      <td>1954.0</td>\n",
       "      <td>2.0</td>\n",
       "      <td>Classic</td>\n",
       "      <td>2018</td>\n",
       "      <td>9</td>\n",
       "    </tr>\n",
       "  </tbody>\n",
       "</table>\n",
       "</div>"
      ],
      "text/plain": [
       "   tripduration              start_time                end_time  \\\n",
       "0        1172.0 2018-09-02 11:35:35.070 2018-09-02 11:55:07.817   \n",
       "1         190.0 2018-09-05 17:24:45.614 2018-09-05 17:27:56.343   \n",
       "2         325.0 2018-09-05 18:14:11.883 2018-09-05 18:19:37.289   \n",
       "3        1940.0 2018-09-05 20:52:23.225 2018-09-05 21:24:43.882   \n",
       "4         570.0 2018-09-07 08:01:18.970 2018-09-07 08:10:49.079   \n",
       "\n",
       "                start station name                 end station name  bikeid  \\\n",
       "0  Marshall Street NE & 8th Ave NE           11th Street & Hennepin     2.0   \n",
       "1           11th Street & Hennepin     9th Street N & Hawthorne Ave     2.0   \n",
       "2                       IDS Center        West 15th Street & Willow     2.0   \n",
       "3        West 15th Street & Willow  West 36th Street & Bryant Ave S     2.0   \n",
       "4                    YWCA Downtown           7th Street & 4th Ave S     2.0   \n",
       "\n",
       "     usertype  birth year  gender bike type  year  month  \n",
       "0  Subscriber      1990.0     2.0   Classic  2018      9  \n",
       "1  Subscriber      1989.0     0.0   Classic  2018      9  \n",
       "2    Customer      1978.0     1.0   Classic  2018      9  \n",
       "3  Subscriber      1964.0     1.0   Classic  2018      9  \n",
       "4    Customer      1954.0     2.0   Classic  2018      9  "
      ]
     },
     "execution_count": 7,
     "metadata": {},
     "output_type": "execute_result"
    }
   ],
   "source": [
    "all_data.head()"
   ]
  },
  {
   "cell_type": "code",
   "execution_count": 8,
   "metadata": {},
   "outputs": [],
   "source": [
    "all_data['start_hour'] = all_data['start_time'].dt.hour\n",
    "all_data['day_of_week'] = all_data['start_time'].dt.day_name()"
   ]
  },
  {
   "cell_type": "code",
   "execution_count": 9,
   "metadata": {},
   "outputs": [
    {
     "data": {
      "text/html": [
       "<div>\n",
       "<style scoped>\n",
       "    .dataframe tbody tr th:only-of-type {\n",
       "        vertical-align: middle;\n",
       "    }\n",
       "\n",
       "    .dataframe tbody tr th {\n",
       "        vertical-align: top;\n",
       "    }\n",
       "\n",
       "    .dataframe thead th {\n",
       "        text-align: right;\n",
       "    }\n",
       "</style>\n",
       "<table border=\"1\" class=\"dataframe\">\n",
       "  <thead>\n",
       "    <tr style=\"text-align: right;\">\n",
       "      <th></th>\n",
       "      <th>tripduration</th>\n",
       "      <th>start_time</th>\n",
       "      <th>end_time</th>\n",
       "      <th>start station name</th>\n",
       "      <th>end station name</th>\n",
       "      <th>bikeid</th>\n",
       "      <th>usertype</th>\n",
       "      <th>birth year</th>\n",
       "      <th>gender</th>\n",
       "      <th>bike type</th>\n",
       "      <th>year</th>\n",
       "      <th>month</th>\n",
       "      <th>start_hour</th>\n",
       "      <th>day_of_week</th>\n",
       "    </tr>\n",
       "  </thead>\n",
       "  <tbody>\n",
       "    <tr>\n",
       "      <th>0</th>\n",
       "      <td>1172.0</td>\n",
       "      <td>2018-09-02 11:35:35.070</td>\n",
       "      <td>2018-09-02 11:55:07.817</td>\n",
       "      <td>Marshall Street NE &amp; 8th Ave NE</td>\n",
       "      <td>11th Street &amp; Hennepin</td>\n",
       "      <td>2.0</td>\n",
       "      <td>Subscriber</td>\n",
       "      <td>1990.0</td>\n",
       "      <td>2.0</td>\n",
       "      <td>Classic</td>\n",
       "      <td>2018</td>\n",
       "      <td>9</td>\n",
       "      <td>11</td>\n",
       "      <td>Sunday</td>\n",
       "    </tr>\n",
       "    <tr>\n",
       "      <th>1</th>\n",
       "      <td>190.0</td>\n",
       "      <td>2018-09-05 17:24:45.614</td>\n",
       "      <td>2018-09-05 17:27:56.343</td>\n",
       "      <td>11th Street &amp; Hennepin</td>\n",
       "      <td>9th Street N &amp; Hawthorne Ave</td>\n",
       "      <td>2.0</td>\n",
       "      <td>Subscriber</td>\n",
       "      <td>1989.0</td>\n",
       "      <td>0.0</td>\n",
       "      <td>Classic</td>\n",
       "      <td>2018</td>\n",
       "      <td>9</td>\n",
       "      <td>17</td>\n",
       "      <td>Wednesday</td>\n",
       "    </tr>\n",
       "    <tr>\n",
       "      <th>2</th>\n",
       "      <td>325.0</td>\n",
       "      <td>2018-09-05 18:14:11.883</td>\n",
       "      <td>2018-09-05 18:19:37.289</td>\n",
       "      <td>IDS Center</td>\n",
       "      <td>West 15th Street &amp; Willow</td>\n",
       "      <td>2.0</td>\n",
       "      <td>Customer</td>\n",
       "      <td>1978.0</td>\n",
       "      <td>1.0</td>\n",
       "      <td>Classic</td>\n",
       "      <td>2018</td>\n",
       "      <td>9</td>\n",
       "      <td>18</td>\n",
       "      <td>Wednesday</td>\n",
       "    </tr>\n",
       "    <tr>\n",
       "      <th>3</th>\n",
       "      <td>1940.0</td>\n",
       "      <td>2018-09-05 20:52:23.225</td>\n",
       "      <td>2018-09-05 21:24:43.882</td>\n",
       "      <td>West 15th Street &amp; Willow</td>\n",
       "      <td>West 36th Street &amp; Bryant Ave S</td>\n",
       "      <td>2.0</td>\n",
       "      <td>Subscriber</td>\n",
       "      <td>1964.0</td>\n",
       "      <td>1.0</td>\n",
       "      <td>Classic</td>\n",
       "      <td>2018</td>\n",
       "      <td>9</td>\n",
       "      <td>20</td>\n",
       "      <td>Wednesday</td>\n",
       "    </tr>\n",
       "    <tr>\n",
       "      <th>4</th>\n",
       "      <td>570.0</td>\n",
       "      <td>2018-09-07 08:01:18.970</td>\n",
       "      <td>2018-09-07 08:10:49.079</td>\n",
       "      <td>YWCA Downtown</td>\n",
       "      <td>7th Street &amp; 4th Ave S</td>\n",
       "      <td>2.0</td>\n",
       "      <td>Customer</td>\n",
       "      <td>1954.0</td>\n",
       "      <td>2.0</td>\n",
       "      <td>Classic</td>\n",
       "      <td>2018</td>\n",
       "      <td>9</td>\n",
       "      <td>8</td>\n",
       "      <td>Friday</td>\n",
       "    </tr>\n",
       "  </tbody>\n",
       "</table>\n",
       "</div>"
      ],
      "text/plain": [
       "   tripduration              start_time                end_time  \\\n",
       "0        1172.0 2018-09-02 11:35:35.070 2018-09-02 11:55:07.817   \n",
       "1         190.0 2018-09-05 17:24:45.614 2018-09-05 17:27:56.343   \n",
       "2         325.0 2018-09-05 18:14:11.883 2018-09-05 18:19:37.289   \n",
       "3        1940.0 2018-09-05 20:52:23.225 2018-09-05 21:24:43.882   \n",
       "4         570.0 2018-09-07 08:01:18.970 2018-09-07 08:10:49.079   \n",
       "\n",
       "                start station name                 end station name  bikeid  \\\n",
       "0  Marshall Street NE & 8th Ave NE           11th Street & Hennepin     2.0   \n",
       "1           11th Street & Hennepin     9th Street N & Hawthorne Ave     2.0   \n",
       "2                       IDS Center        West 15th Street & Willow     2.0   \n",
       "3        West 15th Street & Willow  West 36th Street & Bryant Ave S     2.0   \n",
       "4                    YWCA Downtown           7th Street & 4th Ave S     2.0   \n",
       "\n",
       "     usertype  birth year  gender bike type  year  month  start_hour  \\\n",
       "0  Subscriber      1990.0     2.0   Classic  2018      9          11   \n",
       "1  Subscriber      1989.0     0.0   Classic  2018      9          17   \n",
       "2    Customer      1978.0     1.0   Classic  2018      9          18   \n",
       "3  Subscriber      1964.0     1.0   Classic  2018      9          20   \n",
       "4    Customer      1954.0     2.0   Classic  2018      9           8   \n",
       "\n",
       "  day_of_week  \n",
       "0      Sunday  \n",
       "1   Wednesday  \n",
       "2   Wednesday  \n",
       "3   Wednesday  \n",
       "4      Friday  "
      ]
     },
     "execution_count": 9,
     "metadata": {},
     "output_type": "execute_result"
    }
   ],
   "source": [
    "all_data.head()"
   ]
  },
  {
   "cell_type": "code",
   "execution_count": 56,
   "metadata": {},
   "outputs": [],
   "source": [
    "# no data for columns 5, 7, 8, 9 for 2017 as the data was not collected until 2018"
   ]
  },
  {
   "cell_type": "code",
   "execution_count": 10,
   "metadata": {},
   "outputs": [
    {
     "data": {
      "text/html": [
       "<div>\n",
       "<style scoped>\n",
       "    .dataframe tbody tr th:only-of-type {\n",
       "        vertical-align: middle;\n",
       "    }\n",
       "\n",
       "    .dataframe tbody tr th {\n",
       "        vertical-align: top;\n",
       "    }\n",
       "\n",
       "    .dataframe thead th {\n",
       "        text-align: right;\n",
       "    }\n",
       "</style>\n",
       "<table border=\"1\" class=\"dataframe\">\n",
       "  <thead>\n",
       "    <tr style=\"text-align: right;\">\n",
       "      <th></th>\n",
       "      <th>tripduration</th>\n",
       "      <th>start_time</th>\n",
       "      <th>end_time</th>\n",
       "      <th>start station name</th>\n",
       "      <th>end station name</th>\n",
       "      <th>bikeid</th>\n",
       "      <th>usertype</th>\n",
       "      <th>birth year</th>\n",
       "      <th>gender</th>\n",
       "      <th>bike type</th>\n",
       "      <th>year</th>\n",
       "      <th>month</th>\n",
       "      <th>start_hour</th>\n",
       "      <th>day_of_week</th>\n",
       "    </tr>\n",
       "  </thead>\n",
       "  <tbody>\n",
       "    <tr>\n",
       "      <th>0</th>\n",
       "      <td>19.533333</td>\n",
       "      <td>2018-09-02 11:35:35.070</td>\n",
       "      <td>2018-09-02 11:55:07.817</td>\n",
       "      <td>Marshall Street NE &amp; 8th Ave NE</td>\n",
       "      <td>11th Street &amp; Hennepin</td>\n",
       "      <td>2.0</td>\n",
       "      <td>Subscriber</td>\n",
       "      <td>1990.0</td>\n",
       "      <td>2.0</td>\n",
       "      <td>Classic</td>\n",
       "      <td>2018</td>\n",
       "      <td>9</td>\n",
       "      <td>11</td>\n",
       "      <td>Sunday</td>\n",
       "    </tr>\n",
       "    <tr>\n",
       "      <th>1</th>\n",
       "      <td>3.166667</td>\n",
       "      <td>2018-09-05 17:24:45.614</td>\n",
       "      <td>2018-09-05 17:27:56.343</td>\n",
       "      <td>11th Street &amp; Hennepin</td>\n",
       "      <td>9th Street N &amp; Hawthorne Ave</td>\n",
       "      <td>2.0</td>\n",
       "      <td>Subscriber</td>\n",
       "      <td>1989.0</td>\n",
       "      <td>0.0</td>\n",
       "      <td>Classic</td>\n",
       "      <td>2018</td>\n",
       "      <td>9</td>\n",
       "      <td>17</td>\n",
       "      <td>Wednesday</td>\n",
       "    </tr>\n",
       "    <tr>\n",
       "      <th>2</th>\n",
       "      <td>5.416667</td>\n",
       "      <td>2018-09-05 18:14:11.883</td>\n",
       "      <td>2018-09-05 18:19:37.289</td>\n",
       "      <td>IDS Center</td>\n",
       "      <td>West 15th Street &amp; Willow</td>\n",
       "      <td>2.0</td>\n",
       "      <td>Customer</td>\n",
       "      <td>1978.0</td>\n",
       "      <td>1.0</td>\n",
       "      <td>Classic</td>\n",
       "      <td>2018</td>\n",
       "      <td>9</td>\n",
       "      <td>18</td>\n",
       "      <td>Wednesday</td>\n",
       "    </tr>\n",
       "    <tr>\n",
       "      <th>3</th>\n",
       "      <td>32.333333</td>\n",
       "      <td>2018-09-05 20:52:23.225</td>\n",
       "      <td>2018-09-05 21:24:43.882</td>\n",
       "      <td>West 15th Street &amp; Willow</td>\n",
       "      <td>West 36th Street &amp; Bryant Ave S</td>\n",
       "      <td>2.0</td>\n",
       "      <td>Subscriber</td>\n",
       "      <td>1964.0</td>\n",
       "      <td>1.0</td>\n",
       "      <td>Classic</td>\n",
       "      <td>2018</td>\n",
       "      <td>9</td>\n",
       "      <td>20</td>\n",
       "      <td>Wednesday</td>\n",
       "    </tr>\n",
       "    <tr>\n",
       "      <th>4</th>\n",
       "      <td>9.500000</td>\n",
       "      <td>2018-09-07 08:01:18.970</td>\n",
       "      <td>2018-09-07 08:10:49.079</td>\n",
       "      <td>YWCA Downtown</td>\n",
       "      <td>7th Street &amp; 4th Ave S</td>\n",
       "      <td>2.0</td>\n",
       "      <td>Customer</td>\n",
       "      <td>1954.0</td>\n",
       "      <td>2.0</td>\n",
       "      <td>Classic</td>\n",
       "      <td>2018</td>\n",
       "      <td>9</td>\n",
       "      <td>8</td>\n",
       "      <td>Friday</td>\n",
       "    </tr>\n",
       "  </tbody>\n",
       "</table>\n",
       "</div>"
      ],
      "text/plain": [
       "   tripduration              start_time                end_time  \\\n",
       "0     19.533333 2018-09-02 11:35:35.070 2018-09-02 11:55:07.817   \n",
       "1      3.166667 2018-09-05 17:24:45.614 2018-09-05 17:27:56.343   \n",
       "2      5.416667 2018-09-05 18:14:11.883 2018-09-05 18:19:37.289   \n",
       "3     32.333333 2018-09-05 20:52:23.225 2018-09-05 21:24:43.882   \n",
       "4      9.500000 2018-09-07 08:01:18.970 2018-09-07 08:10:49.079   \n",
       "\n",
       "                start station name                 end station name  bikeid  \\\n",
       "0  Marshall Street NE & 8th Ave NE           11th Street & Hennepin     2.0   \n",
       "1           11th Street & Hennepin     9th Street N & Hawthorne Ave     2.0   \n",
       "2                       IDS Center        West 15th Street & Willow     2.0   \n",
       "3        West 15th Street & Willow  West 36th Street & Bryant Ave S     2.0   \n",
       "4                    YWCA Downtown           7th Street & 4th Ave S     2.0   \n",
       "\n",
       "     usertype  birth year  gender bike type  year  month  start_hour  \\\n",
       "0  Subscriber      1990.0     2.0   Classic  2018      9          11   \n",
       "1  Subscriber      1989.0     0.0   Classic  2018      9          17   \n",
       "2    Customer      1978.0     1.0   Classic  2018      9          18   \n",
       "3  Subscriber      1964.0     1.0   Classic  2018      9          20   \n",
       "4    Customer      1954.0     2.0   Classic  2018      9           8   \n",
       "\n",
       "  day_of_week  \n",
       "0      Sunday  \n",
       "1   Wednesday  \n",
       "2   Wednesday  \n",
       "3   Wednesday  \n",
       "4      Friday  "
      ]
     },
     "execution_count": 10,
     "metadata": {},
     "output_type": "execute_result"
    }
   ],
   "source": [
    "all_data['tripduration'] = all_data['tripduration']/60\n",
    "all_data.head()"
   ]
  },
  {
   "cell_type": "code",
   "execution_count": 12,
   "metadata": {
    "scrolled": true
   },
   "outputs": [
    {
     "data": {
      "text/plain": [
       "count    1.231848e+06\n",
       "mean     5.735270e+01\n",
       "std      1.119394e+03\n",
       "min      1.000000e+00\n",
       "25%      7.033333e+00\n",
       "50%      1.320000e+01\n",
       "75%      2.556667e+01\n",
       "max      1.892467e+05\n",
       "Name: tripduration, dtype: float64"
      ]
     },
     "execution_count": 12,
     "metadata": {},
     "output_type": "execute_result"
    }
   ],
   "source": [
    "all_data['tripduration'].describe()"
   ]
  },
  {
   "cell_type": "code",
   "execution_count": 13,
   "metadata": {
    "scrolled": true
   },
   "outputs": [
    {
     "data": {
      "text/html": [
       "<div>\n",
       "<style scoped>\n",
       "    .dataframe tbody tr th:only-of-type {\n",
       "        vertical-align: middle;\n",
       "    }\n",
       "\n",
       "    .dataframe tbody tr th {\n",
       "        vertical-align: top;\n",
       "    }\n",
       "\n",
       "    .dataframe thead th {\n",
       "        text-align: right;\n",
       "    }\n",
       "</style>\n",
       "<table border=\"1\" class=\"dataframe\">\n",
       "  <thead>\n",
       "    <tr style=\"text-align: right;\">\n",
       "      <th></th>\n",
       "      <th>tripduration</th>\n",
       "      <th>start_time</th>\n",
       "      <th>end_time</th>\n",
       "      <th>start station name</th>\n",
       "      <th>end station name</th>\n",
       "      <th>bikeid</th>\n",
       "      <th>usertype</th>\n",
       "      <th>birth year</th>\n",
       "      <th>gender</th>\n",
       "      <th>bike type</th>\n",
       "      <th>year</th>\n",
       "      <th>month</th>\n",
       "      <th>start_hour</th>\n",
       "      <th>day_of_week</th>\n",
       "    </tr>\n",
       "  </thead>\n",
       "  <tbody>\n",
       "    <tr>\n",
       "      <th>0</th>\n",
       "      <td>19.533333</td>\n",
       "      <td>2018-09-02 11:35:35.070</td>\n",
       "      <td>2018-09-02 11:55:07.817</td>\n",
       "      <td>Marshall Street NE &amp; 8th Ave NE</td>\n",
       "      <td>11th Street &amp; Hennepin</td>\n",
       "      <td>2.0</td>\n",
       "      <td>Subscriber</td>\n",
       "      <td>1990.0</td>\n",
       "      <td>2.0</td>\n",
       "      <td>Classic</td>\n",
       "      <td>2018</td>\n",
       "      <td>9</td>\n",
       "      <td>11</td>\n",
       "      <td>Sunday</td>\n",
       "    </tr>\n",
       "    <tr>\n",
       "      <th>1</th>\n",
       "      <td>3.166667</td>\n",
       "      <td>2018-09-05 17:24:45.614</td>\n",
       "      <td>2018-09-05 17:27:56.343</td>\n",
       "      <td>11th Street &amp; Hennepin</td>\n",
       "      <td>9th Street N &amp; Hawthorne Ave</td>\n",
       "      <td>2.0</td>\n",
       "      <td>Subscriber</td>\n",
       "      <td>1989.0</td>\n",
       "      <td>0.0</td>\n",
       "      <td>Classic</td>\n",
       "      <td>2018</td>\n",
       "      <td>9</td>\n",
       "      <td>17</td>\n",
       "      <td>Wednesday</td>\n",
       "    </tr>\n",
       "    <tr>\n",
       "      <th>2</th>\n",
       "      <td>5.416667</td>\n",
       "      <td>2018-09-05 18:14:11.883</td>\n",
       "      <td>2018-09-05 18:19:37.289</td>\n",
       "      <td>IDS Center</td>\n",
       "      <td>West 15th Street &amp; Willow</td>\n",
       "      <td>2.0</td>\n",
       "      <td>Customer</td>\n",
       "      <td>1978.0</td>\n",
       "      <td>1.0</td>\n",
       "      <td>Classic</td>\n",
       "      <td>2018</td>\n",
       "      <td>9</td>\n",
       "      <td>18</td>\n",
       "      <td>Wednesday</td>\n",
       "    </tr>\n",
       "    <tr>\n",
       "      <th>3</th>\n",
       "      <td>32.333333</td>\n",
       "      <td>2018-09-05 20:52:23.225</td>\n",
       "      <td>2018-09-05 21:24:43.882</td>\n",
       "      <td>West 15th Street &amp; Willow</td>\n",
       "      <td>West 36th Street &amp; Bryant Ave S</td>\n",
       "      <td>2.0</td>\n",
       "      <td>Subscriber</td>\n",
       "      <td>1964.0</td>\n",
       "      <td>1.0</td>\n",
       "      <td>Classic</td>\n",
       "      <td>2018</td>\n",
       "      <td>9</td>\n",
       "      <td>20</td>\n",
       "      <td>Wednesday</td>\n",
       "    </tr>\n",
       "    <tr>\n",
       "      <th>4</th>\n",
       "      <td>9.500000</td>\n",
       "      <td>2018-09-07 08:01:18.970</td>\n",
       "      <td>2018-09-07 08:10:49.079</td>\n",
       "      <td>YWCA Downtown</td>\n",
       "      <td>7th Street &amp; 4th Ave S</td>\n",
       "      <td>2.0</td>\n",
       "      <td>Customer</td>\n",
       "      <td>1954.0</td>\n",
       "      <td>2.0</td>\n",
       "      <td>Classic</td>\n",
       "      <td>2018</td>\n",
       "      <td>9</td>\n",
       "      <td>8</td>\n",
       "      <td>Friday</td>\n",
       "    </tr>\n",
       "  </tbody>\n",
       "</table>\n",
       "</div>"
      ],
      "text/plain": [
       "   tripduration              start_time                end_time  \\\n",
       "0     19.533333 2018-09-02 11:35:35.070 2018-09-02 11:55:07.817   \n",
       "1      3.166667 2018-09-05 17:24:45.614 2018-09-05 17:27:56.343   \n",
       "2      5.416667 2018-09-05 18:14:11.883 2018-09-05 18:19:37.289   \n",
       "3     32.333333 2018-09-05 20:52:23.225 2018-09-05 21:24:43.882   \n",
       "4      9.500000 2018-09-07 08:01:18.970 2018-09-07 08:10:49.079   \n",
       "\n",
       "                start station name                 end station name  bikeid  \\\n",
       "0  Marshall Street NE & 8th Ave NE           11th Street & Hennepin     2.0   \n",
       "1           11th Street & Hennepin     9th Street N & Hawthorne Ave     2.0   \n",
       "2                       IDS Center        West 15th Street & Willow     2.0   \n",
       "3        West 15th Street & Willow  West 36th Street & Bryant Ave S     2.0   \n",
       "4                    YWCA Downtown           7th Street & 4th Ave S     2.0   \n",
       "\n",
       "     usertype  birth year  gender bike type  year  month  start_hour  \\\n",
       "0  Subscriber      1990.0     2.0   Classic  2018      9          11   \n",
       "1  Subscriber      1989.0     0.0   Classic  2018      9          17   \n",
       "2    Customer      1978.0     1.0   Classic  2018      9          18   \n",
       "3  Subscriber      1964.0     1.0   Classic  2018      9          20   \n",
       "4    Customer      1954.0     2.0   Classic  2018      9           8   \n",
       "\n",
       "  day_of_week  \n",
       "0      Sunday  \n",
       "1   Wednesday  \n",
       "2   Wednesday  \n",
       "3   Wednesday  \n",
       "4      Friday  "
      ]
     },
     "execution_count": 13,
     "metadata": {},
     "output_type": "execute_result"
    }
   ],
   "source": [
    "#Based on the pricing system I'd expect the majority of rides to be no longer than 4 hours\n",
    "no_outliers_data = all_data[all_data['tripduration'] < 240]\n",
    "no_outliers_data.head()"
   ]
  },
  {
   "cell_type": "code",
   "execution_count": 14,
   "metadata": {
    "scrolled": true
   },
   "outputs": [
    {
     "data": {
      "text/plain": [
       "count    1.219322e+06\n",
       "mean     2.073058e+01\n",
       "std      2.447654e+01\n",
       "min      1.000000e+00\n",
       "25%      6.983333e+00\n",
       "50%      1.303333e+01\n",
       "75%      2.506667e+01\n",
       "max      2.399667e+02\n",
       "Name: tripduration, dtype: float64"
      ]
     },
     "execution_count": 14,
     "metadata": {},
     "output_type": "execute_result"
    }
   ],
   "source": [
    "no_outliers_data['tripduration'].describe()"
   ]
  },
  {
   "cell_type": "code",
   "execution_count": 137,
   "metadata": {
    "scrolled": true
   },
   "outputs": [
    {
     "name": "stderr",
     "output_type": "stream",
     "text": [
      "<ipython-input-137-6fea559c2d97>:1: SettingWithCopyWarning: \n",
      "A value is trying to be set on a copy of a slice from a DataFrame.\n",
      "Try using .loc[row_indexer,col_indexer] = value instead\n",
      "\n",
      "See the caveats in the documentation: https://pandas.pydata.org/pandas-docs/stable/user_guide/indexing.html#returning-a-view-versus-a-copy\n",
      "  no_outliers_data['usertype'] = no_outliers_data['usertype'].replace({\"Member\": \"Subscriber\",\"Casual\": \"Customer\"})\n"
     ]
    }
   ],
   "source": [
    "no_outliers_data['usertype'] = no_outliers_data['usertype'].replace({\"Member\": \"Subscriber\",\"Casual\": \"Customer\"})"
   ]
  },
  {
   "cell_type": "code",
   "execution_count": 114,
   "metadata": {},
   "outputs": [],
   "source": [
    "# Save cleaned data to a csv file to begin analysis\n",
    "cleaned_data = no_outliers_data\n",
    "cleaned_data.to_csv(\"201719MinneapolisCleaned.csv\", index=False)"
   ]
  },
  {
   "cell_type": "markdown",
   "metadata": {},
   "source": [
    "#### Start of data analysis"
   ]
  },
  {
   "cell_type": "code",
   "execution_count": null,
   "metadata": {},
   "outputs": [],
   "source": [
    "### Gender: 0=Unknown, 1=Male, 2=Female"
   ]
  },
  {
   "cell_type": "code",
   "execution_count": 3,
   "metadata": {
    "scrolled": true
   },
   "outputs": [
    {
     "name": "stderr",
     "output_type": "stream",
     "text": [
      "/Library/Frameworks/Python.framework/Versions/3.8/lib/python3.8/site-packages/IPython/core/interactiveshell.py:3062: DtypeWarning: Columns (9) have mixed types.Specify dtype option on import or set low_memory=False.\n",
      "  has_raised = await self.run_ast_nodes(code_ast.body, cell_name,\n"
     ]
    },
    {
     "data": {
      "text/html": [
       "<div>\n",
       "<style scoped>\n",
       "    .dataframe tbody tr th:only-of-type {\n",
       "        vertical-align: middle;\n",
       "    }\n",
       "\n",
       "    .dataframe tbody tr th {\n",
       "        vertical-align: top;\n",
       "    }\n",
       "\n",
       "    .dataframe thead th {\n",
       "        text-align: right;\n",
       "    }\n",
       "</style>\n",
       "<table border=\"1\" class=\"dataframe\">\n",
       "  <thead>\n",
       "    <tr style=\"text-align: right;\">\n",
       "      <th></th>\n",
       "      <th>tripduration</th>\n",
       "      <th>start_time</th>\n",
       "      <th>end_time</th>\n",
       "      <th>start station name</th>\n",
       "      <th>end station name</th>\n",
       "      <th>bikeid</th>\n",
       "      <th>usertype</th>\n",
       "      <th>birth year</th>\n",
       "      <th>gender</th>\n",
       "      <th>bike type</th>\n",
       "      <th>year</th>\n",
       "      <th>month</th>\n",
       "      <th>start_hour</th>\n",
       "      <th>day_of_week</th>\n",
       "    </tr>\n",
       "  </thead>\n",
       "  <tbody>\n",
       "    <tr>\n",
       "      <th>0</th>\n",
       "      <td>19.533333</td>\n",
       "      <td>2018-09-02 11:35:35.070</td>\n",
       "      <td>2018-09-02 11:55:07.817</td>\n",
       "      <td>Marshall Street NE &amp; 8th Ave NE</td>\n",
       "      <td>11th Street &amp; Hennepin</td>\n",
       "      <td>2.0</td>\n",
       "      <td>Subscriber</td>\n",
       "      <td>1990.0</td>\n",
       "      <td>2.0</td>\n",
       "      <td>Classic</td>\n",
       "      <td>2018</td>\n",
       "      <td>9</td>\n",
       "      <td>11</td>\n",
       "      <td>Sunday</td>\n",
       "    </tr>\n",
       "    <tr>\n",
       "      <th>1</th>\n",
       "      <td>3.166667</td>\n",
       "      <td>2018-09-05 17:24:45.614</td>\n",
       "      <td>2018-09-05 17:27:56.343</td>\n",
       "      <td>11th Street &amp; Hennepin</td>\n",
       "      <td>9th Street N &amp; Hawthorne Ave</td>\n",
       "      <td>2.0</td>\n",
       "      <td>Subscriber</td>\n",
       "      <td>1989.0</td>\n",
       "      <td>0.0</td>\n",
       "      <td>Classic</td>\n",
       "      <td>2018</td>\n",
       "      <td>9</td>\n",
       "      <td>17</td>\n",
       "      <td>Wednesday</td>\n",
       "    </tr>\n",
       "    <tr>\n",
       "      <th>2</th>\n",
       "      <td>5.416667</td>\n",
       "      <td>2018-09-05 18:14:11.883</td>\n",
       "      <td>2018-09-05 18:19:37.289</td>\n",
       "      <td>IDS Center</td>\n",
       "      <td>West 15th Street &amp; Willow</td>\n",
       "      <td>2.0</td>\n",
       "      <td>Customer</td>\n",
       "      <td>1978.0</td>\n",
       "      <td>1.0</td>\n",
       "      <td>Classic</td>\n",
       "      <td>2018</td>\n",
       "      <td>9</td>\n",
       "      <td>18</td>\n",
       "      <td>Wednesday</td>\n",
       "    </tr>\n",
       "    <tr>\n",
       "      <th>3</th>\n",
       "      <td>32.333333</td>\n",
       "      <td>2018-09-05 20:52:23.225</td>\n",
       "      <td>2018-09-05 21:24:43.882</td>\n",
       "      <td>West 15th Street &amp; Willow</td>\n",
       "      <td>West 36th Street &amp; Bryant Ave S</td>\n",
       "      <td>2.0</td>\n",
       "      <td>Subscriber</td>\n",
       "      <td>1964.0</td>\n",
       "      <td>1.0</td>\n",
       "      <td>Classic</td>\n",
       "      <td>2018</td>\n",
       "      <td>9</td>\n",
       "      <td>20</td>\n",
       "      <td>Wednesday</td>\n",
       "    </tr>\n",
       "    <tr>\n",
       "      <th>4</th>\n",
       "      <td>9.500000</td>\n",
       "      <td>2018-09-07 08:01:18.970</td>\n",
       "      <td>2018-09-07 08:10:49.079</td>\n",
       "      <td>YWCA Downtown</td>\n",
       "      <td>7th Street &amp; 4th Ave S</td>\n",
       "      <td>2.0</td>\n",
       "      <td>Customer</td>\n",
       "      <td>1954.0</td>\n",
       "      <td>2.0</td>\n",
       "      <td>Classic</td>\n",
       "      <td>2018</td>\n",
       "      <td>9</td>\n",
       "      <td>8</td>\n",
       "      <td>Friday</td>\n",
       "    </tr>\n",
       "  </tbody>\n",
       "</table>\n",
       "</div>"
      ],
      "text/plain": [
       "   tripduration               start_time                 end_time  \\\n",
       "0     19.533333  2018-09-02 11:35:35.070  2018-09-02 11:55:07.817   \n",
       "1      3.166667  2018-09-05 17:24:45.614  2018-09-05 17:27:56.343   \n",
       "2      5.416667  2018-09-05 18:14:11.883  2018-09-05 18:19:37.289   \n",
       "3     32.333333  2018-09-05 20:52:23.225  2018-09-05 21:24:43.882   \n",
       "4      9.500000  2018-09-07 08:01:18.970  2018-09-07 08:10:49.079   \n",
       "\n",
       "                start station name                 end station name  bikeid  \\\n",
       "0  Marshall Street NE & 8th Ave NE           11th Street & Hennepin     2.0   \n",
       "1           11th Street & Hennepin     9th Street N & Hawthorne Ave     2.0   \n",
       "2                       IDS Center        West 15th Street & Willow     2.0   \n",
       "3        West 15th Street & Willow  West 36th Street & Bryant Ave S     2.0   \n",
       "4                    YWCA Downtown           7th Street & 4th Ave S     2.0   \n",
       "\n",
       "     usertype  birth year  gender bike type  year  month  start_hour  \\\n",
       "0  Subscriber      1990.0     2.0   Classic  2018      9          11   \n",
       "1  Subscriber      1989.0     0.0   Classic  2018      9          17   \n",
       "2    Customer      1978.0     1.0   Classic  2018      9          18   \n",
       "3  Subscriber      1964.0     1.0   Classic  2018      9          20   \n",
       "4    Customer      1954.0     2.0   Classic  2018      9           8   \n",
       "\n",
       "  day_of_week  \n",
       "0      Sunday  \n",
       "1   Wednesday  \n",
       "2   Wednesday  \n",
       "3   Wednesday  \n",
       "4      Friday  "
      ]
     },
     "execution_count": 3,
     "metadata": {},
     "output_type": "execute_result"
    }
   ],
   "source": [
    "data=pd.read_csv(\"201719MinneapolisCleaned.csv\")\n",
    "data.head()"
   ]
  },
  {
   "cell_type": "markdown",
   "metadata": {},
   "source": [
    "RIDER DEMOGRAPHICS"
   ]
  },
  {
   "cell_type": "code",
   "execution_count": 4,
   "metadata": {},
   "outputs": [],
   "source": [
    "# Create dataframes for each year\n",
    "grouped = data.groupby(data['year'])\n",
    "df1 = grouped.get_group(2017)\n",
    "df2 = grouped.get_group(2018)\n",
    "df3 = grouped.get_group(2019)"
   ]
  },
  {
   "cell_type": "code",
   "execution_count": 4,
   "metadata": {},
   "outputs": [],
   "source": [
    "genders = data['gender'].value_counts().keys().to_list()\n",
    "counts = data['gender'].value_counts().tolist()"
   ]
  },
  {
   "cell_type": "code",
   "execution_count": 7,
   "metadata": {},
   "outputs": [
    {
     "data": {
      "image/png": "[encoded data removed]",
      "text/plain": [
       "<Figure size 432x288 with 1 Axes>"
      ]
     },
     "metadata": {},
     "output_type": "display_data"
    }
   ],
   "source": [
    "#Gender: 0=Unknown, 1=Male, 2=Female\n",
    "plt.pie([counts[0], counts[2]], labels=['Male', 'Female'], colors = ['gold', 'lightskyblue'], autopct='%1.1f%%')\n",
    "plt.title('Gender Ratio of Riders: Minneapolis 2017-2019')\n",
    "plt.show()\n",
    "# based on users that provided their gender"
   ]
  },
  {
   "cell_type": "code",
   "execution_count": 5,
   "metadata": {},
   "outputs": [],
   "source": [
    "users = data['usertype'].value_counts().keys().to_list()\n",
    "count = data['usertype'].value_counts().to_list()"
   ]
  },
  {
   "cell_type": "code",
   "execution_count": 8,
   "metadata": {},
   "outputs": [
    {
     "data": {
      "image/png": "[encoded data removed]",
      "text/plain": [
       "<Figure size 432x288 with 1 Axes>"
      ]
     },
     "metadata": {},
     "output_type": "display_data"
    }
   ],
   "source": [
    "plt.pie(count[0:2], labels=users[0:2], colors = ['lightcoral', 'yellowgreen'], autopct='%1.1f%%')\n",
    "plt.title(\"Subscribership Ratio of Riders: Minneapolis 2017-19\")\n",
    "plt.show()"
   ]
  },
  {
   "cell_type": "code",
   "execution_count": 8,
   "metadata": {},
   "outputs": [
    {
     "data": {
      "image/png": "[encoded data removed]",
      "text/plain": [
       "<Figure size 432x288 with 1 Axes>"
      ]
     },
     "metadata": {},
     "output_type": "display_data"
    }
   ],
   "source": [
    "users_17 = df1['usertype'].value_counts().keys().to_list()\n",
    "count_17 = df1['usertype'].value_counts().to_list()\n",
    "\n",
    "plt.pie(count_17[0:2], labels=users_17[0:2], colors = ['lightcoral', 'yellowgreen'], autopct='%1.1f%%')\n",
    "plt.title(\"Subscribership Ratio of Riders: Minneapolis 2017\")\n",
    "plt.show()\n"
   ]
  },
  {
   "cell_type": "code",
   "execution_count": 10,
   "metadata": {},
   "outputs": [
    {
     "data": {
      "image/png": "[encoded data removed]",
      "text/plain": [
       "<Figure size 432x288 with 1 Axes>"
      ]
     },
     "metadata": {},
     "output_type": "display_data"
    }
   ],
   "source": [
    "users_18 = df2['usertype'].value_counts().keys().to_list()\n",
    "count_18 = df2['usertype'].value_counts().to_list()\n",
    "\n",
    "plt.pie(count_18, labels=users_18, colors = ['lightcoral', 'yellowgreen'], autopct='%1.1f%%')\n",
    "plt.title(\"Subscribership Ratio of Riders: Minneapolis 2018\")\n",
    "plt.show()"
   ]
  },
  {
   "cell_type": "code",
   "execution_count": 12,
   "metadata": {},
   "outputs": [
    {
     "data": {
      "image/png": "[encoded data removed]",
      "text/plain": [
       "<Figure size 432x288 with 1 Axes>"
      ]
     },
     "metadata": {},
     "output_type": "display_data"
    }
   ],
   "source": [
    "users_19 = df3['usertype'].value_counts().keys().to_list()\n",
    "count_19 = df3['usertype'].value_counts().to_list()\n",
    "\n",
    "plt.pie(count_19, labels=users_19, colors = ['lightcoral', 'yellowgreen'], autopct='%1.1f%%')\n",
    "plt.title(\"Subscribership Ratio of Riders: Minneapolis 2019\")\n",
    "plt.show()"
   ]
  },
  {
   "cell_type": "code",
   "execution_count": 13,
   "metadata": {},
   "outputs": [],
   "source": [
    "data['year']=data['year'].astype(float)\n",
    "data['age']=data['year']-data['birth year']"
   ]
  },
  {
   "cell_type": "code",
   "execution_count": 14,
   "metadata": {},
   "outputs": [
    {
     "data": {
      "text/html": [
       "<div>\n",
       "<style scoped>\n",
       "    .dataframe tbody tr th:only-of-type {\n",
       "        vertical-align: middle;\n",
       "    }\n",
       "\n",
       "    .dataframe tbody tr th {\n",
       "        vertical-align: top;\n",
       "    }\n",
       "\n",
       "    .dataframe thead th {\n",
       "        text-align: right;\n",
       "    }\n",
       "</style>\n",
       "<table border=\"1\" class=\"dataframe\">\n",
       "  <thead>\n",
       "    <tr style=\"text-align: right;\">\n",
       "      <th></th>\n",
       "      <th>tripduration</th>\n",
       "      <th>start_time</th>\n",
       "      <th>end_time</th>\n",
       "      <th>start station name</th>\n",
       "      <th>end station name</th>\n",
       "      <th>bikeid</th>\n",
       "      <th>usertype</th>\n",
       "      <th>birth year</th>\n",
       "      <th>gender</th>\n",
       "      <th>bike type</th>\n",
       "      <th>year</th>\n",
       "      <th>month</th>\n",
       "      <th>start_hour</th>\n",
       "      <th>day_of_week</th>\n",
       "      <th>age</th>\n",
       "    </tr>\n",
       "  </thead>\n",
       "  <tbody>\n",
       "    <tr>\n",
       "      <th>0</th>\n",
       "      <td>19.533333</td>\n",
       "      <td>2018-09-02 11:35:35.070</td>\n",
       "      <td>2018-09-02 11:55:07.817</td>\n",
       "      <td>Marshall Street NE &amp; 8th Ave NE</td>\n",
       "      <td>11th Street &amp; Hennepin</td>\n",
       "      <td>2.0</td>\n",
       "      <td>Subscriber</td>\n",
       "      <td>1990.0</td>\n",
       "      <td>2.0</td>\n",
       "      <td>Classic</td>\n",
       "      <td>2018.0</td>\n",
       "      <td>9</td>\n",
       "      <td>11</td>\n",
       "      <td>Sunday</td>\n",
       "      <td>28.0</td>\n",
       "    </tr>\n",
       "    <tr>\n",
       "      <th>1</th>\n",
       "      <td>3.166667</td>\n",
       "      <td>2018-09-05 17:24:45.614</td>\n",
       "      <td>2018-09-05 17:27:56.343</td>\n",
       "      <td>11th Street &amp; Hennepin</td>\n",
       "      <td>9th Street N &amp; Hawthorne Ave</td>\n",
       "      <td>2.0</td>\n",
       "      <td>Subscriber</td>\n",
       "      <td>1989.0</td>\n",
       "      <td>0.0</td>\n",
       "      <td>Classic</td>\n",
       "      <td>2018.0</td>\n",
       "      <td>9</td>\n",
       "      <td>17</td>\n",
       "      <td>Wednesday</td>\n",
       "      <td>29.0</td>\n",
       "    </tr>\n",
       "    <tr>\n",
       "      <th>2</th>\n",
       "      <td>5.416667</td>\n",
       "      <td>2018-09-05 18:14:11.883</td>\n",
       "      <td>2018-09-05 18:19:37.289</td>\n",
       "      <td>IDS Center</td>\n",
       "      <td>West 15th Street &amp; Willow</td>\n",
       "      <td>2.0</td>\n",
       "      <td>Customer</td>\n",
       "      <td>1978.0</td>\n",
       "      <td>1.0</td>\n",
       "      <td>Classic</td>\n",
       "      <td>2018.0</td>\n",
       "      <td>9</td>\n",
       "      <td>18</td>\n",
       "      <td>Wednesday</td>\n",
       "      <td>40.0</td>\n",
       "    </tr>\n",
       "    <tr>\n",
       "      <th>3</th>\n",
       "      <td>32.333333</td>\n",
       "      <td>2018-09-05 20:52:23.225</td>\n",
       "      <td>2018-09-05 21:24:43.882</td>\n",
       "      <td>West 15th Street &amp; Willow</td>\n",
       "      <td>West 36th Street &amp; Bryant Ave S</td>\n",
       "      <td>2.0</td>\n",
       "      <td>Subscriber</td>\n",
       "      <td>1964.0</td>\n",
       "      <td>1.0</td>\n",
       "      <td>Classic</td>\n",
       "      <td>2018.0</td>\n",
       "      <td>9</td>\n",
       "      <td>20</td>\n",
       "      <td>Wednesday</td>\n",
       "      <td>54.0</td>\n",
       "    </tr>\n",
       "    <tr>\n",
       "      <th>4</th>\n",
       "      <td>9.500000</td>\n",
       "      <td>2018-09-07 08:01:18.970</td>\n",
       "      <td>2018-09-07 08:10:49.079</td>\n",
       "      <td>YWCA Downtown</td>\n",
       "      <td>7th Street &amp; 4th Ave S</td>\n",
       "      <td>2.0</td>\n",
       "      <td>Customer</td>\n",
       "      <td>1954.0</td>\n",
       "      <td>2.0</td>\n",
       "      <td>Classic</td>\n",
       "      <td>2018.0</td>\n",
       "      <td>9</td>\n",
       "      <td>8</td>\n",
       "      <td>Friday</td>\n",
       "      <td>64.0</td>\n",
       "    </tr>\n",
       "  </tbody>\n",
       "</table>\n",
       "</div>"
      ],
      "text/plain": [
       "   tripduration               start_time                 end_time  \\\n",
       "0     19.533333  2018-09-02 11:35:35.070  2018-09-02 11:55:07.817   \n",
       "1      3.166667  2018-09-05 17:24:45.614  2018-09-05 17:27:56.343   \n",
       "2      5.416667  2018-09-05 18:14:11.883  2018-09-05 18:19:37.289   \n",
       "3     32.333333  2018-09-05 20:52:23.225  2018-09-05 21:24:43.882   \n",
       "4      9.500000  2018-09-07 08:01:18.970  2018-09-07 08:10:49.079   \n",
       "\n",
       "                start station name                 end station name  bikeid  \\\n",
       "0  Marshall Street NE & 8th Ave NE           11th Street & Hennepin     2.0   \n",
       "1           11th Street & Hennepin     9th Street N & Hawthorne Ave     2.0   \n",
       "2                       IDS Center        West 15th Street & Willow     2.0   \n",
       "3        West 15th Street & Willow  West 36th Street & Bryant Ave S     2.0   \n",
       "4                    YWCA Downtown           7th Street & 4th Ave S     2.0   \n",
       "\n",
       "     usertype  birth year  gender bike type    year  month  start_hour  \\\n",
       "0  Subscriber      1990.0     2.0   Classic  2018.0      9          11   \n",
       "1  Subscriber      1989.0     0.0   Classic  2018.0      9          17   \n",
       "2    Customer      1978.0     1.0   Classic  2018.0      9          18   \n",
       "3  Subscriber      1964.0     1.0   Classic  2018.0      9          20   \n",
       "4    Customer      1954.0     2.0   Classic  2018.0      9           8   \n",
       "\n",
       "  day_of_week   age  \n",
       "0      Sunday  28.0  \n",
       "1   Wednesday  29.0  \n",
       "2   Wednesday  40.0  \n",
       "3   Wednesday  54.0  \n",
       "4      Friday  64.0  "
      ]
     },
     "execution_count": 14,
     "metadata": {},
     "output_type": "execute_result"
    }
   ],
   "source": [
    "data.head()"
   ]
  },
  {
   "cell_type": "code",
   "execution_count": 15,
   "metadata": {},
   "outputs": [],
   "source": [
    "age_dict = dict(zip(data['age'].value_counts().keys().to_list(), data['age'].value_counts().to_list()))\n",
    "#Remove birth years that don't make sense (any age more than 80 is removed)\n",
    "cleaned_age = {}\n",
    "for key in age_dict:\n",
    "        if(int(key)<=80):\n",
    "            cleaned_age[int(key)]=age_dict[key]"
   ]
  },
  {
   "cell_type": "code",
   "execution_count": 20,
   "metadata": {
    "scrolled": false
   },
   "outputs": [
    {
     "data": {
      "image/png": "[encoded data removed]",
      "text/plain": [
       "<Figure size 432x288 with 1 Axes>"
      ]
     },
     "metadata": {
      "needs_background": "light"
     },
     "output_type": "display_data"
    }
   ],
   "source": [
    "plt.bar(list(cleaned_age.keys()), list(cleaned_age.values()))\n",
    "plt.xticks((19,49,80))\n",
    "plt.xlabel(\"Age\")\n",
    "plt.ylabel(\"# of Rides\")\n",
    "plt.title(\"Number of Rides by Age: Minneapolis 2017-19\")\n",
    "plt.show()"
   ]
  },
  {
   "cell_type": "code",
   "execution_count": 21,
   "metadata": {},
   "outputs": [],
   "source": [
    "birth_dict = dict(zip(data['birth year'].value_counts().keys().to_list(), data['birth year'].value_counts().to_list()))\n",
    "#Remove birth years that don't make sense (any age more than 80 is removed)\n",
    "cleaned_birth = {}\n",
    "for key in birth_dict:\n",
    "        if(int(key)>=1939):\n",
    "            cleaned_birth[int(key)]=birth_dict[key]"
   ]
  },
  {
   "cell_type": "code",
   "execution_count": 23,
   "metadata": {},
   "outputs": [
    {
     "data": {
      "image/png": "[encoded data removed]",
      "text/plain": [
       "<Figure size 432x288 with 1 Axes>"
      ]
     },
     "metadata": {
      "needs_background": "light"
     },
     "output_type": "display_data"
    }
   ],
   "source": [
    "plt.bar(list(cleaned_birth.keys()), list(cleaned_birth.values()))\n",
    "plt.xticks((1939,1969, 2003))\n",
    "plt.xlabel(\"Birth Year\")\n",
    "plt.ylabel(\"# of Rides\")\n",
    "plt.title(\"Number of Rides by Birth Year: Minneapolis 2017-19\")\n",
    "plt.show()"
   ]
  },
  {
   "cell_type": "markdown",
   "metadata": {},
   "source": [
    "RIDES PER YEAR"
   ]
  },
  {
   "cell_type": "code",
   "execution_count": 24,
   "metadata": {},
   "outputs": [],
   "source": [
    "#track ridership per year\n",
    "years = data['year'].value_counts().keys().to_list()\n",
    "rides = data['year'].value_counts().to_list()"
   ]
  },
  {
   "cell_type": "code",
   "execution_count": 25,
   "metadata": {
    "scrolled": true
   },
   "outputs": [
    {
     "data": {
      "image/png": "[encoded data removed]",
      "text/plain": [
       "<Figure size 432x288 with 1 Axes>"
      ]
     },
     "metadata": {
      "needs_background": "light"
     },
     "output_type": "display_data"
    }
   ],
   "source": [
    "plt.bar(years, rides)\n",
    "plt.xticks([2017,2018,2019])\n",
    "plt.xlabel(\"Year\")\n",
    "plt.ylabel(\"# of rides\")\n",
    "plt.title(\"Number of Bike Rides per Year: Minneapolis 2017-19\")\n",
    "plt.show()"
   ]
  },
  {
   "cell_type": "markdown",
   "metadata": {},
   "source": [
    "BIKES IN SYSTEM"
   ]
  },
  {
   "cell_type": "code",
   "execution_count": 37,
   "metadata": {},
   "outputs": [],
   "source": [
    "num_bikes_year =[]\n",
    "num_bikes2 = len(df2['bikeid'].unique())\n",
    "num_bikes_year.append(num_bikes2)"
   ]
  },
  {
   "cell_type": "code",
   "execution_count": 38,
   "metadata": {},
   "outputs": [],
   "source": [
    "num_bikes3 = len(df3['bikeid'].unique())\n",
    "num_bikes_year.append(num_bikes3)"
   ]
  },
  {
   "cell_type": "code",
   "execution_count": 39,
   "metadata": {},
   "outputs": [
    {
     "data": {
      "image/png": "[encoded data removed]",
      "text/plain": [
       "<Figure size 432x288 with 1 Axes>"
      ]
     },
     "metadata": {
      "needs_background": "light"
     },
     "output_type": "display_data"
    }
   ],
   "source": [
    "plt.bar([2018, 2019], num_bikes_year)\n",
    "plt.xticks([2018, 2019])\n",
    "plt.xlabel(\"Year\")\n",
    "plt.ylabel(\"# of Bikes\")\n",
    "plt.title(\"Number of Bikes in Minneapolis System 2018-19\")\n",
    "plt.show()"
   ]
  },
  {
   "cell_type": "markdown",
   "metadata": {},
   "source": [
    "DAYS OF WEEK AND HOURS"
   ]
  },
  {
   "cell_type": "code",
   "execution_count": 40,
   "metadata": {},
   "outputs": [],
   "source": [
    "days = data['day_of_week'].value_counts().keys().to_list()\n",
    "rides = data['day_of_week'].value_counts().to_list()\n",
    "#Hardcoded the sorting into order of the week\n",
    "days_sorted = ['Monday', 'Tuesday', 'Wednesday', 'Thursday', 'Friday', 'Saturday', 'Sunday']\n",
    "rides_sorted = [155948,160023,165606,169107,184538,207284,176816]"
   ]
  },
  {
   "cell_type": "code",
   "execution_count": 41,
   "metadata": {},
   "outputs": [
    {
     "data": {
      "image/png": "[encoded data removed]",
      "text/plain": [
       "<Figure size 432x288 with 1 Axes>"
      ]
     },
     "metadata": {
      "needs_background": "light"
     },
     "output_type": "display_data"
    }
   ],
   "source": [
    "plt.bar(days_sorted, rides_sorted)\n",
    "plt.xticks(days_sorted)\n",
    "plt.xlabel(\"Day of Week\")\n",
    "plt.ylabel(\"# of rides\")\n",
    "plt.title(\"Number of Bike Rides by Day of Week: Minneapolis 2017-19\")\n",
    "plt.show()"
   ]
  },
  {
   "cell_type": "code",
   "execution_count": 42,
   "metadata": {},
   "outputs": [],
   "source": [
    "#Make a data frame for weekdays and weekend\n",
    "mask = data['day_of_week'].isin(['Saturday','Sunday'])\n",
    "weekend_df=data[mask]\n",
    "weekday_df=data[~mask]"
   ]
  },
  {
   "cell_type": "code",
   "execution_count": 43,
   "metadata": {},
   "outputs": [],
   "source": [
    "weekend_hours = weekend_df['start_hour'].value_counts().keys().to_list()\n",
    "weekend_count = weekend_df['start_hour'].value_counts().to_list()"
   ]
  },
  {
   "cell_type": "code",
   "execution_count": 44,
   "metadata": {},
   "outputs": [
    {
     "data": {
      "image/png": "[encoded data removed]",
      "text/plain": [
       "<Figure size 432x288 with 1 Axes>"
      ]
     },
     "metadata": {
      "needs_background": "light"
     },
     "output_type": "display_data"
    }
   ],
   "source": [
    "plt.bar(weekend_hours, weekend_count)\n",
    "plt.xticks(weekend_hours)\n",
    "plt.xlabel(\"Hour of Day\")\n",
    "plt.ylabel(\"# of rides\")\n",
    "plt.title(\"Number of Bike Rides by Hour of Day on Weekend: Minneapolis 2017-19\")\n",
    "plt.show()"
   ]
  },
  {
   "cell_type": "code",
   "execution_count": 45,
   "metadata": {},
   "outputs": [],
   "source": [
    "weekday_hours = weekday_df['start_hour'].value_counts().keys().to_list()\n",
    "weekday_count = weekday_df['start_hour'].value_counts().to_list()"
   ]
  },
  {
   "cell_type": "code",
   "execution_count": 47,
   "metadata": {},
   "outputs": [
    {
     "data": {
      "image/png": "[encoded data removed]",
      "text/plain": [
       "<Figure size 432x288 with 1 Axes>"
      ]
     },
     "metadata": {
      "needs_background": "light"
     },
     "output_type": "display_data"
    }
   ],
   "source": [
    "plt.bar(weekday_hours, weekday_count)\n",
    "plt.xticks(weekday_hours)\n",
    "plt.xlabel(\"Hour of Day\")\n",
    "plt.ylabel(\"# of rides\")\n",
    "plt.title(\"Number of Bike Rides by Hour of Day During Week: Minneapolis 2017-19\")\n",
    "plt.show()"
   ]
  },
  {
   "cell_type": "code",
   "execution_count": 48,
   "metadata": {},
   "outputs": [],
   "source": [
    "weekend_dict = dict(zip(weekend_hours, weekend_count))\n",
    "weekend_keys = (list(weekend_dict.keys()))\n",
    "weekend_keys.sort()\n",
    "\n",
    "weekend_sorted={}\n",
    "for e in weekend_keys:\n",
    "    weekend_sorted[e]=weekend_dict[e]\n",
    "\n",
    "weekend_keys = list(weekend_sorted.keys())\n",
    "weekend_values = list(weekend_sorted.values())"
   ]
  },
  {
   "cell_type": "code",
   "execution_count": 49,
   "metadata": {},
   "outputs": [],
   "source": [
    "weekday_dict = dict(zip(weekday_hours, weekday_count))\n",
    "weekday_keys = (list(weekday_dict.keys()))\n",
    "weekday_keys.sort()\n",
    "\n",
    "weekday_sorted={}\n",
    "for e in weekday_keys:\n",
    "    weekday_sorted[e]=weekday_dict[e]\n",
    "\n",
    "weekday_keys = list(weekday_sorted.keys())\n",
    "weekday_values = list(weekday_sorted.values())"
   ]
  },
  {
   "cell_type": "code",
   "execution_count": 50,
   "metadata": {},
   "outputs": [
    {
     "data": {
      "image/png": "[encoded data removed]",
      "text/plain": [
       "<Figure size 432x288 with 1 Axes>"
      ]
     },
     "metadata": {
      "needs_background": "light"
     },
     "output_type": "display_data"
    }
   ],
   "source": [
    "x = np.arange(len(weekend_keys))\n",
    "ax = plt.subplot(111)\n",
    "ax.bar(x-0.2, weekend_values, width=0.4, color='r', align='center', label='Weekend')\n",
    "ax.bar(x+0.2, weekday_values, width=0.4, align='center', label='Weekday')\n",
    "plt.xticks(weekend_keys)\n",
    "plt.xlabel('Hour of Day')\n",
    "plt.ylabel('# of Rides')\n",
    "plt.title('Number of Rides by Hour: Weekend v. Day of Week: Minneapolis 2017-19')\n",
    "plt.legend(loc = 'best')\n",
    "plt.show()"
   ]
  },
  {
   "cell_type": "markdown",
   "metadata": {},
   "source": [
    "MONTHS"
   ]
  },
  {
   "cell_type": "code",
   "execution_count": 56,
   "metadata": {},
   "outputs": [],
   "source": [
    "#track rides by month over 3 year period\n",
    "months = data['month'].value_counts().keys().to_list()\n",
    "num_riders = data['month'].value_counts().to_list()"
   ]
  },
  {
   "cell_type": "code",
   "execution_count": 57,
   "metadata": {},
   "outputs": [
    {
     "name": "stdout",
     "output_type": "stream",
     "text": [
      "[7, 6, 8, 9, 5, 10, 4, 11, 1, 2, 3, 12]\n",
      "[254129, 214230, 212682, 179159, 172120, 104681, 65927, 16394, 0, 0, 0, 0]\n"
     ]
    }
   ],
   "source": [
    "months.extend([1,2,3,12])\n",
    "num_riders.extend([0,0,0,0])"
   ]
  },
  {
   "cell_type": "code",
   "execution_count": 58,
   "metadata": {},
   "outputs": [
    {
     "data": {
      "image/png": "[encoded data removed]",
      "text/plain": [
       "<Figure size 432x288 with 1 Axes>"
      ]
     },
     "metadata": {
      "needs_background": "light"
     },
     "output_type": "display_data"
    }
   ],
   "source": [
    "# Bike share shut down from December to March for Winter\n",
    "plt.bar(months, num_riders)\n",
    "plt.xticks(months)\n",
    "plt.xlabel(\"Month of Year\")\n",
    "plt.ylabel(\"# of rides\")\n",
    "plt.title(\"Number of Bike Rides by Month: Minneapolis 2017-19\")\n",
    "plt.show()"
   ]
  },
  {
   "cell_type": "markdown",
   "metadata": {},
   "source": [
    "START/END STATIONS"
   ]
  },
  {
   "cell_type": "code",
   "execution_count": 59,
   "metadata": {},
   "outputs": [],
   "source": [
    "#track most common and least common start stations over 3 year period\n",
    "start_stations = data['start station name'].value_counts().keys().to_list()\n",
    "num_start = data['start station name'].value_counts().to_list()\n",
    "\n",
    "start_dict = dict(zip(start_stations, num_start))"
   ]
  },
  {
   "cell_type": "code",
   "execution_count": 60,
   "metadata": {},
   "outputs": [
    {
     "data": {
      "image/png": "[encoded data removed]",
      "text/plain": [
       "<Figure size 432x288 with 1 Axes>"
      ]
     },
     "metadata": {
      "needs_background": "light"
     },
     "output_type": "display_data"
    }
   ],
   "source": [
    "plt.bar(start_stations[0:10], num_start[0:10])\n",
    "plt.xticks(start_stations[0:10], rotation='vertical', size=8)\n",
    "plt.xlabel(\"Start Station\")\n",
    "plt.ylabel(\"# of Rides\")\n",
    "plt.title(\"Most Popular Start Stations: Minneapolis 2017-19\")\n",
    "plt.show()"
   ]
  },
  {
   "cell_type": "code",
   "execution_count": 61,
   "metadata": {},
   "outputs": [
    {
     "data": {
      "image/png": "[encoded data removed]",
      "text/plain": [
       "<Figure size 432x288 with 1 Axes>"
      ]
     },
     "metadata": {
      "needs_background": "light"
     },
     "output_type": "display_data"
    }
   ],
   "source": [
    "plt.bar(start_stations[-10:], num_start[-10:])\n",
    "plt.xticks(start_stations[-10:], rotation='vertical', size=8)\n",
    "plt.xlabel(\"Start Station\")\n",
    "plt.ylabel(\"# of Rides\")\n",
    "plt.title(\"Least Popular Start Stations: Minneapolis 2017-19\")\n",
    "plt.show()"
   ]
  },
  {
   "cell_type": "code",
   "execution_count": 62,
   "metadata": {},
   "outputs": [],
   "source": [
    "#track most common and least common end stations over 3 year period\n",
    "end_stations = data['end station name'].value_counts().keys().to_list()\n",
    "num_end = data['end station name'].value_counts().to_list()\n",
    "\n",
    "end_dict = dict(zip(end_stations, num_end))"
   ]
  },
  {
   "cell_type": "code",
   "execution_count": 63,
   "metadata": {},
   "outputs": [
    {
     "data": {
      "image/png": "[encoded data removed]",
      "text/plain": [
       "<Figure size 432x288 with 1 Axes>"
      ]
     },
     "metadata": {
      "needs_background": "light"
     },
     "output_type": "display_data"
    }
   ],
   "source": [
    "plt.bar(end_stations[0:10], num_end[0:10])\n",
    "plt.xticks(end_stations[0:10], rotation='vertical', size=8)\n",
    "plt.xlabel(\"End Station\")\n",
    "plt.ylabel(\"# of Rides\")\n",
    "plt.title(\"Most Popular End Stations: Minneapolis 2017-19\")\n",
    "plt.show()"
   ]
  },
  {
   "cell_type": "code",
   "execution_count": 64,
   "metadata": {},
   "outputs": [
    {
     "data": {
      "image/png": "[encoded data removed]",
      "text/plain": [
       "<Figure size 432x288 with 1 Axes>"
      ]
     },
     "metadata": {
      "needs_background": "light"
     },
     "output_type": "display_data"
    }
   ],
   "source": [
    "plt.bar(end_stations[-10:], num_end[-10:])\n",
    "plt.xticks(end_stations[-10:], rotation='vertical', size=8)\n",
    "plt.xlabel(\"End Station\")\n",
    "plt.ylabel(\"# of Rides\")\n",
    "plt.title(\"Least Popular End Stations: Minneapolis 2017-19\")\n",
    "plt.show()"
   ]
  },
  {
   "cell_type": "code",
   "execution_count": 65,
   "metadata": {},
   "outputs": [],
   "source": [
    "#combine start and end dicts and sort by value\n",
    "def combine(d1, d2):\n",
    "    new_dict=d1\n",
    "    for key in d2:\n",
    "        if key in new_dict:\n",
    "            new_dict[key] += d2[key]\n",
    "        else:\n",
    "            new_dict[key]=d2[key]\n",
    "    return new_dict\n",
    "\n",
    "#Sort overall dict by value in increasing order to identify top and bottom stations\n",
    "overall_dict = combine(start_dict, end_dict)\n",
    "overall_dict={k: v for k, v in sorted(overall_dict.items(), key=lambda item: item[1])}\n"
   ]
  },
  {
   "cell_type": "code",
   "execution_count": 66,
   "metadata": {},
   "outputs": [
    {
     "data": {
      "image/png": "[encoded data removed]",
      "text/plain": [
       "<Figure size 432x288 with 1 Axes>"
      ]
     },
     "metadata": {
      "needs_background": "light"
     },
     "output_type": "display_data"
    }
   ],
   "source": [
    "plt.bar((list(overall_dict.keys()))[-10:], (list(overall_dict.values()))[-10:])\n",
    "plt.xticks((list(overall_dict.keys()))[-10:], rotation='vertical', size=8)\n",
    "plt.xlabel(\"Station\")\n",
    "plt.ylabel(\"# of Rides\")\n",
    "plt.title(\"Most Used Stations Overall: Minneapolis 2017-19\")\n",
    "plt.show()\n"
   ]
  },
  {
   "cell_type": "code",
   "execution_count": 67,
   "metadata": {},
   "outputs": [
    {
     "data": {
      "image/png": "[encoded data removed]",
      "text/plain": [
       "<Figure size 432x288 with 1 Axes>"
      ]
     },
     "metadata": {
      "needs_background": "light"
     },
     "output_type": "display_data"
    }
   ],
   "source": [
    "plt.bar((list(overall_dict.keys()))[0:10], (list(overall_dict.values()))[0:10])\n",
    "plt.xticks((list(overall_dict.keys()))[0:10], rotation='vertical', size=8)\n",
    "plt.xlabel(\"Station\")\n",
    "plt.ylabel(\"# of Rides\")\n",
    "plt.title(\"Least Used Stations Overall: Minneapolis 2017-19\")\n",
    "plt.show()"
   ]
  },
  {
   "cell_type": "code",
   "execution_count": 68,
   "metadata": {},
   "outputs": [],
   "source": [
    "#How does the number of stations change?\n",
    "num_stations=[]\n",
    "stations_2017 = len(list(pd.concat([df1['start station name'], df1['end station name']]).unique()))\n",
    "num_stations.append(stations_2017)"
   ]
  },
  {
   "cell_type": "code",
   "execution_count": 69,
   "metadata": {},
   "outputs": [],
   "source": [
    "stations_2018 = len(list(pd.concat([df2['start station name'], df2['end station name']]).unique()))\n",
    "num_stations.append(stations_2018)"
   ]
  },
  {
   "cell_type": "code",
   "execution_count": 70,
   "metadata": {},
   "outputs": [],
   "source": [
    "stations_2019 = len(list(pd.concat([df3['start station name'], df3['end station name']]).unique()))\n",
    "num_stations.append(stations_2019)"
   ]
  },
  {
   "cell_type": "code",
   "execution_count": 71,
   "metadata": {},
   "outputs": [
    {
     "data": {
      "image/png": "[encoded data removed]",
      "text/plain": [
       "<Figure size 432x288 with 1 Axes>"
      ]
     },
     "metadata": {
      "needs_background": "light"
     },
     "output_type": "display_data"
    }
   ],
   "source": [
    "plt.bar([2017,2018,2019], num_stations)\n",
    "plt.xticks([2017,2018,2019])\n",
    "plt.xlabel(\"Year\")\n",
    "plt.ylabel(\"# of Stations\")\n",
    "plt.title(\"Number of Stations per Year: Minneapolis 2017-19\")\n",
    "plt.show()"
   ]
  },
  {
   "cell_type": "markdown",
   "metadata": {},
   "source": [
    "TRIP DURATION"
   ]
  },
  {
   "cell_type": "code",
   "execution_count": 72,
   "metadata": {},
   "outputs": [
    {
     "data": {
      "text/plain": [
       "count    1.219322e+06\n",
       "mean     2.073058e+01\n",
       "std      2.447654e+01\n",
       "min      1.000000e+00\n",
       "25%      6.983333e+00\n",
       "50%      1.303333e+01\n",
       "75%      2.506667e+01\n",
       "max      2.399667e+02\n",
       "Name: tripduration, dtype: float64"
      ]
     },
     "execution_count": 72,
     "metadata": {},
     "output_type": "execute_result"
    }
   ],
   "source": [
    "#determine tripduration statistics (min, max, average, std, etc.)\n",
    "data['tripduration'].describe()"
   ]
  },
  {
   "cell_type": "code",
   "execution_count": 73,
   "metadata": {},
   "outputs": [
    {
     "data": {
      "image/png": "[encoded data removed]",
      "text/plain": [
       "<Figure size 432x288 with 1 Axes>"
      ]
     },
     "metadata": {
      "needs_background": "light"
     },
     "output_type": "display_data"
    }
   ],
   "source": [
    "times = data['tripduration']\n",
    "times.plot.hist(grid=True, bins=240, rwidth=0.9)\n",
    "plt.title('Trip Duration of all Rides: Minneapolis 2017-19')\n",
    "plt.xlabel('Duration (min)')\n",
    "plt.ylabel('# of Rides')\n",
    "ticks=[]\n",
    "for i in range(250):\n",
    "    if i%10==0:\n",
    "        ticks.append(i)\n",
    "plt.xticks(ticks, rotation='vertical', size=8)\n",
    "\n",
    "plt.grid(axis='y', alpha=0.75)"
   ]
  },
  {
   "cell_type": "code",
   "execution_count": 74,
   "metadata": {},
   "outputs": [
    {
     "data": {
      "image/png": "[encoded data removed]",
      "text/plain": [
       "<Figure size 432x288 with 2 Axes>"
      ]
     },
     "metadata": {
      "needs_background": "light"
     },
     "output_type": "display_data"
    }
   ],
   "source": [
    "#Box plot and Dist plot with mean and median lines\n",
    "f, (ax_box, ax_hist) = plt.subplots(2, sharex=True, gridspec_kw= {\"height_ratios\": (0.2, 1)})\n",
    "mean=data['tripduration'].mean()\n",
    "median=data['tripduration'].median()\n",
    "\n",
    "sns.boxplot(data['tripduration'], ax=ax_box)\n",
    "ax_box.axvline(mean, color='r', linestyle='--')\n",
    "ax_box.axvline(median, color='g', linestyle='-')\n",
    "\n",
    "sns.distplot(data['tripduration'], ax=ax_hist)\n",
    "ax_hist.axvline(mean, color='r', linestyle='--')\n",
    "ax_hist.axvline(median, color='g', linestyle='-')\n",
    "\n",
    "plt.legend({'Mean':mean,'Median':median})\n",
    "\n",
    "ax_box.set(xlabel='')\n",
    "plt.show()"
   ]
  },
  {
   "cell_type": "code",
   "execution_count": 75,
   "metadata": {},
   "outputs": [],
   "source": [
    "#Subcriber v Customer Rides\n",
    "grouped_user = data.groupby(data['usertype'])\n",
    "df_sub = grouped_user.get_group('Subscriber')\n",
    "df_cust = grouped_user.get_group('Customer')"
   ]
  },
  {
   "cell_type": "code",
   "execution_count": 76,
   "metadata": {},
   "outputs": [
    {
     "data": {
      "text/plain": [
       "count    587871.000000\n",
       "mean         13.365299\n",
       "std          14.662200\n",
       "min           1.000000\n",
       "25%           5.400000\n",
       "50%           8.933333\n",
       "75%          15.983333\n",
       "max         239.933333\n",
       "Name: tripduration, dtype: float64"
      ]
     },
     "execution_count": 76,
     "metadata": {},
     "output_type": "execute_result"
    }
   ],
   "source": [
    "df_sub['tripduration'].describe()"
   ]
  },
  {
   "cell_type": "code",
   "execution_count": 77,
   "metadata": {},
   "outputs": [
    {
     "data": {
      "image/png": "[encoded data removed]",
      "text/plain": [
       "<Figure size 432x288 with 1 Axes>"
      ]
     },
     "metadata": {
      "needs_background": "light"
     },
     "output_type": "display_data"
    }
   ],
   "source": [
    "sub_times = df_sub['tripduration']\n",
    "sub_times.plot.hist(grid=True, bins=240, rwidth=0.9)\n",
    "plt.title('Trip Duration of Subscriber Rides: Minneapolis 2017-19')\n",
    "plt.xlabel('Duration (min)')\n",
    "plt.ylabel('# of Rides')\n",
    "ticks=[]\n",
    "for i in range(250):\n",
    "    if i%10==0:\n",
    "        ticks.append(i)\n",
    "plt.xticks(ticks, rotation='vertical', size=8)\n",
    "\n",
    "plt.grid(axis='y', alpha=0.75)"
   ]
  },
  {
   "cell_type": "code",
   "execution_count": 78,
   "metadata": {},
   "outputs": [
    {
     "data": {
      "image/png": "[encoded data removed]",
      "text/plain": [
       "<Figure size 432x288 with 2 Axes>"
      ]
     },
     "metadata": {
      "needs_background": "light"
     },
     "output_type": "display_data"
    }
   ],
   "source": [
    "#Box plot and Dist plot with mean and median lines\n",
    "f, (ax_box, ax_hist) = plt.subplots(2, sharex=True, gridspec_kw= {\"height_ratios\": (0.2, 1)})\n",
    "mean=df_sub['tripduration'].mean()\n",
    "median=df_sub['tripduration'].median()\n",
    "\n",
    "sns.boxplot(df_sub['tripduration'], ax=ax_box)\n",
    "ax_box.axvline(mean, color='r', linestyle='--')\n",
    "ax_box.axvline(median, color='g', linestyle='-')\n",
    "\n",
    "sns.distplot(df_sub['tripduration'], ax=ax_hist)\n",
    "ax_hist.axvline(mean, color='r', linestyle='--')\n",
    "ax_hist.axvline(median, color='g', linestyle='-')\n",
    "\n",
    "plt.legend({'Mean':mean,'Median':median})\n",
    "\n",
    "ax_box.set(xlabel='')\n",
    "plt.show()"
   ]
  },
  {
   "cell_type": "code",
   "execution_count": 79,
   "metadata": {},
   "outputs": [
    {
     "data": {
      "text/plain": [
       "count    631449.000000\n",
       "mean         27.587532\n",
       "std          29.311962\n",
       "min           1.000000\n",
       "25%          10.316667\n",
       "50%          19.216667\n",
       "75%          31.550000\n",
       "max         239.966667\n",
       "Name: tripduration, dtype: float64"
      ]
     },
     "execution_count": 79,
     "metadata": {},
     "output_type": "execute_result"
    }
   ],
   "source": [
    "df_cust['tripduration'].describe()"
   ]
  },
  {
   "cell_type": "code",
   "execution_count": 81,
   "metadata": {},
   "outputs": [
    {
     "data": {
      "image/png": "[encoded data removed]",
      "text/plain": [
       "<Figure size 432x288 with 1 Axes>"
      ]
     },
     "metadata": {
      "needs_background": "light"
     },
     "output_type": "display_data"
    }
   ],
   "source": [
    "cust_times = df_cust['tripduration']\n",
    "cust_times.plot.hist(grid=True, bins=240, rwidth=0.9)\n",
    "plt.title('Trip Duration of Customer Rides: Minneapolis 2017-19')\n",
    "plt.xlabel('Duration (min)')\n",
    "plt.ylabel('# of Rides')\n",
    "ticks=[]\n",
    "for i in range(250):\n",
    "    if i%10==0:\n",
    "        ticks.append(i)\n",
    "plt.xticks(ticks, rotation='vertical', size=8)\n",
    "\n",
    "plt.grid(axis='y', alpha=0.75)"
   ]
  },
  {
   "cell_type": "code",
   "execution_count": 82,
   "metadata": {},
   "outputs": [
    {
     "data": {
      "image/png": "[encoded data removed]",
      "text/plain": [
       "<Figure size 432x288 with 2 Axes>"
      ]
     },
     "metadata": {
      "needs_background": "light"
     },
     "output_type": "display_data"
    }
   ],
   "source": [
    "#Box plot and Dist plot with mean and median lines\n",
    "f, (ax_box, ax_hist) = plt.subplots(2, sharex=True, gridspec_kw= {\"height_ratios\": (0.2, 1)})\n",
    "mean=df_cust['tripduration'].mean()\n",
    "median=df_cust['tripduration'].median()\n",
    "\n",
    "sns.boxplot(df_cust['tripduration'], ax=ax_box)\n",
    "ax_box.axvline(mean, color='r', linestyle='--')\n",
    "ax_box.axvline(median, color='g', linestyle='-')\n",
    "\n",
    "sns.distplot(df_cust['tripduration'], ax=ax_hist)\n",
    "ax_hist.axvline(mean, color='r', linestyle='--')\n",
    "ax_hist.axvline(median, color='g', linestyle='-')\n",
    "\n",
    "plt.legend({'Mean':mean,'Median':median})\n",
    "\n",
    "ax_box.set(xlabel='')\n",
    "plt.show()"
   ]
  },
  {
   "cell_type": "code",
   "execution_count": 83,
   "metadata": {},
   "outputs": [
    {
     "data": {
      "text/plain": [
       "count    384100.000000\n",
       "mean         26.537780\n",
       "std          28.041714\n",
       "min           1.000000\n",
       "25%          10.016667\n",
       "50%          18.666667\n",
       "75%          31.016667\n",
       "max         239.950000\n",
       "Name: tripduration, dtype: float64"
      ]
     },
     "execution_count": 83,
     "metadata": {},
     "output_type": "execute_result"
    }
   ],
   "source": [
    "weekend_df['tripduration'].describe()"
   ]
  },
  {
   "cell_type": "code",
   "execution_count": 85,
   "metadata": {},
   "outputs": [
    {
     "data": {
      "image/png": "[encoded data removed]",
      "text/plain": [
       "<Figure size 432x288 with 1 Axes>"
      ]
     },
     "metadata": {
      "needs_background": "light"
     },
     "output_type": "display_data"
    }
   ],
   "source": [
    "weekend_times = weekend_df['tripduration']\n",
    "weekend_times.plot.hist(grid=True, bins=240, rwidth=0.9)\n",
    "plt.title('Trip Duration of Weekend Rides: Minneapolis 2017-19')\n",
    "plt.xlabel('Duration (min)')\n",
    "plt.ylabel('# of Rides')\n",
    "ticks=[]\n",
    "for i in range(250):\n",
    "    if i%10==0:\n",
    "        ticks.append(i)\n",
    "plt.xticks(ticks, rotation='vertical', size=8)\n",
    "\n",
    "plt.grid(axis='y', alpha=0.75)"
   ]
  },
  {
   "cell_type": "code",
   "execution_count": 86,
   "metadata": {},
   "outputs": [
    {
     "data": {
      "text/plain": [
       "count    835222.000000\n",
       "mean         18.059981\n",
       "std          22.143956\n",
       "min           1.000000\n",
       "25%           6.200000\n",
       "50%          11.016667\n",
       "75%          21.633333\n",
       "max         239.966667\n",
       "Name: tripduration, dtype: float64"
      ]
     },
     "execution_count": 86,
     "metadata": {},
     "output_type": "execute_result"
    }
   ],
   "source": [
    "weekday_df['tripduration'].describe()"
   ]
  },
  {
   "cell_type": "code",
   "execution_count": 87,
   "metadata": {},
   "outputs": [
    {
     "data": {
      "image/png": "[encoded data removed]",
      "text/plain": [
       "<Figure size 432x288 with 1 Axes>"
      ]
     },
     "metadata": {
      "needs_background": "light"
     },
     "output_type": "display_data"
    }
   ],
   "source": [
    "weekday_times = weekday_df['tripduration']\n",
    "weekday_times.plot.hist(grid=True, bins=240, rwidth=0.9)\n",
    "plt.title('Trip Duration of Weekday Rides: Minneapolis 2017-19')\n",
    "plt.xlabel('Duration (min)')\n",
    "plt.ylabel('# of Rides')\n",
    "ticks=[]\n",
    "for i in range(250):\n",
    "    if i%10==0:\n",
    "        ticks.append(i)\n",
    "plt.xticks(ticks, rotation='vertical', size=8)\n",
    "\n",
    "plt.grid(axis='y', alpha=0.75)"
   ]
  },
  {
   "cell_type": "code",
   "execution_count": null,
   "metadata": {},
   "outputs": [],
   "source": []
  }
 ],
 "metadata": {
  "kernelspec": {
   "display_name": "Python 3",
   "language": "python",
   "name": "python3"
  },
  "language_info": {
   "codemirror_mode": {
    "name": "ipython",
    "version": 3
   },
   "file_extension": ".py",
   "mimetype": "text/x-python",
   "name": "python",
   "nbconvert_exporter": "python",
   "pygments_lexer": "ipython3",
   "version": "3.8.3rc1"
  }
 },
 "nbformat": 4,
 "nbformat_minor": 4
}
